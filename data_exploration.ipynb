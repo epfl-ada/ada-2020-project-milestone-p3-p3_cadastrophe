{
 "cells": [
  {
   "cell_type": "code",
   "execution_count": 1,
   "metadata": {},
   "outputs": [],
   "source": [
    "import pandas as pd"
   ]
  },
  {
   "cell_type": "code",
   "execution_count": 28,
   "metadata": {},
   "outputs": [],
   "source": [
    "df = pd.read_csv(\"systemicpeace.csv\", sep=\"\\t\")"
   ]
  },
  {
   "cell_type": "code",
   "execution_count": 29,
   "metadata": {},
   "outputs": [
    {
     "data": {
      "text/plain": [
       "402"
      ]
     },
     "execution_count": 29,
     "metadata": {},
     "output_type": "execute_result"
    }
   ],
   "source": [
    "df = pd.read_csv(\"systemicpeace.csv\", sep=\"\\t\")"
   ]
  },
  {
   "cell_type": "code",
   "execution_count": 30,
   "metadata": {},
   "outputs": [
    {
     "data": {
      "text/plain": [
       "Index(['Begin', 'End', 'Type', 'Mag', 'States Directly Involved',\n",
       "       'Brief Description', 'Deaths', 'References'],\n",
       "      dtype='object')"
      ]
     },
     "execution_count": 30,
     "metadata": {},
     "output_type": "execute_result"
    }
   ],
   "source": [
    "df.columns"
   ]
  },
  {
   "cell_type": "code",
   "execution_count": 38,
   "metadata": {},
   "outputs": [],
   "source": [
    "#list of used column from notes.txt\n",
    "cols = [\"warstds\", \"ager\", \"agexp\", \"anoc\", \"army85\", \"autch98\", \"auto4\",\n",
    "    \"autonomy\", \"avgnabo\", \"centpol3\", \"coldwar\", \"decade1\", \"decade2\",\n",
    "    \"decade3\", \"decade4\", \"dem\", \"dem4\", \"demch98\", \"dlang\", \"drel\", \"durable\",\n",
    "    \"ef\", \"ef2\", \"ehet\", \"elfo\", \"elfo2\", \"etdo4590\", \"expgdp\", \"exrec\",\n",
    "    \"fedpol3\", \"fuelexp\", \"gdpgrowth\", \"geo1\", \"geo2\", \"geo34\", \"geo57\",\n",
    "    \"geo69\", \"geo8\", \"illiteracy\", \"incumb\", \"infant\", \"inst\", \"inst3\", \"life\",\n",
    "    \"lmtnest\", \"ln_gdpen\", \"lpopns\", \"major\", \"manuexp\", \"milper\", \"mirps0\",\n",
    "    \"mirps1\", \"mirps2\", \"mirps3\", \"nat_war\", \"ncontig\", \"nmgdp\", \"nmdp4_alt\",\n",
    "    \"numlang\", \"nwstate\", \"oil\", \"p4mchg\", \"parcomp\", \"parreg\", \"part\",\n",
    "    \"partfree\", \"plural\", \"plurrel\", \"pol4\", \"pol4m\", \"pol4sq\", \"polch98\",\n",
    "    \"polcomp\", \"popdense\", \"presi\", \"pri\", \"proxregc\", \"ptime\", \"reg\",\n",
    "    \"regd4_alt\", \"relfrac\", \"seceduc\", \"second\", \"semipol3\", \"sip2\", \"sxpnew\",\n",
    "    \"sxpsq\", \"tnatwar\", \"trade\", \"warhist\", \"xconst\"]"
   ]
  },
  {
   "cell_type": "code",
   "execution_count": 39,
   "metadata": {},
   "outputs": [
    {
     "data": {
      "text/plain": [
       "116"
      ]
     },
     "execution_count": 39,
     "metadata": {},
     "output_type": "execute_result"
    }
   ],
   "source": [
    "df_sambanis[\"warstds\"].sum()"
   ]
  },
  {
   "cell_type": "code",
   "execution_count": 40,
   "metadata": {},
   "outputs": [],
   "source": [
    "df_sambanis = pd.read_csv(\"../p2/SambnisImp.csv\", usecols=cols)"
   ]
  },
  {
   "cell_type": "code",
   "execution_count": 80,
   "metadata": {},
   "outputs": [],
   "source": [
    "def import_Trade_Register():\n",
    "    line = \"\"\n",
    "    with open(\"Trade-Register-1950-2000.txt\", \"r\") as src_file:\n",
    "            with open(\"trade_reg.csv\", \"w\") as tar_file:\n",
    "                head = \"Supplier\tRecipient\tNo. ordered\tWeapon designation\tWeapon description\tYear of order\tYear of delivery\tNo. delivered\tComments\\n\"\n",
    "                tar_file.write(head)\n",
    "                src_lines = src_file.readlines()\n",
    "                for src_line in src_lines:\n",
    "                    #recipient\n",
    "                    if src_line.startswith(\"R:\"):\n",
    "                        #same recipient as above\n",
    "                        if src_line.startswith(\"R:\\t\"):\n",
    "                            line = str(supp)+ \"\\t\" + \\\n",
    "                                   str(reci)+ \"\\t\" + \\\n",
    "                                   src_line[4:]\n",
    "                        #new recipient\n",
    "                        else:\n",
    "                            reci = src_line.replace(\"R:\",\"\").split('\\t')[0]\n",
    "                            line = str(supp)+ \"\\t\" + \\\n",
    "                                   src_line\n",
    "                    #supplier line\n",
    "                    else:\n",
    "                        supp = src_line.strip()\n",
    "                        \n",
    "                    tar_file.write(line.replace(\"R:\",\"\"))\n",
    "                    line = \"\""
   ]
  },
  {
   "cell_type": "code",
   "execution_count": 81,
   "metadata": {},
   "outputs": [],
   "source": [
    "import_Trade_Register()"
   ]
  }
 ],
 "metadata": {
  "kernelspec": {
   "display_name": "pyt3.8",
   "language": "python",
   "name": "pyt3.8"
  },
  "language_info": {
   "codemirror_mode": {
    "name": "ipython",
    "version": 3
   },
   "file_extension": ".py",
   "mimetype": "text/x-python",
   "name": "python",
   "nbconvert_exporter": "python",
   "pygments_lexer": "ipython3",
   "version": "3.8.6"
  }
 },
 "nbformat": 4,
 "nbformat_minor": 4
}
