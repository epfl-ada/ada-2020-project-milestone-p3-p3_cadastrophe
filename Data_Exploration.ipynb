{
 "cells": [
  {
   "cell_type": "markdown",
   "metadata": {},
   "source": [
    "## Some data exploration"
   ]
  },
  {
   "cell_type": "code",
   "execution_count": 419,
   "metadata": {},
   "outputs": [],
   "source": [
    "# import statements \n",
    "import pandas as pd\n",
    "import numpy as np\n",
    "import matplotlib.pyplot as plt\n",
    "import datetime as dt"
   ]
  },
  {
   "cell_type": "markdown",
   "metadata": {},
   "source": [
    "quick look at the Sambanis dataset"
   ]
  },
  {
   "cell_type": "code",
   "execution_count": 420,
   "metadata": {},
   "outputs": [
    {
     "name": "stdout",
     "output_type": "stream",
     "text": [
      "Sambanis dataset has 7140 rows with 93 features.\n",
      "There are 116 civil war in the dataset.\n",
      "There are 72 different country which had a CW (some countries had multiple CW)\n",
      "The data ranges from 1945 to 2000. The first CW dates form 1946 and the last 1999\n"
     ]
    }
   ],
   "source": [
    "# 88 variables specified in Sambanis 2006, found in R code\n",
    "cols_sambanis = [\"warstds\", \"ager\", \"agexp\", \"anoc\", \"army85\", \"autch98\", \"auto4\",\n",
    "        \"autonomy\", \"avgnabo\", \"centpol3\", \"cowcode\", \"coldwar\", \"decade1\", \"decade2\",\n",
    "        \"decade3\", \"decade4\", \"dem\", \"dem4\", \"demch98\", \"dlang\", \"drel\",\n",
    "        \"durable\", \"ef\", \"ef2\", \"ehet\", \"elfo\", \"elfo2\", \"etdo4590\",\n",
    "        \"expgdp\", \"exrec\", \"fedpol3\", \"fuelexp\", \"gdpgrowth\", \"geo1\", \"geo2\",\n",
    "        \"geo34\", \"geo57\", \"geo69\", \"geo8\", \"illiteracy\", \"incumb\", \"infant\",\n",
    "        \"inst\", \"inst3\", \"life\", \"lmtnest\", \"ln_gdpen\", \"lpopns\", \"major\", \"manuexp\", \"milper\",\n",
    "        \"mirps0\", \"mirps1\", \"mirps2\", \"mirps3\", \"nat_war\", \"ncontig\",\n",
    "        \"nmgdp\", \"nmdp4_alt\", \"numlang\", \"nwstate\", \"oil\", \"p4mchg\",\n",
    "        \"parcomp\", \"parreg\", \"part\", \"partfree\", \"plural\", \"plurrel\",\n",
    "        \"pol4\", \"pol4m\", \"pol4sq\", \"polch98\", \"polcomp\", \"popdense\",\n",
    "        \"presi\", \"pri\", \"proxregc\", \"ptime\", \"reg\", \"regd4_alt\", \"relfrac\", \"seceduc\",\n",
    "        \"second\", \"semipol3\", \"sip2\", \"sxpnew\", \"sxpsq\", \"tnatwar\", \"trade\",\n",
    "        \"warhist\", \"xconst\", \"year\"]\n",
    "\n",
    "sambanis = pd.read_csv(\"SambnisImp.csv\", usecols=cols_sambanis)\n",
    "\n",
    "#keep only the year value for date (drop 1-january, dummy)\n",
    "#sambanis[\"year\"] = pd.DatetimeIndex(sambanis[\"year\"]).year\n",
    "\n",
    "\n",
    "### Print informations\n",
    "print(f'Sambanis dataset has {sambanis.shape[0]} rows with {sambanis.shape[1]} features.')\n",
    "#civil_war contains only the observations with a civil war\n",
    "civil_war = sambanis[sambanis[\"warstds\"]==1]\n",
    "print(f'There are {civil_war.shape[0]} civil war in the dataset.')\n",
    "nb_country_cw = len(civil_war['cowcode'].value_counts())\n",
    "print(f'There are {nb_country_cw} different country which had a CW (some countries had multiple CW)')\n",
    "print(f'The data ranges from 1945 to 2000. The first CW dates form {min(civil_war.year)} and the last {max(civil_war.year)}')"
   ]
  },
  {
   "cell_type": "code",
   "execution_count": 421,
   "metadata": {},
   "outputs": [],
   "source": [
    "var2label_s = dict({\n",
    "    \"sxpsq\":\"Primary Commodity Exports (Squared)\",\n",
    "    \"sxpnew\":\"Primary Commodity Exports\",\n",
    "    \"agexp\":\"Agricultural Raw Materials Exports\",\n",
    "    \"illiteracy\":\"Illiteracy Rate\",\n",
    "    \"manuexp\":\"Manufactures Exports\",\n",
    "    \"milper\":\"Military Power\",\n",
    "    \"fuelexp\":\"Fuel and Oil Exports\",\n",
    "    \"gdpgrowth\":\"GDP Growth\",\n",
    "    \"lpopns\": \"Population (logged)\",\n",
    "    \"trade\":\"Trade as Percent of GDP\",\n",
    "    \"expgdp\":\"Goods & Services Exports\",\n",
    "    \"nmgdp\":\"Neighbors' average GDP per capita)\",\n",
    "    \"popdense\":\"Population Density\",\n",
    "    \"ln_gdpen\":\"GDP per Capita (logged)\",\n",
    "    \"ptime\":\"ptime = ???\",\n",
    "    \"avgnabo\":\"Average SUP score of neighbors\",\n",
    "    \"pri\":\"Primary Education\",\n",
    "    \"ager\":\"Goverment age\",\n",
    "    \"infant\":\"Infant mortality\",\n",
    "    \"durable\":\"Year since last regime transition\",\n",
    "    \"life\":\"Life Expectancy\",\n",
    "    \"seceduc\":\"Secondary Education\",\n",
    "    \"dlang\":\"Linguistic Hetrogeneity\",\n",
    "    \"partfree\":\"Anocracy\",\n",
    "    \"part\":\"ln(Share of population voting x opposition's share \\\n",
    "of votes cast)\",\n",
    "    \"p4mchg\":\"Annual change in modified polity, Polity IV\",\n",
    "    \"demch98\":\"Democracy annual change; Polity 98\",\n",
    "    \"dem\":\"Democracy\",\n",
    "    \"incumb\":\"Consolidation of incumbent advantages (Przeworksi \\\n",
    "et al., 2000)\",\n",
    "    \"army85\":\"Military Power\",\n",
    "    \"major\":\"Majoritatian system\",\n",
    "    \"semipol3\": \"Semi-federal state, Polity III\",\n",
    "    \"oil\":\"Oil Exports per GDP\",\n",
    "    \"lmtnest\":\"Rough Terrain\",\n",
    "    \"autonomy\":\"Country has de facto autonomous regions\",\n",
    "    \"sip2\":\"Continuous measure of democracy\",\n",
    "    \"ehet\":\"Ethnic Heterogeneity\",\n",
    "    \"ef\":\"Ethnic Fractionalization\",\n",
    "    \"regd4_alt\":\"Median Regional Polity Score\",\n",
    "    \"pol4sq\":\"Polity Index squarred\",\n",
    "    \"presi\":\"Presidential system\",\n",
    "    \"proxregc\":\"Regime Transition Score\",\n",
    "    \"inst3\":\"Political Instability\",\n",
    "    \"xconst\":\"Executive constraints - operational independence of CE\",  \n",
    "})"
   ]
  },
  {
   "cell_type": "markdown",
   "metadata": {},
   "source": [
    "quick look at trade_reg.csv. created from Trade-Register-1950-2000.txt"
   ]
  },
  {
   "cell_type": "code",
   "execution_count": 422,
   "metadata": {},
   "outputs": [],
   "source": [
    "trade = pd.read_csv(\"trade_reg.csv\",sep='\\t')"
   ]
  },
  {
   "cell_type": "code",
   "execution_count": 423,
   "metadata": {},
   "outputs": [
    {
     "name": "stdout",
     "output_type": "stream",
     "text": [
      "The data ranges from (1940) to 2000.\n"
     ]
    },
    {
     "data": {
      "text/plain": [
       "United States          6226\n",
       "Soviet Union           3358\n",
       "France                 1854\n",
       "United Kingdom         1689\n",
       "Germany                 706\n",
       "Italy                   576\n",
       "China                   433\n",
       "Russia                  351\n",
       "Canada                  326\n",
       "Netherlands             324\n",
       "Sweden                  216\n",
       "Israel                  215\n",
       "Switzerland             209\n",
       "Unknown supplier(s)     141\n",
       "Czechoslovakia          110\n",
       "Name: supplier, dtype: int64"
      ]
     },
     "execution_count": 423,
     "metadata": {},
     "output_type": "execute_result"
    }
   ],
   "source": [
    "print(f'The data ranges from {min(trade.year_order)} to {max(trade.year_order)}.')\n",
    "#number of transaction\n",
    "trade.supplier.value_counts()[:15]"
   ]
  },
  {
   "cell_type": "code",
   "execution_count": 424,
   "metadata": {},
   "outputs": [
    {
     "data": {
      "text/plain": [
       "Egypt          433\n",
       "India          427\n",
       "Turkey         409\n",
       "Greece         407\n",
       "Thailand       382\n",
       "Israel         314\n",
       "South Korea    313\n",
       "Spain          299\n",
       "Argentina      298\n",
       "Taiwan         297\n",
       "Pakistan       290\n",
       "Iran           289\n",
       "Japan          284\n",
       "Indonesia      284\n",
       "Iraq           284\n",
       "Name: recipient, dtype: int64"
      ]
     },
     "execution_count": 424,
     "metadata": {},
     "output_type": "execute_result"
    }
   ],
   "source": [
    "#number of transaction\n",
    "trade.recipient.value_counts()[:15]"
   ]
  },
  {
   "cell_type": "markdown",
   "metadata": {},
   "source": [
    "Adding the \"country\" column in sambanis dataset based on the cowcodes"
   ]
  },
  {
   "cell_type": "code",
   "execution_count": 425,
   "metadata": {},
   "outputs": [],
   "source": [
    "#loading the cowcode dataset\n",
    "cowcodes = pd.read_csv(\"COW_country_codes.csv\")\n",
    "cowcodes = cowcodes.rename(columns={'CCode': 'cowcode', 'StateNme':'country'})\n",
    "#create the dictionaries\n",
    "dict_cowcode = dict(zip(cowcodes.cowcode,cowcodes.country))\n",
    "dict_cowcode_abb = dict(zip(cowcodes.cowcode,cowcodes.StateAbb))\n",
    "\n",
    "\n",
    "### MANUAL UPDATE BASED ON INCONSISTENCIES\n",
    "dict_cowcode.update({\n",
    "89: \"United Province CA\",\n",
    "99: \"Gran Colombia\",\n",
    "324: \"Sardinia\",\n",
    "342: \"Serbia\",\n",
    "347: \"Yugoslavia/Serbia and Montenegro\",\n",
    "348: \"Montenegro\",\n",
    "364: \"USSR\",\n",
    "525: \"South Sudan\",\n",
    "529: \"Ethiopia\",\n",
    "626: \"Sudan-North\",\n",
    "769: \"Pakistan\",\n",
    "818: \"Republic of Vietnam\"\n",
    "})\n",
    "\n",
    "dict_cowcode_abb.update({\n",
    "89: \"United Province CA\",\n",
    "99: \"Gran Colombia\",\n",
    "324: \"Sardinia\",\n",
    "342: \"Serbia\",\n",
    "347: \"Yugoslavia/Serbia and Montenegro\",\n",
    "348: \"Montenegro\",\n",
    "364: \"USSR\",\n",
    "525: \"South Sudan\",\n",
    "529: \"Ethiopia\",\n",
    "626: \"Sudan-North\",\n",
    "769: \"Pakistan\",\n",
    "818: \"VNM\"\n",
    "})\n",
    "\n",
    "dict_cowcode_abb[817] = \"VNM\"\n",
    "\n",
    "sambanis['country'] = sambanis.cowcode.map(dict_cowcode)\n",
    "sambanis['country_abb'] =sambanis.cowcode.map(dict_cowcode_abb) \n",
    "#don't know if it is necessary to add the abbreviation but I figured it could be useful"
   ]
  },
  {
   "cell_type": "markdown",
   "metadata": {},
   "source": [
    "Counting how many countries who had a civil war were also the recipient of weapons within a time range"
   ]
  },
  {
   "cell_type": "code",
   "execution_count": 426,
   "metadata": {},
   "outputs": [],
   "source": [
    "trade.year_order = trade.year_order.str.strip('( )') \n",
    "#j'ai juste enlevé les parenthèse mais je sais pas si on devrait garder ces lignes ou pas\n",
    "#trade.recipient = trade.recipient.str.strip(' ')\n",
    "\n",
    "#transform to datetime\n",
    "sambanis['year'] = pd.to_datetime(sambanis['year'],format='%Y')\n",
    "trade['year_order'] = pd.to_datetime(trade['year_order'],format='%Y')"
   ]
  },
  {
   "cell_type": "code",
   "execution_count": 427,
   "metadata": {},
   "outputs": [
    {
     "name": "stderr",
     "output_type": "stream",
     "text": [
      "<ipython-input-427-7ab86b3c87f1>:2: SettingWithCopyWarning: \n",
      "A value is trying to be set on a copy of a slice from a DataFrame.\n",
      "Try using .loc[row_indexer,col_indexer] = value instead\n",
      "\n",
      "See the caveats in the documentation: https://pandas.pydata.org/pandas-docs/stable/user_guide/indexing.html#returning-a-view-versus-a-copy\n",
      "  civil_war['import_weapons'] = 0\n"
     ]
    }
   ],
   "source": [
    "civil_war = sambanis[sambanis[\"warstds\"]==1]\n",
    "civil_war['import_weapons'] = 0"
   ]
  },
  {
   "cell_type": "code",
   "execution_count": 428,
   "metadata": {},
   "outputs": [
    {
     "name": "stderr",
     "output_type": "stream",
     "text": [
      "/home/toinou/Documents/venvs/pyt3.8/lib/python3.8/site-packages/pandas/core/indexing.py:1765: SettingWithCopyWarning: \n",
      "A value is trying to be set on a copy of a slice from a DataFrame.\n",
      "Try using .loc[row_indexer,col_indexer] = value instead\n",
      "\n",
      "See the caveats in the documentation: https://pandas.pydata.org/pandas-docs/stable/user_guide/indexing.html#returning-a-view-versus-a-copy\n",
      "  isetter(loc, value)\n"
     ]
    }
   ],
   "source": [
    "for id in civil_war.index:\n",
    "    country = civil_war.country.loc[id]\n",
    "    date = civil_war.year.loc[id]\n",
    "    start = date + dt.timedelta(days=-365) # 3 years, to be changed?\n",
    "    end = date + dt.timedelta(days=365)\n",
    "    mask = (trade['year_order'] >= start) & (trade['year_order'] <= end)\n",
    "    trade_tmp = trade.loc[mask]\n",
    "    if (trade_tmp.recipient.str.contains(country).sum()>0):\n",
    "        civil_war.loc[id,'import_weapons'] = 1"
   ]
  },
  {
   "cell_type": "code",
   "execution_count": 429,
   "metadata": {},
   "outputs": [
    {
     "data": {
      "text/plain": [
       "82"
      ]
     },
     "execution_count": 429,
     "metadata": {},
     "output_type": "execute_result"
    }
   ],
   "source": [
    "#number of civil war \"accompagnied\" by weaponery transactions\n",
    "civil_war['import_weapons'].sum() "
   ]
  },
  {
   "cell_type": "code",
   "execution_count": 430,
   "metadata": {},
   "outputs": [],
   "source": [
    "def plot_feat(df, country, feat, var2label=var2label_s,\n",
    "              ax=None, title=None):\n",
    "    tmp=df.loc[df[\"country\"]==country]\n",
    "    if ax != None:\n",
    "        ax.scatter(tmp.year, tmp[feat])\n",
    "        for onset in tmp.loc[tmp[\"warstds\"] == 1][\"year\"]:\n",
    "            ax.axvline(x=onset, c='r')\n",
    "        ax.set_title(title)\n",
    "    else:\n",
    "        plt.scatter(tmp.year, tmp[feat])\n",
    "        for onset in tmp.loc[tmp[\"warstds\"] == 1][\"year\"]:\n",
    "            plt.axvline(x=onset, c='r')\n",
    "        plt.title(var2label[feat])\n",
    "        plt.show()"
   ]
  },
  {
   "cell_type": "code",
   "execution_count": 431,
   "metadata": {},
   "outputs": [],
   "source": [
    "#\"high importance features\" ~ (cf Random Forest)\n",
    "feat_subset = [ \"sxpnew\",\n",
    "                \"illiteracy\",\n",
    "                \"milper\",\n",
    "                \"gdpgrowth\",\n",
    "                \"lpopns\",\n",
    "                \"pri\",\n",
    "                \"infant\",\n",
    "                \"life\",\n",
    "                \"seceduc\"\n",
    "              ]\n",
    "\n",
    "#list of countries affected by at least 1 CW\n",
    "CW_countries = list(sambanis.loc[sambanis[\"warstds\"]==1][\"country\"].drop_duplicates())"
   ]
  },
  {
   "cell_type": "code",
   "execution_count": 432,
   "metadata": {},
   "outputs": [
    {
     "data": {
      "text/plain": [
       "'\\n#iterate on the \"high priority features\"\\nfor key in feat_subset:\\n    #create enough column and row for \\n    fig, ax = plt.subplots(nrows=9, ncols=9, figsize=(50,50))\\n    j=0\\n    #iterate on the countries affected by civil war\\n    for i, country in enumerate(CW_countries):\\n        if i%9 == 0 and i != 0:\\n            j+=1\\n        plot_feat(sambanis, country, key, ax=ax[j,i%9], title=country)\\n    \\n    #save plot as pdf to enable lossless zooming using pdf viewer\\n    fig.savefig(fname=\"fig_\"+var2label_s[key]+\".pdf\", format=\"pdf\")\\n'"
      ]
     },
     "execution_count": 432,
     "metadata": {},
     "output_type": "execute_result"
    }
   ],
   "source": [
    "#ploting of features accross all the countries\n",
    "\"\"\"\n",
    "#iterate on the \"high priority features\"\n",
    "for key in feat_subset:\n",
    "    #create enough column and row for \n",
    "    fig, ax = plt.subplots(nrows=9, ncols=9, figsize=(50,50))\n",
    "    j=0\n",
    "    #iterate on the countries affected by civil war\n",
    "    for i, country in enumerate(CW_countries):\n",
    "        if i%9 == 0 and i != 0:\n",
    "            j+=1\n",
    "        plot_feat(sambanis, country, key, ax=ax[j,i%9], title=country)\n",
    "    \n",
    "    #save plot as pdf to enable lossless zooming using pdf viewer\n",
    "    fig.savefig(fname=\"fig_\"+var2label_s[key]+\".pdf\", format=\"pdf\")\n",
    "\"\"\""
   ]
  },
  {
   "cell_type": "markdown",
   "metadata": {},
   "source": [
    "### Antoine observations\n",
    "- GDP Growth : for several countries, the onset of CW is followed by a brutal drop (expected based on the replication work with Random Forest), it sometimes even becomes negative.\n",
    "- Illiteracy (adult): hard to tell, it seems to decrease with time overall, did not notice brutal spike (somehow logic; people don't forget how to read because of civil war. maybe try to detect delayed effect?)\n",
    "- Infant Mortality : definitely something, the onset are often associated with a big jump (ponctual)\n",
    "- Life Expectancy : super obvious, on CW onset year, the value is usually much lower\n",
    "- Military power : interesting as well, some \"jump to a new plateau\" can be observed (Vietnam for exemple) or just ponctual spike.\n",
    "- Population (logged) : Nothing visible except for Laos\n",
    "- Primary Commodity Export : sudden drop visible for african countries (Sierra Leone, Somalia, South Africa, Uganda, ..). Not visible for every single onset.\n",
    "- Primary Education : ponctual drop on onset year\n",
    "- Secondary Education : same as Primary. (Cuba seems interesting)"
   ]
  },
  {
   "cell_type": "code",
   "execution_count": 433,
   "metadata": {},
   "outputs": [],
   "source": [
    "#load the border dataset\n",
    "geodata = pd.read_csv(\"geodata.csv\")"
   ]
  },
  {
   "cell_type": "code",
   "execution_count": 434,
   "metadata": {},
   "outputs": [],
   "source": [
    "def comp_neighbour_feat(df, country, geodata=geodata):\n",
    "    tmp = list(geodata.loc[geodata[\"country_name\"] == country][\"country_border_name\"])\n",
    "    neigh_df = df.loc[df[\"country\"].isin(tmp)]\n",
    "    return neigh_df"
   ]
  },
  {
   "cell_type": "code",
   "execution_count": 435,
   "metadata": {},
   "outputs": [
    {
     "data": {
      "text/html": [
       "<div>\n",
       "<style scoped>\n",
       "    .dataframe tbody tr th:only-of-type {\n",
       "        vertical-align: middle;\n",
       "    }\n",
       "\n",
       "    .dataframe tbody tr th {\n",
       "        vertical-align: top;\n",
       "    }\n",
       "\n",
       "    .dataframe thead th {\n",
       "        text-align: right;\n",
       "    }\n",
       "</style>\n",
       "<table border=\"1\" class=\"dataframe\">\n",
       "  <thead>\n",
       "    <tr style=\"text-align: right;\">\n",
       "      <th></th>\n",
       "      <th>StateAbb</th>\n",
       "      <th>cowcode</th>\n",
       "      <th>country</th>\n",
       "    </tr>\n",
       "  </thead>\n",
       "  <tbody>\n",
       "    <tr>\n",
       "      <th>196</th>\n",
       "      <td>AFG</td>\n",
       "      <td>700</td>\n",
       "      <td>Afghanistan</td>\n",
       "    </tr>\n",
       "  </tbody>\n",
       "</table>\n",
       "</div>"
      ],
      "text/plain": [
       "    StateAbb  cowcode      country\n",
       "196      AFG      700  Afghanistan"
      ]
     },
     "execution_count": 435,
     "metadata": {},
     "output_type": "execute_result"
    }
   ],
   "source": [
    "cowcodes.loc[cowcodes[\"country\"] == \"Afghanistan\"]"
   ]
  },
  {
   "cell_type": "code",
   "execution_count": 436,
   "metadata": {},
   "outputs": [
    {
     "data": {
      "text/html": [
       "<div>\n",
       "<style scoped>\n",
       "    .dataframe tbody tr th:only-of-type {\n",
       "        vertical-align: middle;\n",
       "    }\n",
       "\n",
       "    .dataframe tbody tr th {\n",
       "        vertical-align: top;\n",
       "    }\n",
       "\n",
       "    .dataframe thead th {\n",
       "        text-align: right;\n",
       "    }\n",
       "</style>\n",
       "<table border=\"1\" class=\"dataframe\">\n",
       "  <thead>\n",
       "    <tr style=\"text-align: right;\">\n",
       "      <th></th>\n",
       "      <th>country_code</th>\n",
       "      <th>country_name</th>\n",
       "      <th>country_border_code</th>\n",
       "      <th>country_border_name</th>\n",
       "    </tr>\n",
       "  </thead>\n",
       "  <tbody>\n",
       "    <tr>\n",
       "      <th>4</th>\n",
       "      <td>AF</td>\n",
       "      <td>Afghanistan</td>\n",
       "      <td>CN</td>\n",
       "      <td>China</td>\n",
       "    </tr>\n",
       "    <tr>\n",
       "      <th>5</th>\n",
       "      <td>AF</td>\n",
       "      <td>Afghanistan</td>\n",
       "      <td>IR</td>\n",
       "      <td>Iran (Islamic Republic of)</td>\n",
       "    </tr>\n",
       "    <tr>\n",
       "      <th>6</th>\n",
       "      <td>AF</td>\n",
       "      <td>Afghanistan</td>\n",
       "      <td>PK</td>\n",
       "      <td>Pakistan</td>\n",
       "    </tr>\n",
       "    <tr>\n",
       "      <th>7</th>\n",
       "      <td>AF</td>\n",
       "      <td>Afghanistan</td>\n",
       "      <td>TJ</td>\n",
       "      <td>Tajikistan</td>\n",
       "    </tr>\n",
       "    <tr>\n",
       "      <th>8</th>\n",
       "      <td>AF</td>\n",
       "      <td>Afghanistan</td>\n",
       "      <td>TM</td>\n",
       "      <td>Turkmenistan</td>\n",
       "    </tr>\n",
       "    <tr>\n",
       "      <th>9</th>\n",
       "      <td>AF</td>\n",
       "      <td>Afghanistan</td>\n",
       "      <td>UZ</td>\n",
       "      <td>Uzbekistan</td>\n",
       "    </tr>\n",
       "  </tbody>\n",
       "</table>\n",
       "</div>"
      ],
      "text/plain": [
       "  country_code country_name country_border_code         country_border_name\n",
       "4           AF  Afghanistan                  CN                       China\n",
       "5           AF  Afghanistan                  IR  Iran (Islamic Republic of)\n",
       "6           AF  Afghanistan                  PK                    Pakistan\n",
       "7           AF  Afghanistan                  TJ                  Tajikistan\n",
       "8           AF  Afghanistan                  TM                Turkmenistan\n",
       "9           AF  Afghanistan                  UZ                  Uzbekistan"
      ]
     },
     "execution_count": 436,
     "metadata": {},
     "output_type": "execute_result"
    }
   ],
   "source": [
    "geodata.loc[geodata[\"country_name\"]==\"Afghanistan\"]"
   ]
  },
  {
   "cell_type": "code",
   "execution_count": 437,
   "metadata": {},
   "outputs": [
    {
     "data": {
      "text/html": [
       "<div>\n",
       "<style scoped>\n",
       "    .dataframe tbody tr th:only-of-type {\n",
       "        vertical-align: middle;\n",
       "    }\n",
       "\n",
       "    .dataframe tbody tr th {\n",
       "        vertical-align: top;\n",
       "    }\n",
       "\n",
       "    .dataframe thead th {\n",
       "        text-align: right;\n",
       "    }\n",
       "</style>\n",
       "<table border=\"1\" class=\"dataframe\">\n",
       "  <thead>\n",
       "    <tr style=\"text-align: right;\">\n",
       "      <th></th>\n",
       "      <th>cowcode</th>\n",
       "      <th>year</th>\n",
       "      <th>warstds</th>\n",
       "      <th>ptime</th>\n",
       "      <th>autonomy</th>\n",
       "      <th>popdense</th>\n",
       "      <th>army85</th>\n",
       "      <th>milper</th>\n",
       "      <th>trade</th>\n",
       "      <th>nmgdp</th>\n",
       "      <th>...</th>\n",
       "      <th>mirps3</th>\n",
       "      <th>sxpsq</th>\n",
       "      <th>pol4sq</th>\n",
       "      <th>decade1</th>\n",
       "      <th>decade2</th>\n",
       "      <th>decade3</th>\n",
       "      <th>decade4</th>\n",
       "      <th>proxregc</th>\n",
       "      <th>country</th>\n",
       "      <th>country_abb</th>\n",
       "    </tr>\n",
       "  </thead>\n",
       "  <tbody>\n",
       "    <tr>\n",
       "      <th>1246</th>\n",
       "      <td>710</td>\n",
       "      <td>1945-01-01</td>\n",
       "      <td>0</td>\n",
       "      <td>12</td>\n",
       "      <td>0.005858</td>\n",
       "      <td>116.966856</td>\n",
       "      <td>157819.9204</td>\n",
       "      <td>151.709933</td>\n",
       "      <td>71.578024</td>\n",
       "      <td>4527.962959</td>\n",
       "      <td>...</td>\n",
       "      <td>0.376234</td>\n",
       "      <td>0.050435</td>\n",
       "      <td>61.385113</td>\n",
       "      <td>0</td>\n",
       "      <td>0</td>\n",
       "      <td>0</td>\n",
       "      <td>0</td>\n",
       "      <td>0.146336</td>\n",
       "      <td>China</td>\n",
       "      <td>CHN</td>\n",
       "    </tr>\n",
       "    <tr>\n",
       "      <th>1247</th>\n",
       "      <td>710</td>\n",
       "      <td>1946-01-01</td>\n",
       "      <td>0</td>\n",
       "      <td>24</td>\n",
       "      <td>0.000000</td>\n",
       "      <td>100.706551</td>\n",
       "      <td>181078.2145</td>\n",
       "      <td>132.386317</td>\n",
       "      <td>47.379103</td>\n",
       "      <td>3223.125632</td>\n",
       "      <td>...</td>\n",
       "      <td>0.261949</td>\n",
       "      <td>0.022304</td>\n",
       "      <td>46.854656</td>\n",
       "      <td>0</td>\n",
       "      <td>0</td>\n",
       "      <td>0</td>\n",
       "      <td>0</td>\n",
       "      <td>1.000000</td>\n",
       "      <td>China</td>\n",
       "      <td>CHN</td>\n",
       "    </tr>\n",
       "    <tr>\n",
       "      <th>1248</th>\n",
       "      <td>710</td>\n",
       "      <td>1947-01-01</td>\n",
       "      <td>1</td>\n",
       "      <td>30</td>\n",
       "      <td>0.000000</td>\n",
       "      <td>102.028569</td>\n",
       "      <td>181950.8091</td>\n",
       "      <td>133.119056</td>\n",
       "      <td>47.270288</td>\n",
       "      <td>3235.100446</td>\n",
       "      <td>...</td>\n",
       "      <td>0.000000</td>\n",
       "      <td>0.022267</td>\n",
       "      <td>25.000000</td>\n",
       "      <td>0</td>\n",
       "      <td>0</td>\n",
       "      <td>0</td>\n",
       "      <td>0</td>\n",
       "      <td>1.000000</td>\n",
       "      <td>China</td>\n",
       "      <td>CHN</td>\n",
       "    </tr>\n",
       "    <tr>\n",
       "      <th>1249</th>\n",
       "      <td>710</td>\n",
       "      <td>1948-01-01</td>\n",
       "      <td>0</td>\n",
       "      <td>42</td>\n",
       "      <td>0.000000</td>\n",
       "      <td>104.708751</td>\n",
       "      <td>210077.2142</td>\n",
       "      <td>173.845392</td>\n",
       "      <td>57.672336</td>\n",
       "      <td>3691.509690</td>\n",
       "      <td>...</td>\n",
       "      <td>0.000000</td>\n",
       "      <td>0.031597</td>\n",
       "      <td>25.000000</td>\n",
       "      <td>0</td>\n",
       "      <td>0</td>\n",
       "      <td>0</td>\n",
       "      <td>0</td>\n",
       "      <td>1.000000</td>\n",
       "      <td>China</td>\n",
       "      <td>CHN</td>\n",
       "    </tr>\n",
       "    <tr>\n",
       "      <th>1250</th>\n",
       "      <td>710</td>\n",
       "      <td>1949-01-01</td>\n",
       "      <td>0</td>\n",
       "      <td>54</td>\n",
       "      <td>0.000000</td>\n",
       "      <td>100.279922</td>\n",
       "      <td>194740.3814</td>\n",
       "      <td>147.342853</td>\n",
       "      <td>47.668467</td>\n",
       "      <td>3249.816226</td>\n",
       "      <td>...</td>\n",
       "      <td>0.000000</td>\n",
       "      <td>0.021977</td>\n",
       "      <td>25.000000</td>\n",
       "      <td>0</td>\n",
       "      <td>0</td>\n",
       "      <td>0</td>\n",
       "      <td>0</td>\n",
       "      <td>1.000000</td>\n",
       "      <td>China</td>\n",
       "      <td>CHN</td>\n",
       "    </tr>\n",
       "    <tr>\n",
       "      <th>...</th>\n",
       "      <td>...</td>\n",
       "      <td>...</td>\n",
       "      <td>...</td>\n",
       "      <td>...</td>\n",
       "      <td>...</td>\n",
       "      <td>...</td>\n",
       "      <td>...</td>\n",
       "      <td>...</td>\n",
       "      <td>...</td>\n",
       "      <td>...</td>\n",
       "      <td>...</td>\n",
       "      <td>...</td>\n",
       "      <td>...</td>\n",
       "      <td>...</td>\n",
       "      <td>...</td>\n",
       "      <td>...</td>\n",
       "      <td>...</td>\n",
       "      <td>...</td>\n",
       "      <td>...</td>\n",
       "      <td>...</td>\n",
       "      <td>...</td>\n",
       "    </tr>\n",
       "    <tr>\n",
       "      <th>6741</th>\n",
       "      <td>704</td>\n",
       "      <td>1996-01-01</td>\n",
       "      <td>0</td>\n",
       "      <td>72</td>\n",
       "      <td>0.000000</td>\n",
       "      <td>119.133533</td>\n",
       "      <td>130072.9965</td>\n",
       "      <td>121.858694</td>\n",
       "      <td>73.004614</td>\n",
       "      <td>4495.004001</td>\n",
       "      <td>...</td>\n",
       "      <td>0.000000</td>\n",
       "      <td>0.052840</td>\n",
       "      <td>81.000000</td>\n",
       "      <td>0</td>\n",
       "      <td>0</td>\n",
       "      <td>0</td>\n",
       "      <td>0</td>\n",
       "      <td>0.003906</td>\n",
       "      <td>Uzbekistan</td>\n",
       "      <td>UZB</td>\n",
       "    </tr>\n",
       "    <tr>\n",
       "      <th>6742</th>\n",
       "      <td>704</td>\n",
       "      <td>1997-01-01</td>\n",
       "      <td>0</td>\n",
       "      <td>84</td>\n",
       "      <td>0.000000</td>\n",
       "      <td>119.948176</td>\n",
       "      <td>130413.3279</td>\n",
       "      <td>121.881064</td>\n",
       "      <td>73.063804</td>\n",
       "      <td>4496.395029</td>\n",
       "      <td>...</td>\n",
       "      <td>0.000000</td>\n",
       "      <td>0.052816</td>\n",
       "      <td>81.000000</td>\n",
       "      <td>0</td>\n",
       "      <td>0</td>\n",
       "      <td>0</td>\n",
       "      <td>0</td>\n",
       "      <td>0.000977</td>\n",
       "      <td>Uzbekistan</td>\n",
       "      <td>UZB</td>\n",
       "    </tr>\n",
       "    <tr>\n",
       "      <th>6743</th>\n",
       "      <td>704</td>\n",
       "      <td>1998-01-01</td>\n",
       "      <td>0</td>\n",
       "      <td>96</td>\n",
       "      <td>0.000000</td>\n",
       "      <td>118.667912</td>\n",
       "      <td>130582.6211</td>\n",
       "      <td>121.031052</td>\n",
       "      <td>72.771353</td>\n",
       "      <td>4517.247506</td>\n",
       "      <td>...</td>\n",
       "      <td>0.000000</td>\n",
       "      <td>0.052625</td>\n",
       "      <td>81.000000</td>\n",
       "      <td>0</td>\n",
       "      <td>0</td>\n",
       "      <td>0</td>\n",
       "      <td>0</td>\n",
       "      <td>0.000244</td>\n",
       "      <td>Uzbekistan</td>\n",
       "      <td>UZB</td>\n",
       "    </tr>\n",
       "    <tr>\n",
       "      <th>6744</th>\n",
       "      <td>704</td>\n",
       "      <td>1999-01-01</td>\n",
       "      <td>0</td>\n",
       "      <td>108</td>\n",
       "      <td>0.000000</td>\n",
       "      <td>118.815052</td>\n",
       "      <td>130309.0554</td>\n",
       "      <td>120.613178</td>\n",
       "      <td>72.799310</td>\n",
       "      <td>4515.555689</td>\n",
       "      <td>...</td>\n",
       "      <td>0.000000</td>\n",
       "      <td>0.052727</td>\n",
       "      <td>81.000000</td>\n",
       "      <td>0</td>\n",
       "      <td>0</td>\n",
       "      <td>0</td>\n",
       "      <td>0</td>\n",
       "      <td>0.000061</td>\n",
       "      <td>Uzbekistan</td>\n",
       "      <td>UZB</td>\n",
       "    </tr>\n",
       "    <tr>\n",
       "      <th>6745</th>\n",
       "      <td>704</td>\n",
       "      <td>2000-01-01</td>\n",
       "      <td>0</td>\n",
       "      <td>120</td>\n",
       "      <td>0.000000</td>\n",
       "      <td>118.859178</td>\n",
       "      <td>129922.1691</td>\n",
       "      <td>120.168199</td>\n",
       "      <td>72.830003</td>\n",
       "      <td>4514.665347</td>\n",
       "      <td>...</td>\n",
       "      <td>0.000000</td>\n",
       "      <td>0.052772</td>\n",
       "      <td>81.000000</td>\n",
       "      <td>0</td>\n",
       "      <td>0</td>\n",
       "      <td>0</td>\n",
       "      <td>0</td>\n",
       "      <td>0.000015</td>\n",
       "      <td>Uzbekistan</td>\n",
       "      <td>UZB</td>\n",
       "    </tr>\n",
       "  </tbody>\n",
       "</table>\n",
       "<p>140 rows × 95 columns</p>\n",
       "</div>"
      ],
      "text/plain": [
       "      cowcode       year  warstds  ptime  autonomy    popdense       army85  \\\n",
       "1246      710 1945-01-01        0     12  0.005858  116.966856  157819.9204   \n",
       "1247      710 1946-01-01        0     24  0.000000  100.706551  181078.2145   \n",
       "1248      710 1947-01-01        1     30  0.000000  102.028569  181950.8091   \n",
       "1249      710 1948-01-01        0     42  0.000000  104.708751  210077.2142   \n",
       "1250      710 1949-01-01        0     54  0.000000  100.279922  194740.3814   \n",
       "...       ...        ...      ...    ...       ...         ...          ...   \n",
       "6741      704 1996-01-01        0     72  0.000000  119.133533  130072.9965   \n",
       "6742      704 1997-01-01        0     84  0.000000  119.948176  130413.3279   \n",
       "6743      704 1998-01-01        0     96  0.000000  118.667912  130582.6211   \n",
       "6744      704 1999-01-01        0    108  0.000000  118.815052  130309.0554   \n",
       "6745      704 2000-01-01        0    120  0.000000  118.859178  129922.1691   \n",
       "\n",
       "          milper      trade        nmgdp  ...    mirps3     sxpsq     pol4sq  \\\n",
       "1246  151.709933  71.578024  4527.962959  ...  0.376234  0.050435  61.385113   \n",
       "1247  132.386317  47.379103  3223.125632  ...  0.261949  0.022304  46.854656   \n",
       "1248  133.119056  47.270288  3235.100446  ...  0.000000  0.022267  25.000000   \n",
       "1249  173.845392  57.672336  3691.509690  ...  0.000000  0.031597  25.000000   \n",
       "1250  147.342853  47.668467  3249.816226  ...  0.000000  0.021977  25.000000   \n",
       "...          ...        ...          ...  ...       ...       ...        ...   \n",
       "6741  121.858694  73.004614  4495.004001  ...  0.000000  0.052840  81.000000   \n",
       "6742  121.881064  73.063804  4496.395029  ...  0.000000  0.052816  81.000000   \n",
       "6743  121.031052  72.771353  4517.247506  ...  0.000000  0.052625  81.000000   \n",
       "6744  120.613178  72.799310  4515.555689  ...  0.000000  0.052727  81.000000   \n",
       "6745  120.168199  72.830003  4514.665347  ...  0.000000  0.052772  81.000000   \n",
       "\n",
       "      decade1  decade2  decade3  decade4  proxregc     country  country_abb  \n",
       "1246        0        0        0        0  0.146336       China          CHN  \n",
       "1247        0        0        0        0  1.000000       China          CHN  \n",
       "1248        0        0        0        0  1.000000       China          CHN  \n",
       "1249        0        0        0        0  1.000000       China          CHN  \n",
       "1250        0        0        0        0  1.000000       China          CHN  \n",
       "...       ...      ...      ...      ...       ...         ...          ...  \n",
       "6741        0        0        0        0  0.003906  Uzbekistan          UZB  \n",
       "6742        0        0        0        0  0.000977  Uzbekistan          UZB  \n",
       "6743        0        0        0        0  0.000244  Uzbekistan          UZB  \n",
       "6744        0        0        0        0  0.000061  Uzbekistan          UZB  \n",
       "6745        0        0        0        0  0.000015  Uzbekistan          UZB  \n",
       "\n",
       "[140 rows x 95 columns]"
      ]
     },
     "execution_count": 437,
     "metadata": {},
     "output_type": "execute_result"
    }
   ],
   "source": [
    "#return the values associated with the neighbouring countries\n",
    "#very practical to compute any kind of stats on them!\n",
    "comp_neighbour_feat(sambanis, \"Afghanistan\")"
   ]
  },
  {
   "cell_type": "code",
   "execution_count": 438,
   "metadata": {},
   "outputs": [
    {
     "data": {
      "text/plain": [
       "937     Cambodia\n",
       "1246       China\n",
       "4339     Myanmar\n",
       "6186    Thailand\n",
       "Name: country, dtype: object"
      ]
     },
     "execution_count": 438,
     "metadata": {},
     "output_type": "execute_result"
    }
   ],
   "source": [
    "comp_neighbour_feat(sambanis, \"Lao People's Democratic Republic\")[\"country\"].drop_duplicates()\n",
    "#comp_neighbour_feat(sambanis, \"Thailand\")[\"country\"].drop_duplicates()"
   ]
  },
  {
   "cell_type": "code",
   "execution_count": 439,
   "metadata": {},
   "outputs": [],
   "source": [
    "# correct the name of the country to facilitate the merge betwen sambanis and geodata\n",
    "dic_country_conv = dict({\n",
    "    \"Bolivia (Plurinational State Of)\":\"Bolivia\",\n",
    "    'Cabo Verde':'Cape Verde',\n",
    "    'Czechia':'Czech Republic',\n",
    "    'Congo (the Democratic Republic of the)':'Democratic Republic of the Congo',\n",
    "    'Gambia (the)':'Gambia',\n",
    "    'Iran (Islamic Republic of)':'Iran',\n",
    "    'Cote d’Ivoire':'Ivory Coast',\n",
    "    \"Lao People's Democratic Republic\":'Laos',\n",
    "    \"Moldova (the Republic of)\":'Moldova',\n",
    "    'Viet Nam':'Republic of Vietnam',\n",
    "    'Russian Federation':'Russia',\n",
    "    'Korea (the Republic of)':'South Korea',\n",
    "    'Eswatini':'Swaziland',\n",
    "    'Syrian Arab Republic':'Syria',\n",
    "    'Taiwan (Province of China)':'Taiwan',\n",
    "    'Tanzania (the United Republic of)':'Tanzania',\n",
    "    'United Kingdom of Great Britain and Northern Ireland':'United Kingdom',\n",
    "    'Venezuela (Bolivarian Republic of)':'Venezuela',\n",
    "    \n",
    "    \"Yemen People's Republic\":'Yemen',\n",
    "    'Yemen Arab Republic':'Yemen',\n",
    "    '???':'Czechoslovakia',\n",
    "    \"???\":'Yugoslavia',\n",
    "    \"???\":'Zanzibar',\n",
    "    \"???\":'Kosovo',\n",
    "    \"???\":'Macedonia'\n",
    "})\n",
    "#left a space between the countries that required manual handling\n",
    "\n",
    "#update the name of the countries in the geodata to allow a merge\n",
    "geodata[\"country_name\"].replace(to_replace=dic_country_conv, inplace=True)\n",
    "geodata[\"country_border_name\"].replace(to_replace=dic_country_conv, inplace=True)"
   ]
  },
  {
   "cell_type": "code",
   "execution_count": 440,
   "metadata": {},
   "outputs": [
    {
     "name": "stdout",
     "output_type": "stream",
     "text": [
      "Laos\n",
      "['Cambodia', 'China', 'Myanmar', 'Thailand', 'Republic of Vietnam']\n",
      "Thailand\n",
      "['Cambodia', 'Laos', 'Malaysia', 'Myanmar']\n"
     ]
    }
   ],
   "source": [
    "print(\"Laos\")\n",
    "print(list(comp_neighbour_feat(sambanis, \"Laos\")[\"country\"].drop_duplicates()))\n",
    "print(\"Thailand\")\n",
    "print(list(comp_neighbour_feat(sambanis, \"Thailand\")[\"country\"].drop_duplicates()))"
   ]
  },
  {
   "cell_type": "code",
   "execution_count": 441,
   "metadata": {},
   "outputs": [
    {
     "data": {
      "text/plain": [
       "{'Yemen Arab Republic',\n",
       " \"Yemen People's Republic\",\n",
       " 'Yugoslavia/Serbia and Montenegro'}"
      ]
     },
     "execution_count": 441,
     "metadata": {},
     "output_type": "execute_result"
    }
   ],
   "source": [
    "# countries experiencing civil war for which we don't have borders informations\n",
    "set(CW_countries)-set(geodata[\"country_name\"])"
   ]
  },
  {
   "cell_type": "code",
   "execution_count": 442,
   "metadata": {},
   "outputs": [
    {
     "data": {
      "text/plain": [
       "{'Czechoslovakia',\n",
       " 'German Federal Republic',\n",
       " 'Macedonia',\n",
       " 'USSR',\n",
       " 'Yemen Arab Republic',\n",
       " \"Yemen People's Republic\",\n",
       " 'Yugoslavia',\n",
       " 'Yugoslavia/Serbia and Montenegro',\n",
       " 'Zanzibar'}"
      ]
     },
     "execution_count": 442,
     "metadata": {},
     "output_type": "execute_result"
    }
   ],
   "source": [
    "#countries from sambanis for which we don't have geodata (potential neighbours)\n",
    "set(sambanis[\"country\"])-set(geodata[\"country_name\"])"
   ]
  },
  {
   "cell_type": "code",
   "execution_count": 443,
   "metadata": {},
   "outputs": [],
   "source": [
    "df_tiv_import = pd.read_csv(\"TIV-Import-All-1950-2019.csv\")\n",
    "df_tiv_export = pd.read_csv(\"TIV-Export-All-1950-2019.csv\")\n",
    "df_tiv_import.drop(columns=[\"Total\"], inplace=True)\n",
    "df_tiv_export.drop(columns=[\"Total\"], inplace=True)"
   ]
  },
  {
   "cell_type": "code",
   "execution_count": 444,
   "metadata": {},
   "outputs": [],
   "source": [
    "#update the country name conversion dictionnary\n",
    "dic_country_conv.update({\n",
    "    'Bosnia-Herzegovina':'Bosnia and Herzegovina',\n",
    "    'Cabo Verde':'Cape Verde',\n",
    "    'Viet Nam':'Republic of Vietnam',\n",
    "    'UAE':'United Arab Emirates',\n",
    "    'United States':'United States of America',\n",
    "    'South Yemen':\"Yemen People's Republic\",\n",
    "    'North Yemen':'Yemen Arab Republic',\n",
    "    'DR Congo':'Democratic Republic of the Congo',\n",
    "    \"Cote d'Ivoire\":'Ivory Coast'\n",
    "})\n",
    "\n",
    "#update the TIV import\n",
    "df_tiv_import[\"country\"].replace(to_replace=dic_country_conv, inplace=True)\n",
    "\n",
    "#update the TIV export\n",
    "df_tiv_export[\"country\"].replace(to_replace=dic_country_conv, inplace=True)"
   ]
  },
  {
   "cell_type": "code",
   "execution_count": 445,
   "metadata": {},
   "outputs": [
    {
     "data": {
      "text/plain": [
       "{'German Federal Republic',\n",
       " 'USSR',\n",
       " 'Yugoslavia/Serbia and Montenegro',\n",
       " 'Zanzibar'}"
      ]
     },
     "execution_count": 445,
     "metadata": {},
     "output_type": "execute_result"
    }
   ],
   "source": [
    "#countries from samabanis for which we don't have entries in tiv table\n",
    "set(sambanis[\"country\"]) - \\\n",
    "                set(sambanis[\"country\"]\n",
    "                   ).intersection(\n",
    "                set(df_tiv_import[\"country\"]))\n",
    "\n",
    "#German Federal Republic : West Gemarny, doesn't exist in TIV tables\n",
    "#Zanzibar : semi-autonomous region in Tanzania"
   ]
  },
  {
   "cell_type": "code",
   "execution_count": 446,
   "metadata": {},
   "outputs": [],
   "source": [
    "#CELL ABOVE MUST BE ADAPTED FOR THE EXPORT BUT MORE COMPLEX BECAUSE\n",
    "#IT'S POSSIBLE THAT SOME COUNTRIES DO NOT EXPORT WEAPONS."
   ]
  },
  {
   "cell_type": "code",
   "execution_count": 447,
   "metadata": {},
   "outputs": [
    {
     "data": {
      "text/plain": [
       "{'ANC (South Africa)*',\n",
       " 'African Union**',\n",
       " 'Amal (Lebanon)*',\n",
       " 'Anti-Castro rebels (Cuba)*',\n",
       " 'Armas (Guatemala)*',\n",
       " 'Biafra',\n",
       " 'Brunei',\n",
       " 'Contras (Nicaragua)*',\n",
       " 'Darfur rebels (Sudan)*',\n",
       " 'ELF (Ethiopia)*',\n",
       " 'EPLF (Ethiopia)*',\n",
       " 'East Germany (GDR)',\n",
       " 'Equatorial Guinea',\n",
       " 'FAN (Chad)*',\n",
       " 'FMLN (El Salvador)*',\n",
       " 'FNLA (Angola)*',\n",
       " 'FRELIMO (Portugal)*',\n",
       " 'GUNT (Chad)*',\n",
       " 'Haiti rebels*',\n",
       " 'Hamas (Palestine)*',\n",
       " 'Hezbollah (Lebanon)*',\n",
       " 'Houthi rebels (Yemen)*',\n",
       " 'Indonesia rebels*',\n",
       " 'Katanga',\n",
       " 'Khmer Rouge (Cambodia)*',\n",
       " 'Kiribati',\n",
       " 'Kosovo',\n",
       " 'LF (Lebanon)*',\n",
       " 'LRA (Uganda)*',\n",
       " 'LTTE (Sri Lanka)*',\n",
       " 'Lebanon Palestinian rebels*',\n",
       " 'Libya GNC',\n",
       " 'Libya HoR',\n",
       " 'MNLF (Philippines)*',\n",
       " 'MPLA (Portugal)*',\n",
       " 'MTA (Myanmar)*',\n",
       " 'Madagascar',\n",
       " 'Maldives',\n",
       " 'Marshall Islands',\n",
       " 'Micronesia',\n",
       " 'Montenegro',\n",
       " 'Mujahedin (Afghanistan)*',\n",
       " 'NATO**',\n",
       " 'NLA (Macedonia)*',\n",
       " 'NTC (Libya)*',\n",
       " 'North Korea',\n",
       " 'Northern Alliance (Afghanistan)*',\n",
       " 'Northern Cyprus',\n",
       " 'OSCE**',\n",
       " 'PAIGC (Portugal)*',\n",
       " 'PIJ (Israel/Palestine)*',\n",
       " 'PKK (Turkey)*',\n",
       " 'PLO (Israel)*',\n",
       " 'PRC (Israel/Palestine)*',\n",
       " 'Palau',\n",
       " 'Palestine',\n",
       " 'Pathet Lao (Laos)*',\n",
       " 'Provisional IRA (UK)*',\n",
       " 'RPF (Rwanda)*',\n",
       " 'RUF (Sierra Leone)*',\n",
       " 'Regional Security System**',\n",
       " 'SLA (Lebanon)*',\n",
       " 'SNA (Somalia)*',\n",
       " 'SPLA (Sudan)*',\n",
       " 'Saint Kitts and Nevis',\n",
       " 'Saint Vincent',\n",
       " 'Serbia',\n",
       " 'South Sudan',\n",
       " 'South Vietnam',\n",
       " 'Southern rebels (Yemen)*',\n",
       " 'Soviet Union',\n",
       " 'Syria rebels*',\n",
       " 'Timor-Leste',\n",
       " 'Tonga',\n",
       " 'Tuvalu',\n",
       " 'UIC (Somalia)*',\n",
       " 'UNITA (Angola)*',\n",
       " 'Ukraine Rebels*',\n",
       " 'United Nations**',\n",
       " 'United Wa State (Myanmar)*',\n",
       " 'Unknown rebel group*',\n",
       " 'Unknown recipient(s)',\n",
       " 'Viet Cong (South Vietnam)*',\n",
       " 'Viet Minh (France)*',\n",
       " 'Western Sahara',\n",
       " 'ZAPU (Zimbabwe)*'}"
      ]
     },
     "execution_count": 447,
     "metadata": {},
     "output_type": "execute_result"
    }
   ],
   "source": [
    "#list of entities in TIV tables that aren't associated to a country\n",
    "#from sambanis. A lot of them are rebel groups (potential actors of\n",
    "#the civil war)\n",
    "set(df_tiv_import[\"country\"]) - \\\n",
    "                set(sambanis[\"country\"]\n",
    "                    ).intersection(\n",
    "                set(df_tiv_import[\"country\"]))"
   ]
  },
  {
   "cell_type": "code",
   "execution_count": 448,
   "metadata": {},
   "outputs": [
    {
     "data": {
      "text/plain": [
       "{'Aruba',\n",
       " 'Brunei',\n",
       " 'East Germany (GDR)',\n",
       " 'European Union**',\n",
       " 'FMLN (El Salvador)*',\n",
       " 'Libya HoR',\n",
       " 'Montenegro',\n",
       " 'Mujahedin (Afghanistan)*',\n",
       " 'North Korea',\n",
       " 'Serbia',\n",
       " 'South Vietnam',\n",
       " 'Soviet Union',\n",
       " 'United Nations**',\n",
       " 'Unknown supplier(s)'}"
      ]
     },
     "execution_count": 448,
     "metadata": {},
     "output_type": "execute_result"
    }
   ],
   "source": [
    "#list of entities in TIV tables that aren't associated to a country\n",
    "#from sambanis. Contains rebel group, old countries and NGO\n",
    "set(df_tiv_export[\"country\"]) - set(sambanis[\"country\"]).intersection(set(df_tiv_export[\"country\"]))"
   ]
  },
  {
   "cell_type": "code",
   "execution_count": 449,
   "metadata": {},
   "outputs": [],
   "source": [
    "# melt the TIV df to enable merging on country and year columns\n",
    "tiv_imp_m = pd.melt(df_tiv_import,\n",
    "                    id_vars=\"country\",\n",
    "                    var_name=\"year\",\n",
    "                    value_name=\"tiv_imp\")\n",
    "tiv_exp_m = pd.melt(df_tiv_export,\n",
    "                    id_vars=\"country\",\n",
    "                    var_name=\"year\",\n",
    "                    value_name=\"tiv_exp\")\n",
    "\n",
    "#convert year column to datetime\n",
    "tiv_exp_m[\"year\"] = tiv_exp_m[\"year\"].apply(pd.to_datetime)\n",
    "tiv_imp_m[\"year\"] = tiv_imp_m[\"year\"].apply(pd.to_datetime)\n",
    "\n",
    "#merge on country and yeat, for TIV import and export\n",
    "sambanis = sambanis.merge(tiv_imp_m,\n",
    "                          on=[\"country\", \"year\"],\n",
    "                          how=\"left\")\n",
    "sambanis = sambanis.merge(tiv_exp_m,\n",
    "                          on=[\"country\", \"year\"],\n",
    "                          how=\"left\")"
   ]
  },
  {
   "cell_type": "code",
   "execution_count": 450,
   "metadata": {},
   "outputs": [
    {
     "data": {
      "text/html": [
       "<div>\n",
       "<style scoped>\n",
       "    .dataframe tbody tr th:only-of-type {\n",
       "        vertical-align: middle;\n",
       "    }\n",
       "\n",
       "    .dataframe tbody tr th {\n",
       "        vertical-align: top;\n",
       "    }\n",
       "\n",
       "    .dataframe thead th {\n",
       "        text-align: right;\n",
       "    }\n",
       "</style>\n",
       "<table border=\"1\" class=\"dataframe\">\n",
       "  <thead>\n",
       "    <tr style=\"text-align: right;\">\n",
       "      <th></th>\n",
       "      <th>year</th>\n",
       "      <th>warstds</th>\n",
       "      <th>popdense</th>\n",
       "      <th>country</th>\n",
       "      <th>trade</th>\n",
       "      <th>life</th>\n",
       "      <th>tiv_imp</th>\n",
       "      <th>tiv_exp</th>\n",
       "    </tr>\n",
       "  </thead>\n",
       "  <tbody>\n",
       "    <tr>\n",
       "      <th>0</th>\n",
       "      <td>1945-01-01</td>\n",
       "      <td>0</td>\n",
       "      <td>118.554791</td>\n",
       "      <td>Afghanistan</td>\n",
       "      <td>72.881375</td>\n",
       "      <td>61.348104</td>\n",
       "      <td>NaN</td>\n",
       "      <td>NaN</td>\n",
       "    </tr>\n",
       "    <tr>\n",
       "      <th>1</th>\n",
       "      <td>1946-01-01</td>\n",
       "      <td>0</td>\n",
       "      <td>117.756342</td>\n",
       "      <td>Afghanistan</td>\n",
       "      <td>72.900089</td>\n",
       "      <td>61.297733</td>\n",
       "      <td>NaN</td>\n",
       "      <td>NaN</td>\n",
       "    </tr>\n",
       "    <tr>\n",
       "      <th>2</th>\n",
       "      <td>1947-01-01</td>\n",
       "      <td>0</td>\n",
       "      <td>118.280656</td>\n",
       "      <td>Afghanistan</td>\n",
       "      <td>72.962880</td>\n",
       "      <td>61.285176</td>\n",
       "      <td>NaN</td>\n",
       "      <td>NaN</td>\n",
       "    </tr>\n",
       "    <tr>\n",
       "      <th>3</th>\n",
       "      <td>1948-01-01</td>\n",
       "      <td>0</td>\n",
       "      <td>118.325869</td>\n",
       "      <td>Afghanistan</td>\n",
       "      <td>73.102449</td>\n",
       "      <td>61.252967</td>\n",
       "      <td>NaN</td>\n",
       "      <td>NaN</td>\n",
       "    </tr>\n",
       "    <tr>\n",
       "      <th>4</th>\n",
       "      <td>1949-01-01</td>\n",
       "      <td>0</td>\n",
       "      <td>118.312296</td>\n",
       "      <td>Afghanistan</td>\n",
       "      <td>72.850389</td>\n",
       "      <td>61.301547</td>\n",
       "      <td>NaN</td>\n",
       "      <td>NaN</td>\n",
       "    </tr>\n",
       "    <tr>\n",
       "      <th>5</th>\n",
       "      <td>1950-01-01</td>\n",
       "      <td>0</td>\n",
       "      <td>118.752253</td>\n",
       "      <td>Afghanistan</td>\n",
       "      <td>72.768380</td>\n",
       "      <td>61.369983</td>\n",
       "      <td>NaN</td>\n",
       "      <td>NaN</td>\n",
       "    </tr>\n",
       "    <tr>\n",
       "      <th>6</th>\n",
       "      <td>1951-01-01</td>\n",
       "      <td>0</td>\n",
       "      <td>118.900216</td>\n",
       "      <td>Afghanistan</td>\n",
       "      <td>72.861897</td>\n",
       "      <td>61.352584</td>\n",
       "      <td>NaN</td>\n",
       "      <td>NaN</td>\n",
       "    </tr>\n",
       "    <tr>\n",
       "      <th>7</th>\n",
       "      <td>1952-01-01</td>\n",
       "      <td>0</td>\n",
       "      <td>118.660591</td>\n",
       "      <td>Afghanistan</td>\n",
       "      <td>72.825320</td>\n",
       "      <td>61.344844</td>\n",
       "      <td>NaN</td>\n",
       "      <td>NaN</td>\n",
       "    </tr>\n",
       "    <tr>\n",
       "      <th>8</th>\n",
       "      <td>1953-01-01</td>\n",
       "      <td>0</td>\n",
       "      <td>118.917614</td>\n",
       "      <td>Afghanistan</td>\n",
       "      <td>72.844025</td>\n",
       "      <td>61.379443</td>\n",
       "      <td>NaN</td>\n",
       "      <td>NaN</td>\n",
       "    </tr>\n",
       "    <tr>\n",
       "      <th>9</th>\n",
       "      <td>1954-01-01</td>\n",
       "      <td>0</td>\n",
       "      <td>118.635662</td>\n",
       "      <td>Afghanistan</td>\n",
       "      <td>72.696400</td>\n",
       "      <td>61.378966</td>\n",
       "      <td>NaN</td>\n",
       "      <td>NaN</td>\n",
       "    </tr>\n",
       "  </tbody>\n",
       "</table>\n",
       "</div>"
      ],
      "text/plain": [
       "        year  warstds    popdense      country      trade       life  tiv_imp  \\\n",
       "0 1945-01-01        0  118.554791  Afghanistan  72.881375  61.348104      NaN   \n",
       "1 1946-01-01        0  117.756342  Afghanistan  72.900089  61.297733      NaN   \n",
       "2 1947-01-01        0  118.280656  Afghanistan  72.962880  61.285176      NaN   \n",
       "3 1948-01-01        0  118.325869  Afghanistan  73.102449  61.252967      NaN   \n",
       "4 1949-01-01        0  118.312296  Afghanistan  72.850389  61.301547      NaN   \n",
       "5 1950-01-01        0  118.752253  Afghanistan  72.768380  61.369983      NaN   \n",
       "6 1951-01-01        0  118.900216  Afghanistan  72.861897  61.352584      NaN   \n",
       "7 1952-01-01        0  118.660591  Afghanistan  72.825320  61.344844      NaN   \n",
       "8 1953-01-01        0  118.917614  Afghanistan  72.844025  61.379443      NaN   \n",
       "9 1954-01-01        0  118.635662  Afghanistan  72.696400  61.378966      NaN   \n",
       "\n",
       "   tiv_exp  \n",
       "0      NaN  \n",
       "1      NaN  \n",
       "2      NaN  \n",
       "3      NaN  \n",
       "4      NaN  \n",
       "5      NaN  \n",
       "6      NaN  \n",
       "7      NaN  \n",
       "8      NaN  \n",
       "9      NaN  "
      ]
     },
     "execution_count": 450,
     "metadata": {},
     "output_type": "execute_result"
    }
   ],
   "source": [
    "sambanis[[\"year\", \"warstds\", \"popdense\", \"country\", \"trade\",\n",
    "          \"life\", \"tiv_imp\", \"tiv_exp\"]].head(10)"
   ]
  },
  {
   "cell_type": "code",
   "execution_count": 451,
   "metadata": {},
   "outputs": [],
   "source": [
    "dic_country_conv.update({\n",
    "    'USA':'United States of America',\n",
    "    'Congo, Dem. Rep.':'Democratic Republic of the Congo',\n",
    "    'UK':'United Kingdom',\n",
    "    'Côte d’Ivoire':'Ivory Coast',\n",
    "    'Yemen, North':'Yemen Arab Republic',\n",
    "    'Central African Rep.':'Central African Republic',\n",
    "    'Congo, Repubic of':'Congo',\n",
    "    'Congo, Republic of':'Congo',\n",
    "    'Dominican Rep.':'Dominican Republic',\n",
    "    'Korea, South':'South Korea',\n",
    "    'Trinidad & Tobago':'Trinidad and Tobago'\n",
    "    \n",
    "})"
   ]
  },
  {
   "cell_type": "code",
   "execution_count": 452,
   "metadata": {},
   "outputs": [
    {
     "data": {
      "text/html": [
       "<div>\n",
       "<style scoped>\n",
       "    .dataframe tbody tr th:only-of-type {\n",
       "        vertical-align: middle;\n",
       "    }\n",
       "\n",
       "    .dataframe tbody tr th {\n",
       "        vertical-align: top;\n",
       "    }\n",
       "\n",
       "    .dataframe thead th {\n",
       "        text-align: right;\n",
       "    }\n",
       "</style>\n",
       "<table border=\"1\" class=\"dataframe\">\n",
       "  <thead>\n",
       "    <tr style=\"text-align: right;\">\n",
       "      <th></th>\n",
       "      <th>country</th>\n",
       "      <th>Notes</th>\n",
       "      <th>1949</th>\n",
       "      <th>1950</th>\n",
       "      <th>1951</th>\n",
       "      <th>1952</th>\n",
       "      <th>1953</th>\n",
       "      <th>1954</th>\n",
       "      <th>1955</th>\n",
       "      <th>1956</th>\n",
       "      <th>...</th>\n",
       "      <th>2010</th>\n",
       "      <th>2011</th>\n",
       "      <th>2012</th>\n",
       "      <th>2013</th>\n",
       "      <th>2014</th>\n",
       "      <th>2015</th>\n",
       "      <th>2016</th>\n",
       "      <th>2017</th>\n",
       "      <th>2018</th>\n",
       "      <th>2019</th>\n",
       "    </tr>\n",
       "  </thead>\n",
       "  <tbody>\n",
       "    <tr>\n",
       "      <th>0</th>\n",
       "      <td>Africa</td>\n",
       "      <td>NaN</td>\n",
       "      <td>NaN</td>\n",
       "      <td>NaN</td>\n",
       "      <td>NaN</td>\n",
       "      <td>NaN</td>\n",
       "      <td>NaN</td>\n",
       "      <td>NaN</td>\n",
       "      <td>NaN</td>\n",
       "      <td>NaN</td>\n",
       "      <td>...</td>\n",
       "      <td>NaN</td>\n",
       "      <td>NaN</td>\n",
       "      <td>NaN</td>\n",
       "      <td>NaN</td>\n",
       "      <td>NaN</td>\n",
       "      <td>NaN</td>\n",
       "      <td>NaN</td>\n",
       "      <td>NaN</td>\n",
       "      <td>NaN</td>\n",
       "      <td>NaN</td>\n",
       "    </tr>\n",
       "    <tr>\n",
       "      <th>1</th>\n",
       "      <td>North Africa</td>\n",
       "      <td>NaN</td>\n",
       "      <td>NaN</td>\n",
       "      <td>NaN</td>\n",
       "      <td>NaN</td>\n",
       "      <td>NaN</td>\n",
       "      <td>NaN</td>\n",
       "      <td>NaN</td>\n",
       "      <td>NaN</td>\n",
       "      <td>NaN</td>\n",
       "      <td>...</td>\n",
       "      <td>NaN</td>\n",
       "      <td>NaN</td>\n",
       "      <td>NaN</td>\n",
       "      <td>NaN</td>\n",
       "      <td>NaN</td>\n",
       "      <td>NaN</td>\n",
       "      <td>NaN</td>\n",
       "      <td>NaN</td>\n",
       "      <td>NaN</td>\n",
       "      <td>NaN</td>\n",
       "    </tr>\n",
       "    <tr>\n",
       "      <th>2</th>\n",
       "      <td>Algeria</td>\n",
       "      <td>1</td>\n",
       "      <td>NaN</td>\n",
       "      <td>NaN</td>\n",
       "      <td>NaN</td>\n",
       "      <td>NaN</td>\n",
       "      <td>NaN</td>\n",
       "      <td>NaN</td>\n",
       "      <td>NaN</td>\n",
       "      <td>NaN</td>\n",
       "      <td>...</td>\n",
       "      <td>3.5</td>\n",
       "      <td>4.3</td>\n",
       "      <td>4.5</td>\n",
       "      <td>4.8</td>\n",
       "      <td>5.5</td>\n",
       "      <td>6.3</td>\n",
       "      <td>6.4</td>\n",
       "      <td>6.0</td>\n",
       "      <td>5.5</td>\n",
       "      <td>6.0</td>\n",
       "    </tr>\n",
       "    <tr>\n",
       "      <th>3</th>\n",
       "      <td>Libya</td>\n",
       "      <td>‡ ¶ 2</td>\n",
       "      <td>NaN</td>\n",
       "      <td>NaN</td>\n",
       "      <td>NaN</td>\n",
       "      <td>NaN</td>\n",
       "      <td>NaN</td>\n",
       "      <td>NaN</td>\n",
       "      <td>NaN</td>\n",
       "      <td>NaN</td>\n",
       "      <td>...</td>\n",
       "      <td>NaN</td>\n",
       "      <td>NaN</td>\n",
       "      <td>3.7</td>\n",
       "      <td>7.6</td>\n",
       "      <td>15.5</td>\n",
       "      <td>NaN</td>\n",
       "      <td>NaN</td>\n",
       "      <td>NaN</td>\n",
       "      <td>NaN</td>\n",
       "      <td>NaN</td>\n",
       "    </tr>\n",
       "    <tr>\n",
       "      <th>4</th>\n",
       "      <td>Morocco</td>\n",
       "      <td>3</td>\n",
       "      <td>NaN</td>\n",
       "      <td>NaN</td>\n",
       "      <td>NaN</td>\n",
       "      <td>NaN</td>\n",
       "      <td>NaN</td>\n",
       "      <td>NaN</td>\n",
       "      <td>NaN</td>\n",
       "      <td>1.2</td>\n",
       "      <td>...</td>\n",
       "      <td>3.4</td>\n",
       "      <td>3.3</td>\n",
       "      <td>3.5</td>\n",
       "      <td>3.8</td>\n",
       "      <td>3.7</td>\n",
       "      <td>3.2</td>\n",
       "      <td>3.2</td>\n",
       "      <td>3.2</td>\n",
       "      <td>3.1</td>\n",
       "      <td>3.1</td>\n",
       "    </tr>\n",
       "  </tbody>\n",
       "</table>\n",
       "<p>5 rows × 73 columns</p>\n",
       "</div>"
      ],
      "text/plain": [
       "        country  Notes  1949  1950  1951  1952  1953  1954  1955  1956  ...  \\\n",
       "0        Africa    NaN   NaN   NaN   NaN   NaN   NaN   NaN   NaN   NaN  ...   \n",
       "1  North Africa    NaN   NaN   NaN   NaN   NaN   NaN   NaN   NaN   NaN  ...   \n",
       "2       Algeria      1   NaN   NaN   NaN   NaN   NaN   NaN   NaN   NaN  ...   \n",
       "3         Libya  ‡ ¶ 2   NaN   NaN   NaN   NaN   NaN   NaN   NaN   NaN  ...   \n",
       "4       Morocco      3   NaN   NaN   NaN   NaN   NaN   NaN   NaN   1.2  ...   \n",
       "\n",
       "   2010  2011  2012  2013  2014  2015  2016  2017  2018  2019  \n",
       "0   NaN   NaN   NaN   NaN   NaN   NaN   NaN   NaN   NaN   NaN  \n",
       "1   NaN   NaN   NaN   NaN   NaN   NaN   NaN   NaN   NaN   NaN  \n",
       "2   3.5   4.3   4.5   4.8   5.5   6.3   6.4   6.0   5.5   6.0  \n",
       "3   NaN   NaN   3.7   7.6  15.5   NaN   NaN   NaN   NaN   NaN  \n",
       "4   3.4   3.3   3.5   3.8   3.7   3.2   3.2   3.2   3.1   3.1  \n",
       "\n",
       "[5 rows x 73 columns]"
      ]
     },
     "execution_count": 452,
     "metadata": {},
     "output_type": "execute_result"
    }
   ],
   "source": [
    "df_milexp_gdp = pd.read_csv(\"SIPRI_Milex_shareGDP_1949_2019.csv\",\n",
    "                            skiprows=5,\n",
    "                            sep=\"\\t\")\n",
    "#remove the footer\n",
    "df_milexp_gdp.drop(index=df_milexp_gdp.index[-8:], inplace=True)\n",
    "\n",
    "#replace the xxx (country did not exist at this time) and .. (data unavailable)\n",
    "df_milexp_gdp.replace([\"xxx\",\". .\"], np.NaN, inplace=True)\n",
    "\n",
    "#remove the % sign and convert to float\n",
    "year_cols = df_milexp_gdp.columns[2:]\n",
    "for i in year_cols:\n",
    "    df_milexp_gdp[i] = df_milexp_gdp[i].str.rstrip('%').astype('float')\n",
    "\n",
    "#lowercase the \"Country\" column\n",
    "df_milexp_gdp.rename(columns={\"Country\":\"country\"}, inplace=True)\n",
    "\n",
    "#convert the countries' name (to sambanis convention)\n",
    "df_milexp_gdp[\"country\"].replace(to_replace=dic_country_conv, inplace=True)\n",
    "\n",
    "df_milexp_gdp.head()"
   ]
  },
  {
   "cell_type": "code",
   "execution_count": 453,
   "metadata": {},
   "outputs": [
    {
     "data": {
      "text/html": [
       "<div>\n",
       "<style scoped>\n",
       "    .dataframe tbody tr th:only-of-type {\n",
       "        vertical-align: middle;\n",
       "    }\n",
       "\n",
       "    .dataframe tbody tr th {\n",
       "        vertical-align: top;\n",
       "    }\n",
       "\n",
       "    .dataframe thead th {\n",
       "        text-align: right;\n",
       "    }\n",
       "</style>\n",
       "<table border=\"1\" class=\"dataframe\">\n",
       "  <thead>\n",
       "    <tr style=\"text-align: right;\">\n",
       "      <th></th>\n",
       "      <th>country</th>\n",
       "      <th>Notes</th>\n",
       "      <th>Reporting year</th>\n",
       "      <th>1988</th>\n",
       "      <th>1989</th>\n",
       "      <th>1990</th>\n",
       "      <th>1991</th>\n",
       "      <th>1992</th>\n",
       "      <th>1993</th>\n",
       "      <th>1994</th>\n",
       "      <th>...</th>\n",
       "      <th>2010</th>\n",
       "      <th>2011</th>\n",
       "      <th>2012</th>\n",
       "      <th>2013</th>\n",
       "      <th>2014</th>\n",
       "      <th>2015</th>\n",
       "      <th>2016</th>\n",
       "      <th>2017</th>\n",
       "      <th>2018</th>\n",
       "      <th>2019</th>\n",
       "    </tr>\n",
       "  </thead>\n",
       "  <tbody>\n",
       "    <tr>\n",
       "      <th>0</th>\n",
       "      <td>Africa</td>\n",
       "      <td>NaN</td>\n",
       "      <td>NaN</td>\n",
       "      <td>NaN</td>\n",
       "      <td>NaN</td>\n",
       "      <td>NaN</td>\n",
       "      <td>NaN</td>\n",
       "      <td>NaN</td>\n",
       "      <td>NaN</td>\n",
       "      <td>NaN</td>\n",
       "      <td>...</td>\n",
       "      <td>NaN</td>\n",
       "      <td>NaN</td>\n",
       "      <td>NaN</td>\n",
       "      <td>NaN</td>\n",
       "      <td>NaN</td>\n",
       "      <td>NaN</td>\n",
       "      <td>NaN</td>\n",
       "      <td>NaN</td>\n",
       "      <td>NaN</td>\n",
       "      <td>NaN</td>\n",
       "    </tr>\n",
       "    <tr>\n",
       "      <th>1</th>\n",
       "      <td>North Africa</td>\n",
       "      <td>NaN</td>\n",
       "      <td>NaN</td>\n",
       "      <td>NaN</td>\n",
       "      <td>NaN</td>\n",
       "      <td>NaN</td>\n",
       "      <td>NaN</td>\n",
       "      <td>NaN</td>\n",
       "      <td>NaN</td>\n",
       "      <td>NaN</td>\n",
       "      <td>...</td>\n",
       "      <td>NaN</td>\n",
       "      <td>NaN</td>\n",
       "      <td>NaN</td>\n",
       "      <td>NaN</td>\n",
       "      <td>NaN</td>\n",
       "      <td>NaN</td>\n",
       "      <td>NaN</td>\n",
       "      <td>NaN</td>\n",
       "      <td>NaN</td>\n",
       "      <td>NaN</td>\n",
       "    </tr>\n",
       "    <tr>\n",
       "      <th>2</th>\n",
       "      <td>Algeria</td>\n",
       "      <td>1</td>\n",
       "      <td>NaN</td>\n",
       "      <td>NaN</td>\n",
       "      <td>NaN</td>\n",
       "      <td>5.7</td>\n",
       "      <td>4.4</td>\n",
       "      <td>7.5</td>\n",
       "      <td>7.6</td>\n",
       "      <td>10.1</td>\n",
       "      <td>...</td>\n",
       "      <td>9.4</td>\n",
       "      <td>10.8</td>\n",
       "      <td>10.2</td>\n",
       "      <td>13.4</td>\n",
       "      <td>13.7</td>\n",
       "      <td>13.7</td>\n",
       "      <td>15.3</td>\n",
       "      <td>15.4</td>\n",
       "      <td>14.5</td>\n",
       "      <td>15.5</td>\n",
       "    </tr>\n",
       "    <tr>\n",
       "      <th>3</th>\n",
       "      <td>Libya</td>\n",
       "      <td>‡ ¶ 2</td>\n",
       "      <td>NaN</td>\n",
       "      <td>NaN</td>\n",
       "      <td>NaN</td>\n",
       "      <td>NaN</td>\n",
       "      <td>NaN</td>\n",
       "      <td>NaN</td>\n",
       "      <td>NaN</td>\n",
       "      <td>NaN</td>\n",
       "      <td>...</td>\n",
       "      <td>NaN</td>\n",
       "      <td>NaN</td>\n",
       "      <td>8.2</td>\n",
       "      <td>8.7</td>\n",
       "      <td>10.8</td>\n",
       "      <td>NaN</td>\n",
       "      <td>NaN</td>\n",
       "      <td>NaN</td>\n",
       "      <td>NaN</td>\n",
       "      <td>NaN</td>\n",
       "    </tr>\n",
       "    <tr>\n",
       "      <th>4</th>\n",
       "      <td>Morocco</td>\n",
       "      <td>3</td>\n",
       "      <td>NaN</td>\n",
       "      <td>NaN</td>\n",
       "      <td>NaN</td>\n",
       "      <td>14.5</td>\n",
       "      <td>15.8</td>\n",
       "      <td>15.1</td>\n",
       "      <td>15.8</td>\n",
       "      <td>16.3</td>\n",
       "      <td>...</td>\n",
       "      <td>10.9</td>\n",
       "      <td>9.8</td>\n",
       "      <td>9.8</td>\n",
       "      <td>11.6</td>\n",
       "      <td>11.2</td>\n",
       "      <td>10.5</td>\n",
       "      <td>10.5</td>\n",
       "      <td>10.6</td>\n",
       "      <td>10.5</td>\n",
       "      <td>10.3</td>\n",
       "    </tr>\n",
       "  </tbody>\n",
       "</table>\n",
       "<p>5 rows × 35 columns</p>\n",
       "</div>"
      ],
      "text/plain": [
       "        country  Notes Reporting year  1988  1989  1990  1991  1992  1993  \\\n",
       "0        Africa    NaN            NaN   NaN   NaN   NaN   NaN   NaN   NaN   \n",
       "1  North Africa    NaN            NaN   NaN   NaN   NaN   NaN   NaN   NaN   \n",
       "2       Algeria      1            NaN   NaN   NaN   5.7   4.4   7.5   7.6   \n",
       "3         Libya  ‡ ¶ 2            NaN   NaN   NaN   NaN   NaN   NaN   NaN   \n",
       "4       Morocco      3            NaN   NaN   NaN  14.5  15.8  15.1  15.8   \n",
       "\n",
       "   1994  ...  2010  2011  2012  2013  2014  2015  2016  2017  2018  2019  \n",
       "0   NaN  ...   NaN   NaN   NaN   NaN   NaN   NaN   NaN   NaN   NaN   NaN  \n",
       "1   NaN  ...   NaN   NaN   NaN   NaN   NaN   NaN   NaN   NaN   NaN   NaN  \n",
       "2  10.1  ...   9.4  10.8  10.2  13.4  13.7  13.7  15.3  15.4  14.5  15.5  \n",
       "3   NaN  ...   NaN   NaN   8.2   8.7  10.8   NaN   NaN   NaN   NaN   NaN  \n",
       "4  16.3  ...  10.9   9.8   9.8  11.6  11.2  10.5  10.5  10.6  10.5  10.3  \n",
       "\n",
       "[5 rows x 35 columns]"
      ]
     },
     "execution_count": 453,
     "metadata": {},
     "output_type": "execute_result"
    }
   ],
   "source": [
    "df_milexp_spe = pd.read_csv(\"SIPRI_Milex_shareGovtspend_1949_2019.csv\",\n",
    "                            skiprows=7,\n",
    "                            sep=\"\\t\")\n",
    "\n",
    "#remove the footer\n",
    "df_milexp_spe.drop(index=df_milexp_spe.index[-7:], inplace=True)\n",
    "\n",
    "#replace the xxx (country did not exist at this time) and .. (data unavailable)\n",
    "df_milexp_spe.replace([\"xxx\",\". .\", '#VALUE!'], np.NaN, inplace=True)\n",
    "\n",
    "#remove the % sign and convert to float\n",
    "year_cols = df_milexp_spe.columns[3:]\n",
    "for i in year_cols:\n",
    "    df_milexp_spe[i] = df_milexp_spe[i].str.rstrip('%').astype('float')\n",
    "\n",
    "#lowercase the \"Country\" column\n",
    "df_milexp_spe.rename(columns={\"Country\":\"country\"}, inplace=True)\n",
    "\n",
    "#convert the countries' name (to sambanis convention)\n",
    "df_milexp_spe[\"country\"].replace(to_replace=dic_country_conv, inplace=True)\n",
    "\n",
    "df_milexp_spe.head()"
   ]
  },
  {
   "cell_type": "code",
   "execution_count": 454,
   "metadata": {},
   "outputs": [
    {
     "data": {
      "text/plain": [
       "{'Bahamas',\n",
       " 'Barbados',\n",
       " 'Bhutan',\n",
       " 'Comoros',\n",
       " 'German Federal Republic',\n",
       " 'Grenada',\n",
       " 'Macedonia',\n",
       " 'Samoa',\n",
       " 'Solomon Islands',\n",
       " 'Suriname',\n",
       " 'Swaziland',\n",
       " 'Vanuatu',\n",
       " \"Yemen People's Republic\",\n",
       " 'Yugoslavia/Serbia and Montenegro',\n",
       " 'Zanzibar'}"
      ]
     },
     "execution_count": 454,
     "metadata": {},
     "output_type": "execute_result"
    }
   ],
   "source": [
    "set(sambanis[\"country\"]) - set(sambanis[\"country\"]).intersection(set(df_milexp_gdp[\"country\"]))"
   ]
  },
  {
   "cell_type": "code",
   "execution_count": 455,
   "metadata": {},
   "outputs": [
    {
     "data": {
      "text/plain": [
       "{'Africa',\n",
       " 'Americas',\n",
       " 'Asia & Oceania',\n",
       " 'Brunei',\n",
       " 'Central America and the Caribbean',\n",
       " 'Central Asia',\n",
       " 'Central Europe',\n",
       " 'East Asia',\n",
       " 'Eastern Europe',\n",
       " 'Equatorial Guinea',\n",
       " 'Europe',\n",
       " 'German DR',\n",
       " 'Korea, North',\n",
       " 'Kosovo',\n",
       " 'Madagascar',\n",
       " 'Middle East',\n",
       " 'Montenegro',\n",
       " 'Norh Macedonia',\n",
       " 'North Africa',\n",
       " 'North America',\n",
       " 'Oceania',\n",
       " 'Serbia',\n",
       " 'South America',\n",
       " 'South Asia',\n",
       " 'South Sudan',\n",
       " 'South-East Asia',\n",
       " 'Sub-Saharan',\n",
       " 'Timor-Leste',\n",
       " 'Western Europe',\n",
       " 'eSwatini'}"
      ]
     },
     "execution_count": 455,
     "metadata": {},
     "output_type": "execute_result"
    }
   ],
   "source": [
    "set(df_milexp_gdp[\"country\"]) - set(sambanis[\"country\"]).intersection(set(df_milexp_gdp[\"country\"]))"
   ]
  },
  {
   "cell_type": "code",
   "execution_count": 456,
   "metadata": {},
   "outputs": [
    {
     "data": {
      "text/plain": [
       "{'Bahamas',\n",
       " 'Barbados',\n",
       " 'Bhutan',\n",
       " 'Comoros',\n",
       " 'German Federal Republic',\n",
       " 'Grenada',\n",
       " 'Macedonia',\n",
       " 'Samoa',\n",
       " 'Solomon Islands',\n",
       " 'Suriname',\n",
       " 'Swaziland',\n",
       " 'USSR',\n",
       " 'Vanuatu',\n",
       " \"Yemen People's Republic\",\n",
       " 'Yugoslavia/Serbia and Montenegro',\n",
       " 'Zanzibar'}"
      ]
     },
     "execution_count": 456,
     "metadata": {},
     "output_type": "execute_result"
    }
   ],
   "source": [
    "set(sambanis[\"country\"]) - set(sambanis[\"country\"]).intersection(set(df_milexp_spe[\"country\"]))"
   ]
  },
  {
   "cell_type": "code",
   "execution_count": 457,
   "metadata": {},
   "outputs": [
    {
     "data": {
      "text/plain": [
       "{'Africa',\n",
       " 'Americas',\n",
       " 'Asia & Oceania',\n",
       " 'Brunei',\n",
       " 'Central America and the Caribbean',\n",
       " 'Central Asia',\n",
       " 'Central Europe',\n",
       " 'East Asia',\n",
       " 'Eastern Europe',\n",
       " 'Equatorial Guinea',\n",
       " 'Europe',\n",
       " 'German DR',\n",
       " 'Korea, North',\n",
       " 'Kosovo',\n",
       " 'Madagascar',\n",
       " 'Middle East',\n",
       " 'Montenegro',\n",
       " 'North Africa',\n",
       " 'North America',\n",
       " 'North Macedonia',\n",
       " 'Oceania',\n",
       " 'Serbia',\n",
       " 'South America',\n",
       " 'South Asia',\n",
       " 'South Sudan',\n",
       " 'South-East Asia',\n",
       " 'Sub-Saharan',\n",
       " 'Timor-Leste',\n",
       " 'Western Europe',\n",
       " 'eSwatini'}"
      ]
     },
     "execution_count": 457,
     "metadata": {},
     "output_type": "execute_result"
    }
   ],
   "source": [
    "set(df_milexp_spe[\"country\"]) - set(sambanis[\"country\"]).intersection(set(df_milexp_spe[\"country\"]))"
   ]
  },
  {
   "cell_type": "code",
   "execution_count": 458,
   "metadata": {},
   "outputs": [],
   "source": [
    "# melt the TIV df to enable merging on country and year columns\n",
    "milexp_gdp_m = pd.melt(df_milexp_gdp.drop(columns=[\"Notes\"]),\n",
    "                    id_vars=\"country\",\n",
    "                    var_name=\"year\",\n",
    "                    value_name=\"milexp_gdp\")\n",
    "milexp_spe_m = pd.melt(df_milexp_spe.drop(columns=[\"Notes\", \"Reporting year\"]),\n",
    "                    id_vars=\"country\",\n",
    "                    var_name=\"year\",\n",
    "                    value_name=\"milexp_spe\")\n",
    "\n",
    "#convert year column to datetime\n",
    "milexp_gdp_m[\"year\"] = milexp_gdp_m[\"year\"].apply(pd.to_datetime)\n",
    "milexp_spe_m[\"year\"] = milexp_spe_m[\"year\"].apply(pd.to_datetime)\n",
    "\n",
    "#merge on country and yeat, for TIV import and export\n",
    "sambanis = sambanis.merge(milexp_gdp_m,\n",
    "                          on=[\"country\", \"year\"],\n",
    "                          how=\"left\")\n",
    "sambanis = sambanis.merge(milexp_spe_m,\n",
    "                          on=[\"country\", \"year\"],\n",
    "                          how=\"left\")"
   ]
  },
  {
   "cell_type": "code",
   "execution_count": 459,
   "metadata": {},
   "outputs": [
    {
     "data": {
      "text/html": [
       "<div>\n",
       "<style scoped>\n",
       "    .dataframe tbody tr th:only-of-type {\n",
       "        vertical-align: middle;\n",
       "    }\n",
       "\n",
       "    .dataframe tbody tr th {\n",
       "        vertical-align: top;\n",
       "    }\n",
       "\n",
       "    .dataframe thead th {\n",
       "        text-align: right;\n",
       "    }\n",
       "</style>\n",
       "<table border=\"1\" class=\"dataframe\">\n",
       "  <thead>\n",
       "    <tr style=\"text-align: right;\">\n",
       "      <th></th>\n",
       "      <th>cowcode</th>\n",
       "      <th>year</th>\n",
       "      <th>warstds</th>\n",
       "      <th>ptime</th>\n",
       "      <th>autonomy</th>\n",
       "      <th>popdense</th>\n",
       "      <th>army85</th>\n",
       "      <th>milper</th>\n",
       "      <th>trade</th>\n",
       "      <th>nmgdp</th>\n",
       "      <th>...</th>\n",
       "      <th>decade2</th>\n",
       "      <th>decade3</th>\n",
       "      <th>decade4</th>\n",
       "      <th>proxregc</th>\n",
       "      <th>country</th>\n",
       "      <th>country_abb</th>\n",
       "      <th>tiv_imp</th>\n",
       "      <th>tiv_exp</th>\n",
       "      <th>milexp_gdp</th>\n",
       "      <th>milexp_spe</th>\n",
       "    </tr>\n",
       "  </thead>\n",
       "  <tbody>\n",
       "    <tr>\n",
       "      <th>0</th>\n",
       "      <td>700</td>\n",
       "      <td>1945-01-01</td>\n",
       "      <td>0</td>\n",
       "      <td>12</td>\n",
       "      <td>0.005151</td>\n",
       "      <td>118.554791</td>\n",
       "      <td>129472.9042</td>\n",
       "      <td>121.087366</td>\n",
       "      <td>72.881375</td>\n",
       "      <td>4508.131692</td>\n",
       "      <td>...</td>\n",
       "      <td>0</td>\n",
       "      <td>0</td>\n",
       "      <td>0</td>\n",
       "      <td>0.143299</td>\n",
       "      <td>Afghanistan</td>\n",
       "      <td>AFG</td>\n",
       "      <td>NaN</td>\n",
       "      <td>NaN</td>\n",
       "      <td>NaN</td>\n",
       "      <td>NaN</td>\n",
       "    </tr>\n",
       "    <tr>\n",
       "      <th>1</th>\n",
       "      <td>700</td>\n",
       "      <td>1946-01-01</td>\n",
       "      <td>0</td>\n",
       "      <td>24</td>\n",
       "      <td>0.000000</td>\n",
       "      <td>117.756342</td>\n",
       "      <td>129413.0225</td>\n",
       "      <td>121.885359</td>\n",
       "      <td>72.900089</td>\n",
       "      <td>4491.340308</td>\n",
       "      <td>...</td>\n",
       "      <td>0</td>\n",
       "      <td>0</td>\n",
       "      <td>0</td>\n",
       "      <td>1.000000</td>\n",
       "      <td>Afghanistan</td>\n",
       "      <td>AFG</td>\n",
       "      <td>NaN</td>\n",
       "      <td>NaN</td>\n",
       "      <td>NaN</td>\n",
       "      <td>NaN</td>\n",
       "    </tr>\n",
       "    <tr>\n",
       "      <th>2</th>\n",
       "      <td>700</td>\n",
       "      <td>1947-01-01</td>\n",
       "      <td>0</td>\n",
       "      <td>36</td>\n",
       "      <td>0.000000</td>\n",
       "      <td>118.280656</td>\n",
       "      <td>130431.0145</td>\n",
       "      <td>122.780608</td>\n",
       "      <td>72.962880</td>\n",
       "      <td>4484.267686</td>\n",
       "      <td>...</td>\n",
       "      <td>0</td>\n",
       "      <td>0</td>\n",
       "      <td>0</td>\n",
       "      <td>1.000000</td>\n",
       "      <td>Afghanistan</td>\n",
       "      <td>AFG</td>\n",
       "      <td>NaN</td>\n",
       "      <td>NaN</td>\n",
       "      <td>NaN</td>\n",
       "      <td>NaN</td>\n",
       "    </tr>\n",
       "    <tr>\n",
       "      <th>3</th>\n",
       "      <td>700</td>\n",
       "      <td>1948-01-01</td>\n",
       "      <td>0</td>\n",
       "      <td>48</td>\n",
       "      <td>0.000000</td>\n",
       "      <td>118.325869</td>\n",
       "      <td>126781.6866</td>\n",
       "      <td>118.256427</td>\n",
       "      <td>73.102449</td>\n",
       "      <td>4474.082672</td>\n",
       "      <td>...</td>\n",
       "      <td>0</td>\n",
       "      <td>0</td>\n",
       "      <td>0</td>\n",
       "      <td>1.000000</td>\n",
       "      <td>Afghanistan</td>\n",
       "      <td>AFG</td>\n",
       "      <td>NaN</td>\n",
       "      <td>NaN</td>\n",
       "      <td>NaN</td>\n",
       "      <td>NaN</td>\n",
       "    </tr>\n",
       "    <tr>\n",
       "      <th>4</th>\n",
       "      <td>700</td>\n",
       "      <td>1949-01-01</td>\n",
       "      <td>0</td>\n",
       "      <td>60</td>\n",
       "      <td>0.000000</td>\n",
       "      <td>118.312296</td>\n",
       "      <td>130979.2470</td>\n",
       "      <td>122.245074</td>\n",
       "      <td>72.850389</td>\n",
       "      <td>4497.299503</td>\n",
       "      <td>...</td>\n",
       "      <td>0</td>\n",
       "      <td>0</td>\n",
       "      <td>0</td>\n",
       "      <td>1.000000</td>\n",
       "      <td>Afghanistan</td>\n",
       "      <td>AFG</td>\n",
       "      <td>NaN</td>\n",
       "      <td>NaN</td>\n",
       "      <td>NaN</td>\n",
       "      <td>NaN</td>\n",
       "    </tr>\n",
       "  </tbody>\n",
       "</table>\n",
       "<p>5 rows × 99 columns</p>\n",
       "</div>"
      ],
      "text/plain": [
       "   cowcode       year  warstds  ptime  autonomy    popdense       army85  \\\n",
       "0      700 1945-01-01        0     12  0.005151  118.554791  129472.9042   \n",
       "1      700 1946-01-01        0     24  0.000000  117.756342  129413.0225   \n",
       "2      700 1947-01-01        0     36  0.000000  118.280656  130431.0145   \n",
       "3      700 1948-01-01        0     48  0.000000  118.325869  126781.6866   \n",
       "4      700 1949-01-01        0     60  0.000000  118.312296  130979.2470   \n",
       "\n",
       "       milper      trade        nmgdp  ...  decade2  decade3  decade4  \\\n",
       "0  121.087366  72.881375  4508.131692  ...        0        0        0   \n",
       "1  121.885359  72.900089  4491.340308  ...        0        0        0   \n",
       "2  122.780608  72.962880  4484.267686  ...        0        0        0   \n",
       "3  118.256427  73.102449  4474.082672  ...        0        0        0   \n",
       "4  122.245074  72.850389  4497.299503  ...        0        0        0   \n",
       "\n",
       "   proxregc      country  country_abb  tiv_imp  tiv_exp  milexp_gdp  \\\n",
       "0  0.143299  Afghanistan          AFG      NaN      NaN         NaN   \n",
       "1  1.000000  Afghanistan          AFG      NaN      NaN         NaN   \n",
       "2  1.000000  Afghanistan          AFG      NaN      NaN         NaN   \n",
       "3  1.000000  Afghanistan          AFG      NaN      NaN         NaN   \n",
       "4  1.000000  Afghanistan          AFG      NaN      NaN         NaN   \n",
       "\n",
       "   milexp_spe  \n",
       "0         NaN  \n",
       "1         NaN  \n",
       "2         NaN  \n",
       "3         NaN  \n",
       "4         NaN  \n",
       "\n",
       "[5 rows x 99 columns]"
      ]
     },
     "execution_count": 459,
     "metadata": {},
     "output_type": "execute_result"
    }
   ],
   "source": [
    "sambanis.head()"
   ]
  },
  {
   "cell_type": "code",
   "execution_count": 460,
   "metadata": {},
   "outputs": [
    {
     "data": {
      "text/plain": [
       "[(Timestamp('1978-01-01 00:00:00'), 'Afghanistan'),\n",
       " (Timestamp('1962-01-01 00:00:00'), 'Algeria'),\n",
       " (Timestamp('1991-01-01 00:00:00'), 'Algeria'),\n",
       " (Timestamp('1975-01-01 00:00:00'), 'Angola'),\n",
       " (Timestamp('1955-01-01 00:00:00'), 'Argentina'),\n",
       " (Timestamp('1991-01-01 00:00:00'), 'Azerbaijan'),\n",
       " (Timestamp('1973-01-01 00:00:00'), 'Bangladesh'),\n",
       " (Timestamp('1952-01-01 00:00:00'), 'Bolivia'),\n",
       " (Timestamp('1992-01-01 00:00:00'), 'Bosnia and Herzegovina'),\n",
       " (Timestamp('1965-01-01 00:00:00'), 'Burundi')]"
      ]
     },
     "execution_count": 460,
     "metadata": {},
     "output_type": "execute_result"
    }
   ],
   "source": [
    "onsets = [(y[0],y[1]) for x, y in sambanis.loc[sambanis[\"warstds\"]==1][[\"year\",\"country\"]].iterrows()]\n",
    "onsets[:10]"
   ]
  },
  {
   "cell_type": "code",
   "execution_count": 461,
   "metadata": {},
   "outputs": [],
   "source": [
    "import seaborn as sns\n",
    "def display_onset_effect(df, country, onset_date, feat, t_win=3, ylim=[]):\n",
    "    onset_date = np.datetime64(onset_date)\n",
    "    start = onset_date - np.timedelta64(366*t_win+1, 'D')\n",
    "    end = onset_date + np.timedelta64(366*(t_win-1), 'D')\n",
    "    tmp = df.loc[(df[\"country\"] == country) & (df[\"year\"] <= end) & (df[\"year\"] >= start)]\n",
    "    sns.scatterplot(data=tmp,x=\"year\",y=feat)\n",
    "    plt.title(country)\n",
    "    plt.axvline(x=onset_date, c='r', ls=\"--\")\n",
    "    \n",
    "    if len(ylim) != 0:\n",
    "        plt.ylim(ylim)\n",
    "        \n",
    "def bin_onset_effect(df, country, onset_date, feat, t_win=3, threshold=0.1, inc=True, verbose=False):\n",
    "    \"\"\" compute the average over a year window for the given feature\n",
    "        return (1,1) if data was available and increase/decrease greater than the threshold\n",
    "        return (0,1) if data was available but variation smaller than threshold\n",
    "        return (0,0) if data is missing (year not present in the dataset)\n",
    "    \n",
    "        TODO : improve the data missing evaluation, check for NaN\n",
    "    \"\"\"\n",
    "    onset_date = np.datetime64(onset_date)\n",
    "    start = onset_date - np.timedelta64(366*t_win+1, 'D')\n",
    "    end = onset_date + np.timedelta64(366*(t_win-1), 'D')\n",
    "    tmp = df.loc[(df[\"country\"] == country) & (df[\"year\"] <= end) & (df[\"year\"] >= start)]\n",
    "    \n",
    "    if(len(tmp.loc[tmp[\"year\"]<onset_date]) < t_win) or \\\n",
    "        (len(tmp.loc[tmp[\"year\"]>=onset_date]) < t_win) or \\\n",
    "        (tmp.loc[tmp[\"year\"]<onset_date][feat].isnull().sum() > 1) or \\\n",
    "        (tmp.loc[tmp[\"year\"]>=onset_date][feat].isnull().sum() > 1):\n",
    "        return 0, 0\n",
    "    \n",
    "    before_mean = np.nanmean(tmp.loc[tmp[\"year\"]<onset_date][feat])\n",
    "    after_mean = np.nanmean(tmp.loc[tmp[\"year\"]>=onset_date][feat])\n",
    "    variation = (after_mean-before_mean)/before_mean\n",
    "    \n",
    "    if(verbose):\n",
    "        print(\"before\", before_mean)\n",
    "        print(\"after\", after_mean)\n",
    "        print(variation)\n",
    "    \n",
    "    #increase greater than threshold\n",
    "    if inc and variation >= threshold:\n",
    "        return 1, 1\n",
    "    #decrease greater than threshold\n",
    "    elif not inc and variation < 0 and np.abs(variation) > threshold :\n",
    "        return 1, 1\n",
    "    else:\n",
    "        return 0, 1"
   ]
  },
  {
   "cell_type": "code",
   "execution_count": 462,
   "metadata": {},
   "outputs": [
    {
     "data": {
      "text/plain": [
       "[(Timestamp('1978-01-01 00:00:00'), 'Afghanistan'),\n",
       " (Timestamp('1962-01-01 00:00:00'), 'Algeria'),\n",
       " (Timestamp('1991-01-01 00:00:00'), 'Algeria'),\n",
       " (Timestamp('1975-01-01 00:00:00'), 'Angola'),\n",
       " (Timestamp('1955-01-01 00:00:00'), 'Argentina'),\n",
       " (Timestamp('1991-01-01 00:00:00'), 'Azerbaijan'),\n",
       " (Timestamp('1973-01-01 00:00:00'), 'Bangladesh'),\n",
       " (Timestamp('1952-01-01 00:00:00'), 'Bolivia'),\n",
       " (Timestamp('1992-01-01 00:00:00'), 'Bosnia and Herzegovina'),\n",
       " (Timestamp('1965-01-01 00:00:00'), 'Burundi'),\n",
       " (Timestamp('1972-01-01 00:00:00'), 'Burundi'),\n",
       " (Timestamp('1988-01-01 00:00:00'), 'Burundi'),\n",
       " (Timestamp('1991-01-01 00:00:00'), 'Burundi'),\n",
       " (Timestamp('1970-01-01 00:00:00'), 'Cambodia'),\n",
       " (Timestamp('1979-01-01 00:00:00'), 'Cambodia'),\n",
       " (Timestamp('1996-01-01 00:00:00'), 'Central African Republic'),\n",
       " (Timestamp('1965-01-01 00:00:00'), 'Chad'),\n",
       " (Timestamp('1947-01-01 00:00:00'), 'China'),\n",
       " (Timestamp('1950-01-01 00:00:00'), 'China'),\n",
       " (Timestamp('1966-01-01 00:00:00'), 'China'),\n",
       " (Timestamp('1949-01-01 00:00:00'), 'Colombia'),\n",
       " (Timestamp('1984-01-01 00:00:00'), 'Colombia'),\n",
       " (Timestamp('1992-01-01 00:00:00'), 'Congo'),\n",
       " (Timestamp('1948-01-01 00:00:00'), 'Costa Rica'),\n",
       " (Timestamp('1995-01-01 00:00:00'), 'Croatia'),\n",
       " (Timestamp('1958-01-01 00:00:00'), 'Cuba'),\n",
       " (Timestamp('1963-01-01 00:00:00'), 'Cyprus'),\n",
       " (Timestamp('1974-01-01 00:00:00'), 'Cyprus'),\n",
       " (Timestamp('1991-01-01 00:00:00'), 'Djibouti'),\n",
       " (Timestamp('1965-01-01 00:00:00'), 'Dominican Republic'),\n",
       " (Timestamp('1979-01-01 00:00:00'), 'El Salvador'),\n",
       " (Timestamp('1974-01-01 00:00:00'), 'Ethiopia'),\n",
       " (Timestamp('1991-01-01 00:00:00'), 'Georgia'),\n",
       " (Timestamp('1954-01-01 00:00:00'), 'Guatemala'),\n",
       " (Timestamp('1966-01-01 00:00:00'), 'Guatemala'),\n",
       " (Timestamp('1978-01-01 00:00:00'), 'Guatemala'),\n",
       " (Timestamp('1998-01-01 00:00:00'), 'Guinea-Bissau'),\n",
       " (Timestamp('1991-01-01 00:00:00'), 'Haiti'),\n",
       " (Timestamp('1946-01-01 00:00:00'), 'India'),\n",
       " (Timestamp('1965-01-01 00:00:00'), 'India'),\n",
       " (Timestamp('1984-01-01 00:00:00'), 'India'),\n",
       " (Timestamp('1950-01-01 00:00:00'), 'Indonesia'),\n",
       " (Timestamp('1953-01-01 00:00:00'), 'Indonesia'),\n",
       " (Timestamp('1956-01-01 00:00:00'), 'Indonesia'),\n",
       " (Timestamp('1963-01-01 00:00:00'), 'Indonesia'),\n",
       " (Timestamp('1975-01-01 00:00:00'), 'Indonesia'),\n",
       " (Timestamp('1986-01-01 00:00:00'), 'Indonesia'),\n",
       " (Timestamp('1999-01-01 00:00:00'), 'Indonesia'),\n",
       " (Timestamp('1978-01-01 00:00:00'), 'Iran'),\n",
       " (Timestamp('1981-01-01 00:00:00'), 'Iran'),\n",
       " (Timestamp('1959-01-01 00:00:00'), 'Iraq'),\n",
       " (Timestamp('1961-01-01 00:00:00'), 'Iraq'),\n",
       " (Timestamp('1985-01-01 00:00:00'), 'Iraq'),\n",
       " (Timestamp('1947-01-01 00:00:00'), 'Israel'),\n",
       " (Timestamp('1971-01-01 00:00:00'), 'Jordan'),\n",
       " (Timestamp('1991-01-01 00:00:00'), 'Kenya'),\n",
       " (Timestamp('1950-01-01 00:00:00'), 'South Korea'),\n",
       " (Timestamp('1960-01-01 00:00:00'), 'Laos'),\n",
       " (Timestamp('1958-01-01 00:00:00'), 'Lebanon'),\n",
       " (Timestamp('1965-01-01 00:00:00'), 'Lebanon'),\n",
       " (Timestamp('1975-01-01 00:00:00'), 'Lebanon'),\n",
       " (Timestamp('1989-01-01 00:00:00'), 'Liberia'),\n",
       " (Timestamp('1992-01-01 00:00:00'), 'Liberia'),\n",
       " (Timestamp('1990-01-01 00:00:00'), 'Mali'),\n",
       " (Timestamp('1994-01-01 00:00:00'), 'Mexico'),\n",
       " (Timestamp('1990-01-01 00:00:00'), 'Moldova'),\n",
       " (Timestamp('1975-01-01 00:00:00'), 'Morocco'),\n",
       " (Timestamp('1976-01-01 00:00:00'), 'Mozambique'),\n",
       " (Timestamp('1948-01-01 00:00:00'), 'Myanmar'),\n",
       " (Timestamp('1968-01-01 00:00:00'), 'Myanmar'),\n",
       " (Timestamp('1965-01-01 00:00:00'), 'Namibia'),\n",
       " (Timestamp('1978-01-01 00:00:00'), 'Nicaragua'),\n",
       " (Timestamp('1981-01-01 00:00:00'), 'Nicaragua'),\n",
       " (Timestamp('1982-01-01 00:00:00'), 'Nicaragua'),\n",
       " (Timestamp('1966-01-01 00:00:00'), 'Nigeria'),\n",
       " (Timestamp('1980-01-01 00:00:00'), 'Nigeria'),\n",
       " (Timestamp('1971-01-01 00:00:00'), 'Pakistan'),\n",
       " (Timestamp('1973-01-01 00:00:00'), 'Pakistan'),\n",
       " (Timestamp('1988-01-01 00:00:00'), 'Papua New Guinea'),\n",
       " (Timestamp('1947-01-01 00:00:00'), 'Paraguay'),\n",
       " (Timestamp('1982-01-01 00:00:00'), 'Peru'),\n",
       " (Timestamp('1950-01-01 00:00:00'), 'Philippines'),\n",
       " (Timestamp('1972-01-01 00:00:00'), 'Philippines'),\n",
       " (Timestamp('1989-01-01 00:00:00'), 'Romania'),\n",
       " (Timestamp('1963-01-01 00:00:00'), 'Rwanda'),\n",
       " (Timestamp('1990-01-01 00:00:00'), 'Rwanda'),\n",
       " (Timestamp('1991-01-01 00:00:00'), 'Sierra Leone'),\n",
       " (Timestamp('1997-01-01 00:00:00'), 'Sierra Leone'),\n",
       " (Timestamp('1988-01-01 00:00:00'), 'Somalia'),\n",
       " (Timestamp('1976-01-01 00:00:00'), 'South Africa'),\n",
       " (Timestamp('1971-01-01 00:00:00'), 'Sri Lanka'),\n",
       " (Timestamp('1983-01-01 00:00:00'), 'Sri Lanka'),\n",
       " (Timestamp('1963-01-01 00:00:00'), 'Sudan'),\n",
       " (Timestamp('1983-01-01 00:00:00'), 'Sudan'),\n",
       " (Timestamp('1992-01-01 00:00:00'), 'Tajikistan'),\n",
       " (Timestamp('1967-01-01 00:00:00'), 'Thailand'),\n",
       " (Timestamp('1984-01-01 00:00:00'), 'Turkey'),\n",
       " (Timestamp('1969-01-01 00:00:00'), 'United Kingdom'),\n",
       " (Timestamp('1994-01-01 00:00:00'), 'Russia'),\n",
       " (Timestamp('1999-01-01 00:00:00'), 'Russia'),\n",
       " (Timestamp('1966-01-01 00:00:00'), 'Uganda'),\n",
       " (Timestamp('1978-01-01 00:00:00'), 'Uganda'),\n",
       " (Timestamp('1990-01-01 00:00:00'), 'Uganda'),\n",
       " (Timestamp('1960-01-01 00:00:00'), 'Republic of Vietnam'),\n",
       " (Timestamp('1990-01-01 00:00:00'), 'Yemen'),\n",
       " (Timestamp('1990-01-01 00:00:00'), 'Yemen'),\n",
       " (Timestamp('1962-01-01 00:00:00'), 'Yemen Arab Republic'),\n",
       " (Timestamp('1986-01-01 00:00:00'), \"Yemen People's Republic\"),\n",
       " (Timestamp('1991-01-01 00:00:00'), 'Yugoslavia/Serbia and Montenegro'),\n",
       " (Timestamp('1998-01-01 00:00:00'), 'Yugoslavia/Serbia and Montenegro'),\n",
       " (Timestamp('1960-01-01 00:00:00'), 'Democratic Republic of the Congo'),\n",
       " (Timestamp('1967-01-01 00:00:00'), 'Democratic Republic of the Congo'),\n",
       " (Timestamp('1977-01-01 00:00:00'), 'Democratic Republic of the Congo'),\n",
       " (Timestamp('1984-01-01 00:00:00'), 'Democratic Republic of the Congo'),\n",
       " (Timestamp('1991-01-01 00:00:00'), 'Democratic Republic of the Congo'),\n",
       " (Timestamp('1972-01-01 00:00:00'), 'Zimbabwe'),\n",
       " (Timestamp('1984-01-01 00:00:00'), 'Zimbabwe')]"
      ]
     },
     "execution_count": 462,
     "metadata": {},
     "output_type": "execute_result"
    }
   ],
   "source": [
    "onsets"
   ]
  },
  {
   "cell_type": "code",
   "execution_count": 463,
   "metadata": {},
   "outputs": [
    {
     "name": "stdout",
     "output_type": "stream",
     "text": [
      "(1, 1)\n"
     ]
    },
    {
     "data": {
      "image/png": "[encoded data removed]",
      "text/plain": [
       "<Figure size 432x288 with 1 Axes>"
      ]
     },
     "metadata": {
      "needs_background": "light"
     },
     "output_type": "display_data"
    }
   ],
   "source": [
    "feat = 'tiv_imp'\n",
    "rand_onset = onsets[np.random.randint(0,len(onsets),1)[0]]\n",
    "print(bin_onset_effect(sambanis, rand_onset[1], rand_onset[0], feat, 5, threshold=0.1))\n",
    "display_onset_effect(sambanis, rand_onset[1], rand_onset[0], feat, 5)"
   ]
  },
  {
   "cell_type": "code",
   "execution_count": 464,
   "metadata": {},
   "outputs": [
    {
     "name": "stdout",
     "output_type": "stream",
     "text": [
      "0.5591397849462365\n",
      "52\n",
      "93\n"
     ]
    }
   ],
   "source": [
    "threshold = 0.1\n",
    "feat = 'milper'\n",
    "win = 3\n",
    "incr = True\n",
    "\n",
    "sum_var = np.array([bin_onset_effect(sambanis,\n",
    "                                     ons[1],\n",
    "                                     ons[0],\n",
    "                                     feat,\n",
    "                                     win,\n",
    "                                     threshold,\n",
    "                                     incr\n",
    "                                    ) for ons in onsets])\n",
    "pos_onsets = [ons for ons in onsets if bin_onset_effect(sambanis, ons[1], ons[0], feat, win, threshold, incr) == (1,1)]\n",
    "print(sum_var[:,0].sum()/sum_var[:,1].sum())\n",
    "print(sum_var[:,0].sum()) #positive finding\n",
    "print(sum_var[:,1].sum()) #entries with available data"
   ]
  },
  {
   "cell_type": "code",
   "execution_count": 465,
   "metadata": {},
   "outputs": [],
   "source": [
    "incr_holder = []\n",
    "for feat in feat_subset:\n",
    "    dummy = [-1, -1, -1, -1, -1]\n",
    "    for i, thr in enumerate([0.1, 0.5, 1, 2, 4]):\n",
    "        tmp = np.array([bin_onset_effect(sambanis, ons[1], ons[0], feat, 3, thr, inc=True) for ons in onsets])\n",
    "        dummy[i] = tmp[:,0].sum()/tmp[:,1].sum()\n",
    "    incr_holder.append(dummy)\n",
    "    \n",
    "decr_holder = []\n",
    "for feat in feat_subset:\n",
    "    dummy = [-1, -1, -1, -1, -1]\n",
    "    for i, thr in enumerate([0.1, 0.5, 1, 2, 4]):\n",
    "        tmp = np.array([bin_onset_effect(sambanis, ons[1], ons[0], feat, 3, thr, inc=False) for ons in onsets])\n",
    "        dummy[i] = tmp[:,0].sum()/tmp[:,1].sum()\n",
    "    decr_holder.append(dummy)"
   ]
  },
  {
   "cell_type": "code",
   "execution_count": 466,
   "metadata": {},
   "outputs": [
    {
     "data": {
      "image/png": "[encoded data removed]",
      "text/plain": [
       "<Figure size 432x288 with 1 Axes>"
      ]
     },
     "metadata": {
      "needs_background": "light"
     },
     "output_type": "display_data"
    }
   ],
   "source": [
    "for i in range(len(feat_subset)):\n",
    "    plt.scatter([0.1, 0.5, 1, 2, 4], incr_holder[i], label=feat_subset[i])\n",
    "    plt.title(\"proportions\")\n",
    "plt.xlabel(\"increase variation threshold\")\n",
    "plt.ylabel(\"onsets proportion\")\n",
    "plt.legend()\n",
    "plt.show()"
   ]
  },
  {
   "cell_type": "code",
   "execution_count": 467,
   "metadata": {},
   "outputs": [
    {
     "data": {
      "image/png": "[encoded data removed]",
      "text/plain": [
       "<Figure size 432x288 with 1 Axes>"
      ]
     },
     "metadata": {
      "needs_background": "light"
     },
     "output_type": "display_data"
    }
   ],
   "source": [
    "for i in range(len(feat_subset)):\n",
    "    plt.scatter([0.1, 0.5, 1, 2, 4], decr_holder[i], label=feat_subset[i])\n",
    "    plt.title(\"proportions\")\n",
    "plt.xlabel(\"decrease variation threshold\")\n",
    "plt.ylabel(\"onsets proportion\")\n",
    "plt.legend()\n",
    "plt.show()"
   ]
  },
  {
   "cell_type": "code",
   "execution_count": 468,
   "metadata": {
    "scrolled": true
   },
   "outputs": [
    {
     "name": "stdout",
     "output_type": "stream",
     "text": [
      "before 55.0\n",
      "after 63.0\n",
      "0.14545454545454545\n",
      "(1, 1)\n"
     ]
    },
    {
     "data": {
      "image/png": "[encoded data removed]",
      "text/plain": [
       "<Figure size 432x288 with 1 Axes>"
      ]
     },
     "metadata": {
      "needs_background": "light"
     },
     "output_type": "display_data"
    }
   ],
   "source": [
    "#rand_onset = pos_onsets[np.random.randint(0,len(pos_onsets),1)[0]]\n",
    "print(bin_onset_effect(sambanis, rand_onset[1], rand_onset[0], 'milper', 3, threshold=0.1, verbose=True))\n",
    "display_onset_effect(sambanis, rand_onset[1], rand_onset[0], 'milper', 3)"
   ]
  },
  {
   "cell_type": "code",
   "execution_count": 469,
   "metadata": {},
   "outputs": [
    {
     "data": {
      "text/plain": [
       "'Democratic Republic of the Congo'"
      ]
     },
     "execution_count": 469,
     "metadata": {},
     "output_type": "execute_result"
    }
   ],
   "source": [
    "\"Democratic Republic of the Congo\""
   ]
  },
  {
   "cell_type": "code",
   "execution_count": 495,
   "metadata": {},
   "outputs": [],
   "source": [
    "def comp_neighbour_feat(df, country, onset_date, t_win=3, geodata=geodata):\n",
    "    #get the neighbours\n",
    "    tmp = list(geodata.loc[geodata[\"country_name\"] == country][\"country_border_name\"])\n",
    "    neigh_df = df.loc[df[\"country\"].isin(tmp)]\n",
    "    \n",
    "    #restrict the years\n",
    "    onset_date = np.datetime64(onset_date)\n",
    "    start = onset_date - np.timedelta64(365*t_win+1, 'D')\n",
    "    end = onset_date + np.timedelta64(365*(t_win-1), 'D')\n",
    "    neigh_df = neigh_df.loc[(df[\"year\"] <= end) & (df[\"year\"] >= start)]\n",
    "    \n",
    "    neigh_df.drop(columns=['cowcode', 'ptime',\n",
    "                           'autch98', 'demch98','polch98', 'country_abb',\n",
    "                           'decade1', 'decade2', 'decade3', 'decade4'],\n",
    "                  inplace=True)\n",
    "    \n",
    "    cols = list(neigh_df.columns[1:])\n",
    "    cols = cols[0:-5]+cols[-4:]\n",
    "    \n",
    "    #convert to numeric\n",
    "    neigh_df[cols[1:]] = neigh_df[cols[1:]].apply(pd.to_numeric, errors='coerce', axis=1)\n",
    "    \n",
    "    df_pre = pd.DataFrame()\n",
    "    df_pos = pd.DataFrame()\n",
    "    \n",
    "    #compute the mean of each feature before/after for each feature\n",
    "    for idx, group in neigh_df.groupby(\"country\"):\n",
    "        df_pre = pd.concat([df_pre,\n",
    "                            group.loc[group['year'] < onset_date][cols].apply(np.nanmean, axis=0).rename(idx)],\n",
    "                            axis=1)\n",
    "        df_pos = pd.concat([df_pos,\n",
    "                            group.loc[group['year'] >= onset_date][cols].apply(np.nanmean, axis=0).rename(idx)],\n",
    "                            axis=1)\n",
    "    df_pre = df_pre.T\n",
    "    df_pos = df_pos.T\n",
    "\n",
    "    if len(df_pre) == 0 or len(df_pos) == 0:\n",
    "        return pd.DataFrame(), pd.DataFrame()\n",
    "    else:\n",
    "        df_pre = df_pre.loc[df_pre['warstds']!=1]\n",
    "        df_pos = df_pos.loc[df_pos['warstds']!=1]\n",
    "        return df_pre, df_pos"
   ]
  },
  {
   "cell_type": "code",
   "execution_count": 484,
   "metadata": {},
   "outputs": [
    {
     "name": "stdout",
     "output_type": "stream",
     "text": [
      "Country CW onset :  Burundi\n"
     ]
    },
    {
     "name": "stderr",
     "output_type": "stream",
     "text": [
      "/home/toinou/Documents/venvs/pyt3.8/lib/python3.8/site-packages/pandas/core/apply.py:284: RuntimeWarning: Mean of empty slice\n",
      "  results[i] = self.f(v)\n"
     ]
    }
   ],
   "source": [
    "print(\"Country CW onset : \", onsets[10][1])\n",
    "pre, pos = comp_neighbour_feat(sambanis, onsets[10][1], onsets[10][0])"
   ]
  },
  {
   "cell_type": "code",
   "execution_count": 475,
   "metadata": {},
   "outputs": [
    {
     "data": {
      "text/html": [
       "<div>\n",
       "<style scoped>\n",
       "    .dataframe tbody tr th:only-of-type {\n",
       "        vertical-align: middle;\n",
       "    }\n",
       "\n",
       "    .dataframe tbody tr th {\n",
       "        vertical-align: top;\n",
       "    }\n",
       "\n",
       "    .dataframe thead th {\n",
       "        text-align: right;\n",
       "    }\n",
       "</style>\n",
       "<table border=\"1\" class=\"dataframe\">\n",
       "  <thead>\n",
       "    <tr style=\"text-align: right;\">\n",
       "      <th></th>\n",
       "      <th>warstds</th>\n",
       "      <th>autonomy</th>\n",
       "      <th>popdense</th>\n",
       "      <th>army85</th>\n",
       "      <th>milper</th>\n",
       "      <th>trade</th>\n",
       "      <th>nmgdp</th>\n",
       "      <th>expgdp</th>\n",
       "      <th>sxpnew</th>\n",
       "      <th>agexp</th>\n",
       "      <th>...</th>\n",
       "      <th>mirps1</th>\n",
       "      <th>mirps2</th>\n",
       "      <th>mirps3</th>\n",
       "      <th>sxpsq</th>\n",
       "      <th>pol4sq</th>\n",
       "      <th>proxregc</th>\n",
       "      <th>tiv_imp</th>\n",
       "      <th>tiv_exp</th>\n",
       "      <th>milexp_gdp</th>\n",
       "      <th>milexp_spe</th>\n",
       "    </tr>\n",
       "  </thead>\n",
       "  <tbody>\n",
       "  </tbody>\n",
       "</table>\n",
       "<p>0 rows × 87 columns</p>\n",
       "</div>"
      ],
      "text/plain": [
       "Empty DataFrame\n",
       "Columns: [warstds, autonomy, popdense, army85, milper, trade, nmgdp, expgdp, sxpnew, agexp, fuelexp, manuexp, p4mchg, fedpol3, semipol3, centpol3, seceduc, pri, xconst, parreg, parcomp, polcomp, partfree, major, presi, incumb, inst, lmtnest, oil, anoc, dem, elfo2, warhist, sip2, gdpgrowth, avgnabo, part, illiteracy, ehet, dlang, drel, infant, life, elfo, etdo4590, auto4, dem4, pol4, pol4m, ncontig, ef, plural, second, numlang, relfrac, plurrel, nwstate, reg, ager, durable, exrec, inst3, ln_gdpen, lpopns, coldwar, geo1, geo2, geo34, geo57, geo69, geo8, regd4_alt, nmdp4_alt, nat_war, tnatwar, ef2, mirps0, mirps1, mirps2, mirps3, sxpsq, pol4sq, proxregc, tiv_imp, tiv_exp, milexp_gdp, milexp_spe]\n",
       "Index: []\n",
       "\n",
       "[0 rows x 87 columns]"
      ]
     },
     "execution_count": 475,
     "metadata": {},
     "output_type": "execute_result"
    }
   ],
   "source": [
    "pre.loc[pre.warstds==1]\n",
    "pos.loc[pre.warstds==1]"
   ]
  },
  {
   "cell_type": "code",
   "execution_count": 476,
   "metadata": {},
   "outputs": [
    {
     "data": {
      "text/html": [
       "<div>\n",
       "<style scoped>\n",
       "    .dataframe tbody tr th:only-of-type {\n",
       "        vertical-align: middle;\n",
       "    }\n",
       "\n",
       "    .dataframe tbody tr th {\n",
       "        vertical-align: top;\n",
       "    }\n",
       "\n",
       "    .dataframe thead th {\n",
       "        text-align: right;\n",
       "    }\n",
       "</style>\n",
       "<table border=\"1\" class=\"dataframe\">\n",
       "  <thead>\n",
       "    <tr style=\"text-align: right;\">\n",
       "      <th></th>\n",
       "      <th>sxpnew</th>\n",
       "      <th>illiteracy</th>\n",
       "      <th>milper</th>\n",
       "      <th>gdpgrowth</th>\n",
       "      <th>lpopns</th>\n",
       "      <th>pri</th>\n",
       "      <th>infant</th>\n",
       "      <th>life</th>\n",
       "      <th>seceduc</th>\n",
       "    </tr>\n",
       "  </thead>\n",
       "  <tbody>\n",
       "    <tr>\n",
       "      <th>Democratic Republic of the Congo</th>\n",
       "      <td>-0.202362</td>\n",
       "      <td>0.543531</td>\n",
       "      <td>0.276316</td>\n",
       "      <td>-0.351507</td>\n",
       "      <td>0.004019</td>\n",
       "      <td>0.157895</td>\n",
       "      <td>-0.083916</td>\n",
       "      <td>0.018034</td>\n",
       "      <td>0.421053</td>\n",
       "    </tr>\n",
       "    <tr>\n",
       "      <th>Rwanda</th>\n",
       "      <td>-0.003669</td>\n",
       "      <td>0.485207</td>\n",
       "      <td>2.000000</td>\n",
       "      <td>-1.508428</td>\n",
       "      <td>0.005323</td>\n",
       "      <td>0.172414</td>\n",
       "      <td>-0.021082</td>\n",
       "      <td>0.004529</td>\n",
       "      <td>0.000000</td>\n",
       "    </tr>\n",
       "    <tr>\n",
       "      <th>Tanzania</th>\n",
       "      <td>-0.000898</td>\n",
       "      <td>0.377065</td>\n",
       "      <td>0.650000</td>\n",
       "      <td>1.248915</td>\n",
       "      <td>0.004531</td>\n",
       "      <td>0.040816</td>\n",
       "      <td>0.432405</td>\n",
       "      <td>0.021553</td>\n",
       "      <td>0.285714</td>\n",
       "    </tr>\n",
       "  </tbody>\n",
       "</table>\n",
       "</div>"
      ],
      "text/plain": [
       "                                    sxpnew  illiteracy    milper  gdpgrowth  \\\n",
       "Democratic Republic of the Congo -0.202362    0.543531  0.276316  -0.351507   \n",
       "Rwanda                           -0.003669    0.485207  2.000000  -1.508428   \n",
       "Tanzania                         -0.000898    0.377065  0.650000   1.248915   \n",
       "\n",
       "                                    lpopns       pri    infant      life  \\\n",
       "Democratic Republic of the Congo  0.004019  0.157895 -0.083916  0.018034   \n",
       "Rwanda                            0.005323  0.172414 -0.021082  0.004529   \n",
       "Tanzania                          0.004531  0.040816  0.432405  0.021553   \n",
       "\n",
       "                                   seceduc  \n",
       "Democratic Republic of the Congo  0.421053  \n",
       "Rwanda                            0.000000  \n",
       "Tanzania                          0.285714  "
      ]
     },
     "execution_count": 476,
     "metadata": {},
     "output_type": "execute_result"
    }
   ],
   "source": [
    "#compute the variation and transpose\n",
    "tmp = (pos[feat_subset]-pre[feat_subset])/pre[feat_subset]\n",
    "tmp"
   ]
  },
  {
   "cell_type": "code",
   "execution_count": 496,
   "metadata": {
    "scrolled": true
   },
   "outputs": [
    {
     "name": "stderr",
     "output_type": "stream",
     "text": [
      "/home/toinou/Documents/venvs/pyt3.8/lib/python3.8/site-packages/pandas/core/apply.py:284: RuntimeWarning: Mean of empty slice\n",
      "  results[i] = self.f(v)\n",
      "/home/toinou/Documents/venvs/pyt3.8/lib/python3.8/site-packages/pandas/core/apply.py:284: RuntimeWarning: Mean of empty slice\n",
      "  results[i] = self.f(v)\n",
      "/home/toinou/Documents/venvs/pyt3.8/lib/python3.8/site-packages/pandas/core/apply.py:284: RuntimeWarning: Mean of empty slice\n",
      "  results[i] = self.f(v)\n",
      "/home/toinou/Documents/venvs/pyt3.8/lib/python3.8/site-packages/pandas/core/apply.py:284: RuntimeWarning: Mean of empty slice\n",
      "  results[i] = self.f(v)\n",
      "/home/toinou/Documents/venvs/pyt3.8/lib/python3.8/site-packages/pandas/core/apply.py:284: RuntimeWarning: Mean of empty slice\n",
      "  results[i] = self.f(v)\n",
      "/home/toinou/Documents/venvs/pyt3.8/lib/python3.8/site-packages/pandas/core/apply.py:201: RuntimeWarning: Mean of empty slice\n",
      "  r = self.f(Series([], dtype=np.float64))\n",
      "/home/toinou/Documents/venvs/pyt3.8/lib/python3.8/site-packages/pandas/core/apply.py:209: RuntimeWarning: Mean of empty slice\n",
      "  r = self.f(Series([], dtype=np.float64))\n",
      "/home/toinou/Documents/venvs/pyt3.8/lib/python3.8/site-packages/pandas/core/apply.py:284: RuntimeWarning: Mean of empty slice\n",
      "  results[i] = self.f(v)\n",
      "/home/toinou/Documents/venvs/pyt3.8/lib/python3.8/site-packages/pandas/core/apply.py:284: RuntimeWarning: Mean of empty slice\n",
      "  results[i] = self.f(v)\n",
      "/home/toinou/Documents/venvs/pyt3.8/lib/python3.8/site-packages/pandas/core/apply.py:284: RuntimeWarning: Mean of empty slice\n",
      "  results[i] = self.f(v)\n",
      "/home/toinou/Documents/venvs/pyt3.8/lib/python3.8/site-packages/pandas/core/apply.py:201: RuntimeWarning: Mean of empty slice\n",
      "  r = self.f(Series([], dtype=np.float64))\n",
      "/home/toinou/Documents/venvs/pyt3.8/lib/python3.8/site-packages/pandas/core/apply.py:209: RuntimeWarning: Mean of empty slice\n",
      "  r = self.f(Series([], dtype=np.float64))\n",
      "/home/toinou/Documents/venvs/pyt3.8/lib/python3.8/site-packages/pandas/core/apply.py:284: RuntimeWarning: Mean of empty slice\n",
      "  results[i] = self.f(v)\n",
      "/home/toinou/Documents/venvs/pyt3.8/lib/python3.8/site-packages/pandas/core/apply.py:284: RuntimeWarning: Mean of empty slice\n",
      "  results[i] = self.f(v)\n",
      "/home/toinou/Documents/venvs/pyt3.8/lib/python3.8/site-packages/pandas/core/apply.py:284: RuntimeWarning: Mean of empty slice\n",
      "  results[i] = self.f(v)\n",
      "/home/toinou/Documents/venvs/pyt3.8/lib/python3.8/site-packages/pandas/core/apply.py:284: RuntimeWarning: Mean of empty slice\n",
      "  results[i] = self.f(v)\n",
      "/home/toinou/Documents/venvs/pyt3.8/lib/python3.8/site-packages/pandas/core/apply.py:284: RuntimeWarning: Mean of empty slice\n",
      "  results[i] = self.f(v)\n",
      "/home/toinou/Documents/venvs/pyt3.8/lib/python3.8/site-packages/pandas/core/apply.py:284: RuntimeWarning: Mean of empty slice\n",
      "  results[i] = self.f(v)\n",
      "/home/toinou/Documents/venvs/pyt3.8/lib/python3.8/site-packages/pandas/core/apply.py:284: RuntimeWarning: Mean of empty slice\n",
      "  results[i] = self.f(v)\n",
      "/home/toinou/Documents/venvs/pyt3.8/lib/python3.8/site-packages/pandas/core/apply.py:284: RuntimeWarning: Mean of empty slice\n",
      "  results[i] = self.f(v)\n",
      "/home/toinou/Documents/venvs/pyt3.8/lib/python3.8/site-packages/pandas/core/apply.py:284: RuntimeWarning: Mean of empty slice\n",
      "  results[i] = self.f(v)\n",
      "/home/toinou/Documents/venvs/pyt3.8/lib/python3.8/site-packages/pandas/core/apply.py:284: RuntimeWarning: Mean of empty slice\n",
      "  results[i] = self.f(v)\n",
      "/home/toinou/Documents/venvs/pyt3.8/lib/python3.8/site-packages/pandas/core/apply.py:201: RuntimeWarning: Mean of empty slice\n",
      "  r = self.f(Series([], dtype=np.float64))\n",
      "/home/toinou/Documents/venvs/pyt3.8/lib/python3.8/site-packages/pandas/core/apply.py:209: RuntimeWarning: Mean of empty slice\n",
      "  r = self.f(Series([], dtype=np.float64))\n",
      "/home/toinou/Documents/venvs/pyt3.8/lib/python3.8/site-packages/pandas/core/apply.py:284: RuntimeWarning: Mean of empty slice\n",
      "  results[i] = self.f(v)\n",
      "/home/toinou/Documents/venvs/pyt3.8/lib/python3.8/site-packages/pandas/core/apply.py:284: RuntimeWarning: Mean of empty slice\n",
      "  results[i] = self.f(v)\n",
      "/home/toinou/Documents/venvs/pyt3.8/lib/python3.8/site-packages/pandas/core/apply.py:284: RuntimeWarning: Mean of empty slice\n",
      "  results[i] = self.f(v)\n",
      "/home/toinou/Documents/venvs/pyt3.8/lib/python3.8/site-packages/pandas/core/apply.py:284: RuntimeWarning: Mean of empty slice\n",
      "  results[i] = self.f(v)\n",
      "/home/toinou/Documents/venvs/pyt3.8/lib/python3.8/site-packages/pandas/core/apply.py:284: RuntimeWarning: Mean of empty slice\n",
      "  results[i] = self.f(v)\n",
      "/home/toinou/Documents/venvs/pyt3.8/lib/python3.8/site-packages/pandas/core/apply.py:284: RuntimeWarning: Mean of empty slice\n",
      "  results[i] = self.f(v)\n",
      "/home/toinou/Documents/venvs/pyt3.8/lib/python3.8/site-packages/pandas/core/apply.py:284: RuntimeWarning: Mean of empty slice\n",
      "  results[i] = self.f(v)\n",
      "/home/toinou/Documents/venvs/pyt3.8/lib/python3.8/site-packages/pandas/core/apply.py:284: RuntimeWarning: Mean of empty slice\n",
      "  results[i] = self.f(v)\n",
      "/home/toinou/Documents/venvs/pyt3.8/lib/python3.8/site-packages/pandas/core/apply.py:284: RuntimeWarning: Mean of empty slice\n",
      "  results[i] = self.f(v)\n",
      "/home/toinou/Documents/venvs/pyt3.8/lib/python3.8/site-packages/pandas/core/apply.py:284: RuntimeWarning: Mean of empty slice\n",
      "  results[i] = self.f(v)\n",
      "/home/toinou/Documents/venvs/pyt3.8/lib/python3.8/site-packages/pandas/core/apply.py:284: RuntimeWarning: Mean of empty slice\n",
      "  results[i] = self.f(v)\n",
      "/home/toinou/Documents/venvs/pyt3.8/lib/python3.8/site-packages/pandas/core/apply.py:201: RuntimeWarning: Mean of empty slice\n",
      "  r = self.f(Series([], dtype=np.float64))\n",
      "/home/toinou/Documents/venvs/pyt3.8/lib/python3.8/site-packages/pandas/core/apply.py:209: RuntimeWarning: Mean of empty slice\n",
      "  r = self.f(Series([], dtype=np.float64))\n",
      "/home/toinou/Documents/venvs/pyt3.8/lib/python3.8/site-packages/pandas/core/apply.py:284: RuntimeWarning: Mean of empty slice\n",
      "  results[i] = self.f(v)\n",
      "/home/toinou/Documents/venvs/pyt3.8/lib/python3.8/site-packages/pandas/core/apply.py:284: RuntimeWarning: Mean of empty slice\n",
      "  results[i] = self.f(v)\n",
      "/home/toinou/Documents/venvs/pyt3.8/lib/python3.8/site-packages/pandas/core/apply.py:284: RuntimeWarning: Mean of empty slice\n",
      "  results[i] = self.f(v)\n",
      "/home/toinou/Documents/venvs/pyt3.8/lib/python3.8/site-packages/pandas/core/apply.py:284: RuntimeWarning: Mean of empty slice\n",
      "  results[i] = self.f(v)\n",
      "/home/toinou/Documents/venvs/pyt3.8/lib/python3.8/site-packages/pandas/core/apply.py:284: RuntimeWarning: Mean of empty slice\n",
      "  results[i] = self.f(v)\n",
      "/home/toinou/Documents/venvs/pyt3.8/lib/python3.8/site-packages/pandas/core/apply.py:284: RuntimeWarning: Mean of empty slice\n",
      "  results[i] = self.f(v)\n",
      "/home/toinou/Documents/venvs/pyt3.8/lib/python3.8/site-packages/pandas/core/apply.py:284: RuntimeWarning: Mean of empty slice\n",
      "  results[i] = self.f(v)\n",
      "/home/toinou/Documents/venvs/pyt3.8/lib/python3.8/site-packages/pandas/core/apply.py:201: RuntimeWarning: Mean of empty slice\n",
      "  r = self.f(Series([], dtype=np.float64))\n",
      "/home/toinou/Documents/venvs/pyt3.8/lib/python3.8/site-packages/pandas/core/apply.py:209: RuntimeWarning: Mean of empty slice\n",
      "  r = self.f(Series([], dtype=np.float64))\n",
      "/home/toinou/Documents/venvs/pyt3.8/lib/python3.8/site-packages/pandas/core/apply.py:284: RuntimeWarning: Mean of empty slice\n",
      "  results[i] = self.f(v)\n",
      "/home/toinou/Documents/venvs/pyt3.8/lib/python3.8/site-packages/pandas/core/apply.py:284: RuntimeWarning: Mean of empty slice\n",
      "  results[i] = self.f(v)\n",
      "/home/toinou/Documents/venvs/pyt3.8/lib/python3.8/site-packages/pandas/core/apply.py:201: RuntimeWarning: Mean of empty slice\n",
      "  r = self.f(Series([], dtype=np.float64))\n",
      "/home/toinou/Documents/venvs/pyt3.8/lib/python3.8/site-packages/pandas/core/apply.py:209: RuntimeWarning: Mean of empty slice\n",
      "  r = self.f(Series([], dtype=np.float64))\n",
      "/home/toinou/Documents/venvs/pyt3.8/lib/python3.8/site-packages/pandas/core/apply.py:284: RuntimeWarning: Mean of empty slice\n",
      "  results[i] = self.f(v)\n",
      "/home/toinou/Documents/venvs/pyt3.8/lib/python3.8/site-packages/pandas/core/apply.py:284: RuntimeWarning: Mean of empty slice\n",
      "  results[i] = self.f(v)\n",
      "/home/toinou/Documents/venvs/pyt3.8/lib/python3.8/site-packages/pandas/core/apply.py:284: RuntimeWarning: Mean of empty slice\n",
      "  results[i] = self.f(v)\n"
     ]
    },
    {
     "name": "stderr",
     "output_type": "stream",
     "text": [
      "/home/toinou/Documents/venvs/pyt3.8/lib/python3.8/site-packages/pandas/core/apply.py:201: RuntimeWarning: Mean of empty slice\n",
      "  r = self.f(Series([], dtype=np.float64))\n",
      "/home/toinou/Documents/venvs/pyt3.8/lib/python3.8/site-packages/pandas/core/apply.py:209: RuntimeWarning: Mean of empty slice\n",
      "  r = self.f(Series([], dtype=np.float64))\n",
      "/home/toinou/Documents/venvs/pyt3.8/lib/python3.8/site-packages/pandas/core/apply.py:284: RuntimeWarning: Mean of empty slice\n",
      "  results[i] = self.f(v)\n",
      "/home/toinou/Documents/venvs/pyt3.8/lib/python3.8/site-packages/pandas/core/apply.py:284: RuntimeWarning: Mean of empty slice\n",
      "  results[i] = self.f(v)\n",
      "/home/toinou/Documents/venvs/pyt3.8/lib/python3.8/site-packages/pandas/core/apply.py:284: RuntimeWarning: Mean of empty slice\n",
      "  results[i] = self.f(v)\n",
      "/home/toinou/Documents/venvs/pyt3.8/lib/python3.8/site-packages/pandas/core/apply.py:284: RuntimeWarning: Mean of empty slice\n",
      "  results[i] = self.f(v)\n",
      "/home/toinou/Documents/venvs/pyt3.8/lib/python3.8/site-packages/pandas/core/apply.py:284: RuntimeWarning: Mean of empty slice\n",
      "  results[i] = self.f(v)\n",
      "/home/toinou/Documents/venvs/pyt3.8/lib/python3.8/site-packages/pandas/core/apply.py:284: RuntimeWarning: Mean of empty slice\n",
      "  results[i] = self.f(v)\n",
      "/home/toinou/Documents/venvs/pyt3.8/lib/python3.8/site-packages/pandas/core/apply.py:201: RuntimeWarning: Mean of empty slice\n",
      "  r = self.f(Series([], dtype=np.float64))\n",
      "/home/toinou/Documents/venvs/pyt3.8/lib/python3.8/site-packages/pandas/core/apply.py:209: RuntimeWarning: Mean of empty slice\n",
      "  r = self.f(Series([], dtype=np.float64))\n",
      "/home/toinou/Documents/venvs/pyt3.8/lib/python3.8/site-packages/pandas/core/apply.py:284: RuntimeWarning: Mean of empty slice\n",
      "  results[i] = self.f(v)\n",
      "/home/toinou/Documents/venvs/pyt3.8/lib/python3.8/site-packages/pandas/core/apply.py:284: RuntimeWarning: Mean of empty slice\n",
      "  results[i] = self.f(v)\n",
      "/home/toinou/Documents/venvs/pyt3.8/lib/python3.8/site-packages/pandas/core/apply.py:284: RuntimeWarning: Mean of empty slice\n",
      "  results[i] = self.f(v)\n",
      "/home/toinou/Documents/venvs/pyt3.8/lib/python3.8/site-packages/pandas/core/apply.py:284: RuntimeWarning: Mean of empty slice\n",
      "  results[i] = self.f(v)\n",
      "/home/toinou/Documents/venvs/pyt3.8/lib/python3.8/site-packages/pandas/core/apply.py:284: RuntimeWarning: Mean of empty slice\n",
      "  results[i] = self.f(v)\n",
      "/home/toinou/Documents/venvs/pyt3.8/lib/python3.8/site-packages/pandas/core/apply.py:284: RuntimeWarning: Mean of empty slice\n",
      "  results[i] = self.f(v)\n",
      "/home/toinou/Documents/venvs/pyt3.8/lib/python3.8/site-packages/pandas/core/apply.py:284: RuntimeWarning: Mean of empty slice\n",
      "  results[i] = self.f(v)\n",
      "/home/toinou/Documents/venvs/pyt3.8/lib/python3.8/site-packages/pandas/core/apply.py:284: RuntimeWarning: Mean of empty slice\n",
      "  results[i] = self.f(v)\n",
      "/home/toinou/Documents/venvs/pyt3.8/lib/python3.8/site-packages/pandas/core/apply.py:284: RuntimeWarning: Mean of empty slice\n",
      "  results[i] = self.f(v)\n",
      "/home/toinou/Documents/venvs/pyt3.8/lib/python3.8/site-packages/pandas/core/apply.py:284: RuntimeWarning: Mean of empty slice\n",
      "  results[i] = self.f(v)\n",
      "/home/toinou/Documents/venvs/pyt3.8/lib/python3.8/site-packages/pandas/core/apply.py:284: RuntimeWarning: Mean of empty slice\n",
      "  results[i] = self.f(v)\n",
      "/home/toinou/Documents/venvs/pyt3.8/lib/python3.8/site-packages/pandas/core/apply.py:284: RuntimeWarning: Mean of empty slice\n",
      "  results[i] = self.f(v)\n",
      "/home/toinou/Documents/venvs/pyt3.8/lib/python3.8/site-packages/pandas/core/apply.py:284: RuntimeWarning: Mean of empty slice\n",
      "  results[i] = self.f(v)\n",
      "/home/toinou/Documents/venvs/pyt3.8/lib/python3.8/site-packages/pandas/core/apply.py:201: RuntimeWarning: Mean of empty slice\n",
      "  r = self.f(Series([], dtype=np.float64))\n",
      "/home/toinou/Documents/venvs/pyt3.8/lib/python3.8/site-packages/pandas/core/apply.py:209: RuntimeWarning: Mean of empty slice\n",
      "  r = self.f(Series([], dtype=np.float64))\n",
      "/home/toinou/Documents/venvs/pyt3.8/lib/python3.8/site-packages/pandas/core/apply.py:284: RuntimeWarning: Mean of empty slice\n",
      "  results[i] = self.f(v)\n",
      "/home/toinou/Documents/venvs/pyt3.8/lib/python3.8/site-packages/pandas/core/apply.py:284: RuntimeWarning: Mean of empty slice\n",
      "  results[i] = self.f(v)\n",
      "/home/toinou/Documents/venvs/pyt3.8/lib/python3.8/site-packages/pandas/core/apply.py:284: RuntimeWarning: Mean of empty slice\n",
      "  results[i] = self.f(v)\n",
      "/home/toinou/Documents/venvs/pyt3.8/lib/python3.8/site-packages/pandas/core/apply.py:284: RuntimeWarning: Mean of empty slice\n",
      "  results[i] = self.f(v)\n",
      "/home/toinou/Documents/venvs/pyt3.8/lib/python3.8/site-packages/pandas/core/apply.py:201: RuntimeWarning: Mean of empty slice\n",
      "  r = self.f(Series([], dtype=np.float64))\n",
      "/home/toinou/Documents/venvs/pyt3.8/lib/python3.8/site-packages/pandas/core/apply.py:209: RuntimeWarning: Mean of empty slice\n",
      "  r = self.f(Series([], dtype=np.float64))\n",
      "/home/toinou/Documents/venvs/pyt3.8/lib/python3.8/site-packages/pandas/core/apply.py:284: RuntimeWarning: Mean of empty slice\n",
      "  results[i] = self.f(v)\n",
      "/home/toinou/Documents/venvs/pyt3.8/lib/python3.8/site-packages/pandas/core/apply.py:284: RuntimeWarning: Mean of empty slice\n",
      "  results[i] = self.f(v)\n",
      "/home/toinou/Documents/venvs/pyt3.8/lib/python3.8/site-packages/pandas/core/apply.py:284: RuntimeWarning: Mean of empty slice\n",
      "  results[i] = self.f(v)\n",
      "/home/toinou/Documents/venvs/pyt3.8/lib/python3.8/site-packages/pandas/core/apply.py:284: RuntimeWarning: Mean of empty slice\n",
      "  results[i] = self.f(v)\n",
      "/home/toinou/Documents/venvs/pyt3.8/lib/python3.8/site-packages/pandas/core/apply.py:284: RuntimeWarning: Mean of empty slice\n",
      "  results[i] = self.f(v)\n",
      "/home/toinou/Documents/venvs/pyt3.8/lib/python3.8/site-packages/pandas/core/apply.py:284: RuntimeWarning: Mean of empty slice\n",
      "  results[i] = self.f(v)\n",
      "/home/toinou/Documents/venvs/pyt3.8/lib/python3.8/site-packages/pandas/core/apply.py:284: RuntimeWarning: Mean of empty slice\n",
      "  results[i] = self.f(v)\n",
      "/home/toinou/Documents/venvs/pyt3.8/lib/python3.8/site-packages/pandas/core/apply.py:284: RuntimeWarning: Mean of empty slice\n",
      "  results[i] = self.f(v)\n",
      "/home/toinou/Documents/venvs/pyt3.8/lib/python3.8/site-packages/pandas/core/apply.py:284: RuntimeWarning: Mean of empty slice\n",
      "  results[i] = self.f(v)\n",
      "/home/toinou/Documents/venvs/pyt3.8/lib/python3.8/site-packages/pandas/core/apply.py:284: RuntimeWarning: Mean of empty slice\n",
      "  results[i] = self.f(v)\n",
      "/home/toinou/Documents/venvs/pyt3.8/lib/python3.8/site-packages/pandas/core/apply.py:284: RuntimeWarning: Mean of empty slice\n",
      "  results[i] = self.f(v)\n",
      "/home/toinou/Documents/venvs/pyt3.8/lib/python3.8/site-packages/pandas/core/apply.py:284: RuntimeWarning: Mean of empty slice\n",
      "  results[i] = self.f(v)\n",
      "/home/toinou/Documents/venvs/pyt3.8/lib/python3.8/site-packages/pandas/core/apply.py:201: RuntimeWarning: Mean of empty slice\n",
      "  r = self.f(Series([], dtype=np.float64))\n",
      "/home/toinou/Documents/venvs/pyt3.8/lib/python3.8/site-packages/pandas/core/apply.py:209: RuntimeWarning: Mean of empty slice\n",
      "  r = self.f(Series([], dtype=np.float64))\n",
      "/home/toinou/Documents/venvs/pyt3.8/lib/python3.8/site-packages/pandas/core/apply.py:284: RuntimeWarning: Mean of empty slice\n",
      "  results[i] = self.f(v)\n",
      "/home/toinou/Documents/venvs/pyt3.8/lib/python3.8/site-packages/pandas/core/apply.py:284: RuntimeWarning: Mean of empty slice\n",
      "  results[i] = self.f(v)\n",
      "/home/toinou/Documents/venvs/pyt3.8/lib/python3.8/site-packages/pandas/core/apply.py:284: RuntimeWarning: Mean of empty slice\n",
      "  results[i] = self.f(v)\n",
      "/home/toinou/Documents/venvs/pyt3.8/lib/python3.8/site-packages/pandas/core/apply.py:284: RuntimeWarning: Mean of empty slice\n",
      "  results[i] = self.f(v)\n",
      "/home/toinou/Documents/venvs/pyt3.8/lib/python3.8/site-packages/pandas/core/apply.py:284: RuntimeWarning: Mean of empty slice\n",
      "  results[i] = self.f(v)\n",
      "/home/toinou/Documents/venvs/pyt3.8/lib/python3.8/site-packages/pandas/core/apply.py:284: RuntimeWarning: Mean of empty slice\n",
      "  results[i] = self.f(v)\n",
      "/home/toinou/Documents/venvs/pyt3.8/lib/python3.8/site-packages/pandas/core/apply.py:284: RuntimeWarning: Mean of empty slice\n",
      "  results[i] = self.f(v)\n",
      "/home/toinou/Documents/venvs/pyt3.8/lib/python3.8/site-packages/pandas/core/apply.py:284: RuntimeWarning: Mean of empty slice\n",
      "  results[i] = self.f(v)\n",
      "/home/toinou/Documents/venvs/pyt3.8/lib/python3.8/site-packages/pandas/core/apply.py:284: RuntimeWarning: Mean of empty slice\n",
      "  results[i] = self.f(v)\n"
     ]
    },
    {
     "name": "stderr",
     "output_type": "stream",
     "text": [
      "/home/toinou/Documents/venvs/pyt3.8/lib/python3.8/site-packages/pandas/core/apply.py:284: RuntimeWarning: Mean of empty slice\n",
      "  results[i] = self.f(v)\n",
      "/home/toinou/Documents/venvs/pyt3.8/lib/python3.8/site-packages/pandas/core/apply.py:284: RuntimeWarning: Mean of empty slice\n",
      "  results[i] = self.f(v)\n",
      "/home/toinou/Documents/venvs/pyt3.8/lib/python3.8/site-packages/pandas/core/apply.py:284: RuntimeWarning: Mean of empty slice\n",
      "  results[i] = self.f(v)\n",
      "/home/toinou/Documents/venvs/pyt3.8/lib/python3.8/site-packages/pandas/core/apply.py:284: RuntimeWarning: Mean of empty slice\n",
      "  results[i] = self.f(v)\n",
      "/home/toinou/Documents/venvs/pyt3.8/lib/python3.8/site-packages/pandas/core/apply.py:284: RuntimeWarning: Mean of empty slice\n",
      "  results[i] = self.f(v)\n",
      "/home/toinou/Documents/venvs/pyt3.8/lib/python3.8/site-packages/pandas/core/apply.py:284: RuntimeWarning: Mean of empty slice\n",
      "  results[i] = self.f(v)\n",
      "/home/toinou/Documents/venvs/pyt3.8/lib/python3.8/site-packages/pandas/core/apply.py:284: RuntimeWarning: Mean of empty slice\n",
      "  results[i] = self.f(v)\n",
      "/home/toinou/Documents/venvs/pyt3.8/lib/python3.8/site-packages/pandas/core/apply.py:284: RuntimeWarning: Mean of empty slice\n",
      "  results[i] = self.f(v)\n",
      "/home/toinou/Documents/venvs/pyt3.8/lib/python3.8/site-packages/pandas/core/apply.py:284: RuntimeWarning: Mean of empty slice\n",
      "  results[i] = self.f(v)\n",
      "/home/toinou/Documents/venvs/pyt3.8/lib/python3.8/site-packages/pandas/core/apply.py:284: RuntimeWarning: Mean of empty slice\n",
      "  results[i] = self.f(v)\n",
      "/home/toinou/Documents/venvs/pyt3.8/lib/python3.8/site-packages/pandas/core/apply.py:284: RuntimeWarning: Mean of empty slice\n",
      "  results[i] = self.f(v)\n",
      "/home/toinou/Documents/venvs/pyt3.8/lib/python3.8/site-packages/pandas/core/apply.py:201: RuntimeWarning: Mean of empty slice\n",
      "  r = self.f(Series([], dtype=np.float64))\n",
      "/home/toinou/Documents/venvs/pyt3.8/lib/python3.8/site-packages/pandas/core/apply.py:209: RuntimeWarning: Mean of empty slice\n",
      "  r = self.f(Series([], dtype=np.float64))\n",
      "/home/toinou/Documents/venvs/pyt3.8/lib/python3.8/site-packages/pandas/core/apply.py:284: RuntimeWarning: Mean of empty slice\n",
      "  results[i] = self.f(v)\n",
      "/home/toinou/Documents/venvs/pyt3.8/lib/python3.8/site-packages/pandas/core/apply.py:284: RuntimeWarning: Mean of empty slice\n",
      "  results[i] = self.f(v)\n",
      "/home/toinou/Documents/venvs/pyt3.8/lib/python3.8/site-packages/pandas/core/apply.py:284: RuntimeWarning: Mean of empty slice\n",
      "  results[i] = self.f(v)\n",
      "/home/toinou/Documents/venvs/pyt3.8/lib/python3.8/site-packages/pandas/core/apply.py:284: RuntimeWarning: Mean of empty slice\n",
      "  results[i] = self.f(v)\n",
      "/home/toinou/Documents/venvs/pyt3.8/lib/python3.8/site-packages/pandas/core/apply.py:284: RuntimeWarning: Mean of empty slice\n",
      "  results[i] = self.f(v)\n",
      "/home/toinou/Documents/venvs/pyt3.8/lib/python3.8/site-packages/pandas/core/apply.py:284: RuntimeWarning: Mean of empty slice\n",
      "  results[i] = self.f(v)\n",
      "/home/toinou/Documents/venvs/pyt3.8/lib/python3.8/site-packages/pandas/core/apply.py:284: RuntimeWarning: Mean of empty slice\n",
      "  results[i] = self.f(v)\n"
     ]
    },
    {
     "data": {
      "text/html": [
       "<div>\n",
       "<style scoped>\n",
       "    .dataframe tbody tr th:only-of-type {\n",
       "        vertical-align: middle;\n",
       "    }\n",
       "\n",
       "    .dataframe tbody tr th {\n",
       "        vertical-align: top;\n",
       "    }\n",
       "\n",
       "    .dataframe thead th {\n",
       "        text-align: right;\n",
       "    }\n",
       "</style>\n",
       "<table border=\"1\" class=\"dataframe\">\n",
       "  <thead>\n",
       "    <tr style=\"text-align: right;\">\n",
       "      <th></th>\n",
       "      <th>warstds</th>\n",
       "      <th>autonomy</th>\n",
       "      <th>popdense</th>\n",
       "      <th>army85</th>\n",
       "      <th>milper</th>\n",
       "      <th>trade</th>\n",
       "      <th>nmgdp</th>\n",
       "      <th>expgdp</th>\n",
       "      <th>sxpnew</th>\n",
       "      <th>agexp</th>\n",
       "      <th>...</th>\n",
       "      <th>mirps1</th>\n",
       "      <th>mirps2</th>\n",
       "      <th>mirps3</th>\n",
       "      <th>sxpsq</th>\n",
       "      <th>pol4sq</th>\n",
       "      <th>proxregc</th>\n",
       "      <th>tiv_imp</th>\n",
       "      <th>tiv_exp</th>\n",
       "      <th>milexp_gdp</th>\n",
       "      <th>milexp_spe</th>\n",
       "    </tr>\n",
       "  </thead>\n",
       "  <tbody>\n",
       "    <tr>\n",
       "      <th>Afghanistan</th>\n",
       "      <td>NaN</td>\n",
       "      <td>-1.0</td>\n",
       "      <td>0.001250</td>\n",
       "      <td>-0.006463</td>\n",
       "      <td>-0.007967</td>\n",
       "      <td>0.001947</td>\n",
       "      <td>-0.004569</td>\n",
       "      <td>0.000732</td>\n",
       "      <td>0.002636</td>\n",
       "      <td>-0.003367</td>\n",
       "      <td>...</td>\n",
       "      <td>-1.000000</td>\n",
       "      <td>0.523064</td>\n",
       "      <td>-1.0</td>\n",
       "      <td>0.001338</td>\n",
       "      <td>0.238444</td>\n",
       "      <td>7.493235e-01</td>\n",
       "      <td>NaN</td>\n",
       "      <td>NaN</td>\n",
       "      <td>NaN</td>\n",
       "      <td>NaN</td>\n",
       "    </tr>\n",
       "    <tr>\n",
       "      <th>Afghanistan</th>\n",
       "      <td>NaN</td>\n",
       "      <td>-inf</td>\n",
       "      <td>0.001248</td>\n",
       "      <td>-0.006465</td>\n",
       "      <td>-0.007993</td>\n",
       "      <td>0.001945</td>\n",
       "      <td>-0.004584</td>\n",
       "      <td>0.000732</td>\n",
       "      <td>0.002633</td>\n",
       "      <td>-0.003374</td>\n",
       "      <td>...</td>\n",
       "      <td>-inf</td>\n",
       "      <td>0.343429</td>\n",
       "      <td>-inf</td>\n",
       "      <td>0.001338</td>\n",
       "      <td>0.192535</td>\n",
       "      <td>4.283505e-01</td>\n",
       "      <td>NaN</td>\n",
       "      <td>NaN</td>\n",
       "      <td>NaN</td>\n",
       "      <td>NaN</td>\n",
       "    </tr>\n",
       "    <tr>\n",
       "      <th>Afghanistan</th>\n",
       "      <td>NaN</td>\n",
       "      <td>-inf</td>\n",
       "      <td>0.008854</td>\n",
       "      <td>-0.017800</td>\n",
       "      <td>-0.010012</td>\n",
       "      <td>0.006336</td>\n",
       "      <td>-0.013931</td>\n",
       "      <td>0.003214</td>\n",
       "      <td>0.002647</td>\n",
       "      <td>-0.000691</td>\n",
       "      <td>...</td>\n",
       "      <td>-inf</td>\n",
       "      <td>0.343429</td>\n",
       "      <td>-inf</td>\n",
       "      <td>0.001344</td>\n",
       "      <td>0.231970</td>\n",
       "      <td>1.285051e+00</td>\n",
       "      <td>NaN</td>\n",
       "      <td>NaN</td>\n",
       "      <td>NaN</td>\n",
       "      <td>NaN</td>\n",
       "    </tr>\n",
       "    <tr>\n",
       "      <th>Afghanistan</th>\n",
       "      <td>NaN</td>\n",
       "      <td>-inf</td>\n",
       "      <td>0.006688</td>\n",
       "      <td>-0.017800</td>\n",
       "      <td>-0.008249</td>\n",
       "      <td>0.005075</td>\n",
       "      <td>-0.007877</td>\n",
       "      <td>0.001847</td>\n",
       "      <td>0.004401</td>\n",
       "      <td>-0.000821</td>\n",
       "      <td>...</td>\n",
       "      <td>-0.084675</td>\n",
       "      <td>inf</td>\n",
       "      <td>-inf</td>\n",
       "      <td>0.007810</td>\n",
       "      <td>0.392928</td>\n",
       "      <td>1.026727e+06</td>\n",
       "      <td>NaN</td>\n",
       "      <td>NaN</td>\n",
       "      <td>NaN</td>\n",
       "      <td>NaN</td>\n",
       "    </tr>\n",
       "    <tr>\n",
       "      <th>Afghanistan</th>\n",
       "      <td>0.0</td>\n",
       "      <td>-inf</td>\n",
       "      <td>0.006194</td>\n",
       "      <td>-0.017800</td>\n",
       "      <td>-0.008490</td>\n",
       "      <td>0.004311</td>\n",
       "      <td>-0.009732</td>\n",
       "      <td>0.001695</td>\n",
       "      <td>0.004433</td>\n",
       "      <td>-0.001020</td>\n",
       "      <td>...</td>\n",
       "      <td>-0.127013</td>\n",
       "      <td>1.030286</td>\n",
       "      <td>-inf</td>\n",
       "      <td>0.004227</td>\n",
       "      <td>0.397767</td>\n",
       "      <td>6.425257e-01</td>\n",
       "      <td>NaN</td>\n",
       "      <td>NaN</td>\n",
       "      <td>NaN</td>\n",
       "      <td>NaN</td>\n",
       "    </tr>\n",
       "  </tbody>\n",
       "</table>\n",
       "<p>5 rows × 87 columns</p>\n",
       "</div>"
      ],
      "text/plain": [
       "             warstds  autonomy  popdense    army85    milper     trade  \\\n",
       "Afghanistan      NaN      -1.0  0.001250 -0.006463 -0.007967  0.001947   \n",
       "Afghanistan      NaN      -inf  0.001248 -0.006465 -0.007993  0.001945   \n",
       "Afghanistan      NaN      -inf  0.008854 -0.017800 -0.010012  0.006336   \n",
       "Afghanistan      NaN      -inf  0.006688 -0.017800 -0.008249  0.005075   \n",
       "Afghanistan      0.0      -inf  0.006194 -0.017800 -0.008490  0.004311   \n",
       "\n",
       "                nmgdp    expgdp    sxpnew     agexp  ...    mirps1    mirps2  \\\n",
       "Afghanistan -0.004569  0.000732  0.002636 -0.003367  ... -1.000000  0.523064   \n",
       "Afghanistan -0.004584  0.000732  0.002633 -0.003374  ...      -inf  0.343429   \n",
       "Afghanistan -0.013931  0.003214  0.002647 -0.000691  ...      -inf  0.343429   \n",
       "Afghanistan -0.007877  0.001847  0.004401 -0.000821  ... -0.084675       inf   \n",
       "Afghanistan -0.009732  0.001695  0.004433 -0.001020  ... -0.127013  1.030286   \n",
       "\n",
       "             mirps3     sxpsq    pol4sq      proxregc  tiv_imp  tiv_exp  \\\n",
       "Afghanistan    -1.0  0.001338  0.238444  7.493235e-01      NaN      NaN   \n",
       "Afghanistan    -inf  0.001338  0.192535  4.283505e-01      NaN      NaN   \n",
       "Afghanistan    -inf  0.001344  0.231970  1.285051e+00      NaN      NaN   \n",
       "Afghanistan    -inf  0.007810  0.392928  1.026727e+06      NaN      NaN   \n",
       "Afghanistan    -inf  0.004227  0.397767  6.425257e-01      NaN      NaN   \n",
       "\n",
       "             milexp_gdp  milexp_spe  \n",
       "Afghanistan         NaN         NaN  \n",
       "Afghanistan         NaN         NaN  \n",
       "Afghanistan         NaN         NaN  \n",
       "Afghanistan         NaN         NaN  \n",
       "Afghanistan         NaN         NaN  \n",
       "\n",
       "[5 rows x 87 columns]"
      ]
     },
     "execution_count": 496,
     "metadata": {},
     "output_type": "execute_result"
    }
   ],
   "source": [
    "t_win = 3\n",
    "\n",
    "\n",
    "df_tmp = pd.DataFrame()\n",
    "df_pre = pd.DataFrame()\n",
    "df_pos = pd.DataFrame()\n",
    "\n",
    "for onset in onsets:\n",
    "    pre, pos = comp_neighbour_feat(sambanis,\n",
    "                                   onset[1],\n",
    "                                   onset[0],\n",
    "                                   t_win=t_win,\n",
    "                                  )\n",
    "    \"\"\"df_tmp = pd.concat([df_tmp,\n",
    "                        (pos-pre)/pre\n",
    "                       ]\n",
    "                      )\"\"\"\n",
    "    df_pre = pd.concat([df_pre,\n",
    "                        pre\n",
    "                       ]\n",
    "                      )\n",
    "    \n",
    "    df_pos = pd.concat([df_pos,\n",
    "                        pos\n",
    "                       ]\n",
    "                      )\n",
    "    \n",
    "df_tmp = (df_pos-df_pre)/df_pre\n",
    "df_tmp.head(5)"
   ]
  },
  {
   "cell_type": "code",
   "execution_count": 494,
   "metadata": {},
   "outputs": [
    {
     "data": {
      "text/plain": [
       "401"
      ]
     },
     "execution_count": 494,
     "metadata": {},
     "output_type": "execute_result"
    }
   ],
   "source": [
    "len(df_pre)"
   ]
  },
  {
   "cell_type": "code",
   "execution_count": null,
   "metadata": {},
   "outputs": [],
   "source": [
    "print(df_pos.loc[df_pos.warstds==1])\n",
    "print(df_pre.loc[df_pre.warstds==1])"
   ]
  },
  {
   "cell_type": "code",
   "execution_count": 313,
   "metadata": {
    "scrolled": true
   },
   "outputs": [
    {
     "name": "stdout",
     "output_type": "stream",
     "text": [
      "2\n",
      "24\n",
      "21\n",
      "381\n",
      "0.005249343832020997\n",
      "0.06299212598425197\n"
     ]
    }
   ],
   "source": [
    "feat = 'life'\n",
    "thr = 0.1\n",
    "\n",
    "print(len(df_tmp.loc[df_tmp[feat] > thr]))\n",
    "print(len(df_tmp.loc[df_tmp[feat] < -thr]))\n",
    "print(df_tmp[feat].isnull().sum())\n",
    "tot = len(df_tmp[feat]) - df_tmp[feat].isnull().sum()\n",
    "print(tot)\n",
    "print(len(df_tmp.loc[df_tmp[feat] > thr])/tot)\n",
    "print(len(df_tmp.loc[df_tmp[feat] <- thr])/tot)"
   ]
  },
  {
   "cell_type": "code",
   "execution_count": 314,
   "metadata": {},
   "outputs": [],
   "source": [
    "def get_n_plicate(dataframe, column,n=1):\n",
    "    \"\"\" return a dataframe containing the n-plicate according to a column\n",
    "        if n is greater than 1,  x-plicates are present in the dataframe with x<n,\n",
    "        raise a ValueError\n",
    "    \"\"\"\n",
    "    if (len(dataframe)-len(dataframe.drop_duplicates(subset=column)))!=0:\n",
    "        #\"_\" is a placeholder\n",
    "        return pd.concat(g for _, g in dataframe.groupby(column) if len(g) > n)\n",
    "    else:\n",
    "        return pd.DataFrame()"
   ]
  },
  {
   "cell_type": "code",
   "execution_count": 315,
   "metadata": {},
   "outputs": [],
   "source": [
    "countries_several_onsets_neight=get_n_plicate(df_tmp.reset_index(), 'index', 8)\n",
    "countries_2_onsets_neight=get_n_plicate(df_tmp.reset_index(), 'index', 2)\n",
    "countries_1_onsets_neight=get_n_plicate(df_tmp.reset_index(), 'index', 1)"
   ]
  },
  {
   "cell_type": "code",
   "execution_count": 316,
   "metadata": {},
   "outputs": [],
   "source": [
    "countries_several_onsets_neight.rename(columns={'index':\"country\"}, inplace=True)\n",
    "countries_2_onsets_neight.rename(columns={'index':\"country\"}, inplace=True)\n",
    "countries_1_onsets_neight.rename(columns={'index':\"country\"}, inplace=True)"
   ]
  },
  {
   "cell_type": "code",
   "execution_count": 317,
   "metadata": {},
   "outputs": [],
   "source": [
    "countries_1_onsets_neight = list(set(countries_1_onsets_neight[\"country\"])-set(countries_2_onsets_neight[\"country\"]))"
   ]
  },
  {
   "cell_type": "code",
   "execution_count": 318,
   "metadata": {},
   "outputs": [
    {
     "data": {
      "text/plain": [
       "61             Central African Republic\n",
       "0                                 China\n",
       "16     Democratic Republic of the Congo\n",
       "30                              Myanmar\n",
       "2                              Pakistan\n",
       "38                               Rwanda\n",
       "163                               Syria\n",
       "39                             Tanzania\n",
       "18                               Zambia\n",
       "Name: country, dtype: object"
      ]
     },
     "execution_count": 318,
     "metadata": {},
     "output_type": "execute_result"
    }
   ],
   "source": [
    "countries_several_onsets_neight[\"country\"].drop_duplicates()"
   ]
  },
  {
   "cell_type": "code",
   "execution_count": 319,
   "metadata": {},
   "outputs": [],
   "source": [
    "def comp_neighbour(df, country, geodata=geodata):\n",
    "    tmp = list(geodata.loc[geodata[\"country_name\"] == country][\"country_border_name\"])\n",
    "    neigh_df = df.loc[df[\"country\"].isin(tmp)]\n",
    "    return neigh_df"
   ]
  },
  {
   "cell_type": "code",
   "execution_count": 320,
   "metadata": {},
   "outputs": [
    {
     "data": {
      "text/plain": [
       "3747      Libya\n",
       "3748      Libya\n",
       "3749      Libya\n",
       "3750      Libya\n",
       "3751      Libya\n",
       "         ...   \n",
       "6362    Tunisia\n",
       "6363    Tunisia\n",
       "6364    Tunisia\n",
       "6365    Tunisia\n",
       "6366    Tunisia\n",
       "Name: country, Length: 263, dtype: object"
      ]
     },
     "execution_count": 320,
     "metadata": {},
     "output_type": "execute_result"
    }
   ],
   "source": [
    "neigh['country']"
   ]
  },
  {
   "cell_type": "code",
   "execution_count": 321,
   "metadata": {
    "scrolled": true
   },
   "outputs": [
    {
     "data": {
      "image/png": "[encoded data removed]",
      "text/plain": [
       "<Figure size 432x288 with 1 Axes>"
      ]
     },
     "metadata": {
      "needs_background": "light"
     },
     "output_type": "display_data"
    },
    {
     "data": {
      "image/png": "[encoded data removed]",
      "text/plain": [
       "<Figure size 432x288 with 1 Axes>"
      ]
     },
     "metadata": {
      "needs_background": "light"
     },
     "output_type": "display_data"
    },
    {
     "data": {
      "image/png": "[encoded data removed]",
      "text/plain": [
       "<Figure size 432x288 with 1 Axes>"
      ]
     },
     "metadata": {
      "needs_background": "light"
     },
     "output_type": "display_data"
    },
    {
     "data": {
      "image/png": "[encoded data removed]",
      "text/plain": [
       "<Figure size 432x288 with 1 Axes>"
      ]
     },
     "metadata": {
      "needs_background": "light"
     },
     "output_type": "display_data"
    },
    {
     "data": {
      "image/png": "[encoded data removed]",
      "text/plain": [
       "<Figure size 432x288 with 1 Axes>"
      ]
     },
     "metadata": {
      "needs_background": "light"
     },
     "output_type": "display_data"
    },
    {
     "data": {
      "image/png": "[encoded data removed]",
      "text/plain": [
       "<Figure size 432x288 with 1 Axes>"
      ]
     },
     "metadata": {
      "needs_background": "light"
     },
     "output_type": "display_data"
    },
    {
     "data": {
      "image/png": "[encoded data removed]",
      "text/plain": [
       "<Figure size 432x288 with 1 Axes>"
      ]
     },
     "metadata": {
      "needs_background": "light"
     },
     "output_type": "display_data"
    },
    {
     "data": {
      "image/png": "[encoded data removed]",
      "text/plain": [
       "<Figure size 432x288 with 1 Axes>"
      ]
     },
     "metadata": {
      "needs_background": "light"
     },
     "output_type": "display_data"
    },
    {
     "data": {
      "image/png": "[encoded data removed]",
      "text/plain": [
       "<Figure size 432x288 with 1 Axes>"
      ]
     },
     "metadata": {
      "needs_background": "light"
     },
     "output_type": "display_data"
    },
    {
     "data": {
      "image/png": "[encoded data removed]",
      "text/plain": [
       "<Figure size 432x288 with 1 Axes>"
      ]
     },
     "metadata": {
      "needs_background": "light"
     },
     "output_type": "display_data"
    },
    {
     "data": {
      "image/png": "[encoded data removed]",
      "text/plain": [
       "<Figure size 432x288 with 1 Axes>"
      ]
     },
     "metadata": {
      "needs_background": "light"
     },
     "output_type": "display_data"
    },
    {
     "data": {
      "image/png": "[encoded data removed]",
      "text/plain": [
       "<Figure size 432x288 with 1 Axes>"
      ]
     },
     "metadata": {
      "needs_background": "light"
     },
     "output_type": "display_data"
    },
    {
     "data": {
      "image/png": "[encoded data removed]",
      "text/plain": [
       "<Figure size 432x288 with 1 Axes>"
      ]
     },
     "metadata": {
      "needs_background": "light"
     },
     "output_type": "display_data"
    },
    {
     "data": {
      "image/png": "[encoded data removed]",
      "text/plain": [
       "<Figure size 432x288 with 1 Axes>"
      ]
     },
     "metadata": {
      "needs_background": "light"
     },
     "output_type": "display_data"
    },
    {
     "data": {
      "image/png": "[encoded data removed]",
      "text/plain": [
       "<Figure size 432x288 with 1 Axes>"
      ]
     },
     "metadata": {
      "needs_background": "light"
     },
     "output_type": "display_data"
    },
    {
     "data": {
      "image/png": "[encoded data removed]",
      "text/plain": [
       "<Figure size 432x288 with 1 Axes>"
      ]
     },
     "metadata": {
      "needs_background": "light"
     },
     "output_type": "display_data"
    },
    {
     "data": {
      "image/png": "[encoded data removed]",
      "text/plain": [
       "<Figure size 432x288 with 1 Axes>"
      ]
     },
     "metadata": {
      "needs_background": "light"
     },
     "output_type": "display_data"
    },
    {
     "data": {
      "image/png": "[encoded data removed]",
      "text/plain": [
       "<Figure size 432x288 with 1 Axes>"
      ]
     },
     "metadata": {
      "needs_background": "light"
     },
     "output_type": "display_data"
    },
    {
     "data": {
      "image/png": "[encoded data removed]",
      "text/plain": [
       "<Figure size 432x288 with 1 Axes>"
      ]
     },
     "metadata": {
      "needs_background": "light"
     },
     "output_type": "display_data"
    },
    {
     "data": {
      "image/png": "[encoded data removed]",
      "text/plain": [
       "<Figure size 432x288 with 1 Axes>"
      ]
     },
     "metadata": {
      "needs_background": "light"
     },
     "output_type": "display_data"
    },
    {
     "data": {
      "image/png": "[encoded data removed]",
      "text/plain": [
       "<Figure size 432x288 with 1 Axes>"
      ]
     },
     "metadata": {
      "needs_background": "light"
     },
     "output_type": "display_data"
    },
    {
     "data": {
      "image/png": "[encoded data removed]",
      "text/plain": [
       "<Figure size 432x288 with 1 Axes>"
      ]
     },
     "metadata": {
      "needs_background": "light"
     },
     "output_type": "display_data"
    },
    {
     "data": {
      "image/png": "[encoded data removed]",
      "text/plain": [
       "<Figure size 432x288 with 1 Axes>"
      ]
     },
     "metadata": {
      "needs_background": "light"
     },
     "output_type": "display_data"
    },
    {
     "data": {
      "image/png": "[encoded data removed]",
      "text/plain": [
       "<Figure size 432x288 with 1 Axes>"
      ]
     },
     "metadata": {
      "needs_background": "light"
     },
     "output_type": "display_data"
    },
    {
     "data": {
      "image/png": "[encoded data removed]",
      "text/plain": [
       "<Figure size 432x288 with 1 Axes>"
      ]
     },
     "metadata": {
      "needs_background": "light"
     },
     "output_type": "display_data"
    },
    {
     "data": {
      "image/png": "[encoded data removed]",
      "text/plain": [
       "<Figure size 432x288 with 1 Axes>"
      ]
     },
     "metadata": {
      "needs_background": "light"
     },
     "output_type": "display_data"
    },
    {
     "data": {
      "image/png": "[encoded data removed]",
      "text/plain": [
       "<Figure size 432x288 with 1 Axes>"
      ]
     },
     "metadata": {
      "needs_background": "light"
     },
     "output_type": "display_data"
    },
    {
     "data": {
      "image/png": "[encoded data removed]",
      "text/plain": [
       "<Figure size 432x288 with 1 Axes>"
      ]
     },
     "metadata": {
      "needs_background": "light"
     },
     "output_type": "display_data"
    },
    {
     "data": {
      "image/png": "[encoded data removed]",
      "text/plain": [
       "<Figure size 432x288 with 1 Axes>"
      ]
     },
     "metadata": {
      "needs_background": "light"
     },
     "output_type": "display_data"
    },
    {
     "data": {
      "image/png": "[encoded data removed]",
      "text/plain": [
       "<Figure size 432x288 with 1 Axes>"
      ]
     },
     "metadata": {
      "needs_background": "light"
     },
     "output_type": "display_data"
    }
   ],
   "source": [
    "feat = 'sxpnew'\n",
    "countries = list(countries_several_onsets_neight[\"country\"].drop_duplicates())\n",
    "vals = []\n",
    "\n",
    "for country in countries:\n",
    "\n",
    "    neigh = comp_neighbour(sambanis, country)\n",
    "    \n",
    "    vals += list(sambanis.loc[sambanis[\"country\"]==country][feat])\n",
    "    \n",
    "    \"\"\"plt.plot(sambanis.loc[sambanis[\"country\"]==country][\"year\"],\n",
    "             sambanis.loc[sambanis[\"country\"]==country][feat]\n",
    "            )\n",
    "    plt.ylim([-0.5,1])\n",
    "\n",
    "    plt.title(country+\" - \"+feat)\n",
    "    for i in neigh.loc[neigh[\"warstds\"]==1][\"year\"]:\n",
    "        plt.axvline(i, c='r')\n",
    "    for i in sambanis.loc[(sambanis[\"warstds\"]==1) & \\\n",
    "                          (sambanis.country==country)][\"year\"]:\n",
    "        plt.axvline(i, c='k')\n",
    "    #plt.legend()\n",
    "    plt.show()\"\"\"\n",
    "    \n",
    "    \n",
    "vals_2 = []\n",
    "    \n",
    "for country in countries_1_onsets_neight:\n",
    "\n",
    "    neigh = comp_neighbour(sambanis, country)\n",
    "    \n",
    "    vals_2 += list(sambanis.loc[sambanis[\"country\"]==country][feat])\n",
    "    \n",
    "    plt.plot(sambanis.loc[sambanis[\"country\"]==country][\"year\"],\n",
    "             sambanis.loc[sambanis[\"country\"]==country][feat]\n",
    "            )\n",
    "    plt.title(country+\" - \"+feat)\n",
    "    plt.ylim([-0.5,1])\n",
    "    for i in neigh.loc[neigh[\"warstds\"]==1][\"year\"]:\n",
    "        plt.axvline(i, c='r')\n",
    "    for i in sambanis.loc[(sambanis[\"warstds\"]==1) & \\\n",
    "                          (sambanis.country==country)][\"year\"]:\n",
    "        plt.axvline(i, c='k')\n",
    "    #plt.legend()\n",
    "    plt.show()\n"
   ]
  },
  {
   "cell_type": "code",
   "execution_count": 322,
   "metadata": {},
   "outputs": [
    {
     "name": "stdout",
     "output_type": "stream",
     "text": [
      "0.08266589692850404\n",
      "0.09341605272214382\n"
     ]
    }
   ],
   "source": [
    "print(np.array(vals).std())\n",
    "print(np.array(vals_2).std())"
   ]
  },
  {
   "cell_type": "code",
   "execution_count": 323,
   "metadata": {},
   "outputs": [
    {
     "name": "stdout",
     "output_type": "stream",
     "text": [
      "0.15377131800000002\n",
      "0.1578465175\n"
     ]
    }
   ],
   "source": [
    "print(np.median(np.array(vals)))\n",
    "print(np.median(np.array(vals_2)))"
   ]
  },
  {
   "cell_type": "code",
   "execution_count": 324,
   "metadata": {},
   "outputs": [
    {
     "data": {
      "text/plain": [
       "Index(['Iran', 'Pakistan', 'Turkey', 'Democratic Republic of the Congo',\n",
       "       'Rwanda', 'Thailand', 'Congo', 'Central African Republic', 'Niger',\n",
       "       'Nigeria', 'Afghanistan', 'India', 'Myanmar', 'Panama', 'Ethiopia',\n",
       "       'Sudan', 'Mexico', 'China', 'Nepal', 'Malaysia', 'Kuwait',\n",
       "       'Saudi Arabia', 'Syria', 'Uganda', 'Republic of Vietnam', 'Israel',\n",
       "       'Ivory Coast', 'Sierra Leone', 'Senegal', 'Guatemala', 'Romania',\n",
       "       'South Africa', 'Zambia', 'Honduras', 'Benin', 'Chad', 'Indonesia',\n",
       "       'Bolivia', 'Chile', 'Colombia', 'Ecuador', 'Hungary', 'Burundi',\n",
       "       'Djibouti', 'Kenya', 'Mozambique', 'Cambodia', 'Iraq', 'Poland',\n",
       "       'Mongolia', 'Norway', 'Laos'],\n",
       "      dtype='object')"
      ]
     },
     "execution_count": 324,
     "metadata": {},
     "output_type": "execute_result"
    }
   ],
   "source": [
    "df_tmp.loc[df_tmp[feat] <- thr].index.drop_duplicates()"
   ]
  },
  {
   "cell_type": "code",
   "execution_count": 325,
   "metadata": {},
   "outputs": [],
   "source": [
    "tmp=df_pre-df_pos"
   ]
  },
  {
   "cell_type": "code",
   "execution_count": 326,
   "metadata": {},
   "outputs": [
    {
     "data": {
      "text/html": [
       "<div>\n",
       "<style scoped>\n",
       "    .dataframe tbody tr th:only-of-type {\n",
       "        vertical-align: middle;\n",
       "    }\n",
       "\n",
       "    .dataframe tbody tr th {\n",
       "        vertical-align: top;\n",
       "    }\n",
       "\n",
       "    .dataframe thead th {\n",
       "        text-align: right;\n",
       "    }\n",
       "</style>\n",
       "<table border=\"1\" class=\"dataframe\">\n",
       "  <thead>\n",
       "    <tr style=\"text-align: right;\">\n",
       "      <th></th>\n",
       "      <th>warstds</th>\n",
       "      <th>autonomy</th>\n",
       "      <th>popdense</th>\n",
       "      <th>army85</th>\n",
       "      <th>milper</th>\n",
       "      <th>trade</th>\n",
       "      <th>nmgdp</th>\n",
       "      <th>expgdp</th>\n",
       "      <th>sxpnew</th>\n",
       "      <th>agexp</th>\n",
       "      <th>...</th>\n",
       "      <th>mirps1</th>\n",
       "      <th>mirps2</th>\n",
       "      <th>mirps3</th>\n",
       "      <th>sxpsq</th>\n",
       "      <th>pol4sq</th>\n",
       "      <th>proxregc</th>\n",
       "      <th>tiv_imp</th>\n",
       "      <th>tiv_exp</th>\n",
       "      <th>milexp_gdp</th>\n",
       "      <th>milexp_spe</th>\n",
       "    </tr>\n",
       "  </thead>\n",
       "  <tbody>\n",
       "    <tr>\n",
       "      <th>China</th>\n",
       "      <td>0.000000</td>\n",
       "      <td>0.000000</td>\n",
       "      <td>-4.141289</td>\n",
       "      <td>0.000000</td>\n",
       "      <td>0.000000</td>\n",
       "      <td>0.016232</td>\n",
       "      <td>-100.860270</td>\n",
       "      <td>0.156446</td>\n",
       "      <td>0.000878</td>\n",
       "      <td>0.059892</td>\n",
       "      <td>...</td>\n",
       "      <td>0.000000</td>\n",
       "      <td>0.000000</td>\n",
       "      <td>0.000000</td>\n",
       "      <td>2.227890e-04</td>\n",
       "      <td>10.000000</td>\n",
       "      <td>3.824210e-16</td>\n",
       "      <td>-8.000000</td>\n",
       "      <td>-216.0</td>\n",
       "      <td>NaN</td>\n",
       "      <td>NaN</td>\n",
       "    </tr>\n",
       "    <tr>\n",
       "      <th>Iran</th>\n",
       "      <td>-0.333333</td>\n",
       "      <td>0.000000</td>\n",
       "      <td>-2.175580</td>\n",
       "      <td>0.000000</td>\n",
       "      <td>-95.000000</td>\n",
       "      <td>21.659519</td>\n",
       "      <td>-47.859456</td>\n",
       "      <td>15.308069</td>\n",
       "      <td>0.210750</td>\n",
       "      <td>-4.421042</td>\n",
       "      <td>...</td>\n",
       "      <td>-0.061038</td>\n",
       "      <td>0.236424</td>\n",
       "      <td>-0.122978</td>\n",
       "      <td>1.073895e-01</td>\n",
       "      <td>13.326084</td>\n",
       "      <td>-3.333333e-01</td>\n",
       "      <td>3547.000000</td>\n",
       "      <td>81.0</td>\n",
       "      <td>3.766667</td>\n",
       "      <td>NaN</td>\n",
       "    </tr>\n",
       "    <tr>\n",
       "      <th>Pakistan</th>\n",
       "      <td>0.000000</td>\n",
       "      <td>0.000000</td>\n",
       "      <td>-9.124674</td>\n",
       "      <td>0.000000</td>\n",
       "      <td>-26.333333</td>\n",
       "      <td>2.928050</td>\n",
       "      <td>390.664226</td>\n",
       "      <td>2.031149</td>\n",
       "      <td>0.008159</td>\n",
       "      <td>4.402715</td>\n",
       "      <td>...</td>\n",
       "      <td>-1.000000</td>\n",
       "      <td>0.000000</td>\n",
       "      <td>1.000000</td>\n",
       "      <td>7.216357e-04</td>\n",
       "      <td>15.000000</td>\n",
       "      <td>-3.281250e-01</td>\n",
       "      <td>-479.000000</td>\n",
       "      <td>NaN</td>\n",
       "      <td>0.400000</td>\n",
       "      <td>NaN</td>\n",
       "    </tr>\n",
       "    <tr>\n",
       "      <th>Libya</th>\n",
       "      <td>0.000000</td>\n",
       "      <td>0.000000</td>\n",
       "      <td>0.043766</td>\n",
       "      <td>444.498733</td>\n",
       "      <td>0.283966</td>\n",
       "      <td>-0.011660</td>\n",
       "      <td>0.153508</td>\n",
       "      <td>-0.010446</td>\n",
       "      <td>-0.000038</td>\n",
       "      <td>-0.011129</td>\n",
       "      <td>...</td>\n",
       "      <td>0.000000</td>\n",
       "      <td>0.000000</td>\n",
       "      <td>0.000000</td>\n",
       "      <td>-8.658000e-06</td>\n",
       "      <td>0.000000</td>\n",
       "      <td>1.051463e-04</td>\n",
       "      <td>4.000000</td>\n",
       "      <td>NaN</td>\n",
       "      <td>-0.683333</td>\n",
       "      <td>NaN</td>\n",
       "    </tr>\n",
       "    <tr>\n",
       "      <th>Mali</th>\n",
       "      <td>0.000000</td>\n",
       "      <td>0.002833</td>\n",
       "      <td>55.597439</td>\n",
       "      <td>56365.014200</td>\n",
       "      <td>53.045604</td>\n",
       "      <td>0.021107</td>\n",
       "      <td>12.923584</td>\n",
       "      <td>-0.049425</td>\n",
       "      <td>0.000309</td>\n",
       "      <td>-2.757692</td>\n",
       "      <td>...</td>\n",
       "      <td>0.086818</td>\n",
       "      <td>0.159182</td>\n",
       "      <td>0.181689</td>\n",
       "      <td>3.783717e-04</td>\n",
       "      <td>6.063935</td>\n",
       "      <td>4.640526e-01</td>\n",
       "      <td>-4.000000</td>\n",
       "      <td>NaN</td>\n",
       "      <td>-0.100000</td>\n",
       "      <td>NaN</td>\n",
       "    </tr>\n",
       "    <tr>\n",
       "      <th>...</th>\n",
       "      <td>...</td>\n",
       "      <td>...</td>\n",
       "      <td>...</td>\n",
       "      <td>...</td>\n",
       "      <td>...</td>\n",
       "      <td>...</td>\n",
       "      <td>...</td>\n",
       "      <td>...</td>\n",
       "      <td>...</td>\n",
       "      <td>...</td>\n",
       "      <td>...</td>\n",
       "      <td>...</td>\n",
       "      <td>...</td>\n",
       "      <td>...</td>\n",
       "      <td>...</td>\n",
       "      <td>...</td>\n",
       "      <td>...</td>\n",
       "      <td>...</td>\n",
       "      <td>...</td>\n",
       "      <td>...</td>\n",
       "      <td>...</td>\n",
       "    </tr>\n",
       "    <tr>\n",
       "      <th>Zambia</th>\n",
       "      <td>0.000000</td>\n",
       "      <td>0.000000</td>\n",
       "      <td>-0.404447</td>\n",
       "      <td>0.000000</td>\n",
       "      <td>-1.666667</td>\n",
       "      <td>4.992313</td>\n",
       "      <td>-162.749390</td>\n",
       "      <td>11.820098</td>\n",
       "      <td>-0.109657</td>\n",
       "      <td>-0.200000</td>\n",
       "      <td>...</td>\n",
       "      <td>0.500000</td>\n",
       "      <td>-0.500000</td>\n",
       "      <td>0.000000</td>\n",
       "      <td>-2.286151e-02</td>\n",
       "      <td>-40.500000</td>\n",
       "      <td>-4.983215e-01</td>\n",
       "      <td>35.000000</td>\n",
       "      <td>NaN</td>\n",
       "      <td>NaN</td>\n",
       "      <td>NaN</td>\n",
       "    </tr>\n",
       "    <tr>\n",
       "      <th>Botswana</th>\n",
       "      <td>0.000000</td>\n",
       "      <td>0.000000</td>\n",
       "      <td>-0.157585</td>\n",
       "      <td>0.000000</td>\n",
       "      <td>-0.666667</td>\n",
       "      <td>-6.151730</td>\n",
       "      <td>212.388753</td>\n",
       "      <td>-10.650709</td>\n",
       "      <td>-0.000338</td>\n",
       "      <td>-0.009738</td>\n",
       "      <td>...</td>\n",
       "      <td>0.000000</td>\n",
       "      <td>0.000000</td>\n",
       "      <td>0.000000</td>\n",
       "      <td>-1.742168e-04</td>\n",
       "      <td>0.000000</td>\n",
       "      <td>1.594933e-09</td>\n",
       "      <td>5.000000</td>\n",
       "      <td>NaN</td>\n",
       "      <td>0.366667</td>\n",
       "      <td>NaN</td>\n",
       "    </tr>\n",
       "    <tr>\n",
       "      <th>Mozambique</th>\n",
       "      <td>0.000000</td>\n",
       "      <td>0.000000</td>\n",
       "      <td>-0.881246</td>\n",
       "      <td>0.000000</td>\n",
       "      <td>4.500000</td>\n",
       "      <td>13.168959</td>\n",
       "      <td>39.556722</td>\n",
       "      <td>6.332911</td>\n",
       "      <td>-0.000006</td>\n",
       "      <td>-5.275460</td>\n",
       "      <td>...</td>\n",
       "      <td>0.000000</td>\n",
       "      <td>0.000000</td>\n",
       "      <td>0.000000</td>\n",
       "      <td>-4.788333e-07</td>\n",
       "      <td>0.000000</td>\n",
       "      <td>4.176797e-04</td>\n",
       "      <td>-22.500000</td>\n",
       "      <td>NaN</td>\n",
       "      <td>-1.316667</td>\n",
       "      <td>NaN</td>\n",
       "    </tr>\n",
       "    <tr>\n",
       "      <th>South Africa</th>\n",
       "      <td>0.000000</td>\n",
       "      <td>0.000000</td>\n",
       "      <td>-1.574994</td>\n",
       "      <td>0.000000</td>\n",
       "      <td>4.166667</td>\n",
       "      <td>10.874635</td>\n",
       "      <td>105.553548</td>\n",
       "      <td>5.086818</td>\n",
       "      <td>0.010076</td>\n",
       "      <td>-1.180000</td>\n",
       "      <td>...</td>\n",
       "      <td>0.000000</td>\n",
       "      <td>0.000000</td>\n",
       "      <td>0.000000</td>\n",
       "      <td>1.196611e-03</td>\n",
       "      <td>0.000000</td>\n",
       "      <td>0.000000e+00</td>\n",
       "      <td>54.333333</td>\n",
       "      <td>-5.0</td>\n",
       "      <td>-0.100000</td>\n",
       "      <td>NaN</td>\n",
       "    </tr>\n",
       "    <tr>\n",
       "      <th>Zambia</th>\n",
       "      <td>0.000000</td>\n",
       "      <td>0.000000</td>\n",
       "      <td>-0.650914</td>\n",
       "      <td>0.000000</td>\n",
       "      <td>1.333333</td>\n",
       "      <td>7.218934</td>\n",
       "      <td>78.144206</td>\n",
       "      <td>-1.428473</td>\n",
       "      <td>0.000173</td>\n",
       "      <td>-3.996873</td>\n",
       "      <td>...</td>\n",
       "      <td>0.000000</td>\n",
       "      <td>0.000000</td>\n",
       "      <td>0.000000</td>\n",
       "      <td>7.829333e-05</td>\n",
       "      <td>0.000000</td>\n",
       "      <td>6.539200e-06</td>\n",
       "      <td>74.333333</td>\n",
       "      <td>NaN</td>\n",
       "      <td>NaN</td>\n",
       "      <td>NaN</td>\n",
       "    </tr>\n",
       "  </tbody>\n",
       "</table>\n",
       "<p>402 rows × 87 columns</p>\n",
       "</div>"
      ],
      "text/plain": [
       "               warstds  autonomy   popdense        army85     milper  \\\n",
       "China         0.000000  0.000000  -4.141289      0.000000   0.000000   \n",
       "Iran         -0.333333  0.000000  -2.175580      0.000000 -95.000000   \n",
       "Pakistan      0.000000  0.000000  -9.124674      0.000000 -26.333333   \n",
       "Libya         0.000000  0.000000   0.043766    444.498733   0.283966   \n",
       "Mali          0.000000  0.002833  55.597439  56365.014200  53.045604   \n",
       "...                ...       ...        ...           ...        ...   \n",
       "Zambia        0.000000  0.000000  -0.404447      0.000000  -1.666667   \n",
       "Botswana      0.000000  0.000000  -0.157585      0.000000  -0.666667   \n",
       "Mozambique    0.000000  0.000000  -0.881246      0.000000   4.500000   \n",
       "South Africa  0.000000  0.000000  -1.574994      0.000000   4.166667   \n",
       "Zambia        0.000000  0.000000  -0.650914      0.000000   1.333333   \n",
       "\n",
       "                  trade       nmgdp     expgdp    sxpnew     agexp  ...  \\\n",
       "China          0.016232 -100.860270   0.156446  0.000878  0.059892  ...   \n",
       "Iran          21.659519  -47.859456  15.308069  0.210750 -4.421042  ...   \n",
       "Pakistan       2.928050  390.664226   2.031149  0.008159  4.402715  ...   \n",
       "Libya         -0.011660    0.153508  -0.010446 -0.000038 -0.011129  ...   \n",
       "Mali           0.021107   12.923584  -0.049425  0.000309 -2.757692  ...   \n",
       "...                 ...         ...        ...       ...       ...  ...   \n",
       "Zambia         4.992313 -162.749390  11.820098 -0.109657 -0.200000  ...   \n",
       "Botswana      -6.151730  212.388753 -10.650709 -0.000338 -0.009738  ...   \n",
       "Mozambique    13.168959   39.556722   6.332911 -0.000006 -5.275460  ...   \n",
       "South Africa  10.874635  105.553548   5.086818  0.010076 -1.180000  ...   \n",
       "Zambia         7.218934   78.144206  -1.428473  0.000173 -3.996873  ...   \n",
       "\n",
       "                mirps1    mirps2    mirps3         sxpsq     pol4sq  \\\n",
       "China         0.000000  0.000000  0.000000  2.227890e-04  10.000000   \n",
       "Iran         -0.061038  0.236424 -0.122978  1.073895e-01  13.326084   \n",
       "Pakistan     -1.000000  0.000000  1.000000  7.216357e-04  15.000000   \n",
       "Libya         0.000000  0.000000  0.000000 -8.658000e-06   0.000000   \n",
       "Mali          0.086818  0.159182  0.181689  3.783717e-04   6.063935   \n",
       "...                ...       ...       ...           ...        ...   \n",
       "Zambia        0.500000 -0.500000  0.000000 -2.286151e-02 -40.500000   \n",
       "Botswana      0.000000  0.000000  0.000000 -1.742168e-04   0.000000   \n",
       "Mozambique    0.000000  0.000000  0.000000 -4.788333e-07   0.000000   \n",
       "South Africa  0.000000  0.000000  0.000000  1.196611e-03   0.000000   \n",
       "Zambia        0.000000  0.000000  0.000000  7.829333e-05   0.000000   \n",
       "\n",
       "                  proxregc      tiv_imp  tiv_exp  milexp_gdp  milexp_spe  \n",
       "China         3.824210e-16    -8.000000   -216.0         NaN         NaN  \n",
       "Iran         -3.333333e-01  3547.000000     81.0    3.766667         NaN  \n",
       "Pakistan     -3.281250e-01  -479.000000      NaN    0.400000         NaN  \n",
       "Libya         1.051463e-04     4.000000      NaN   -0.683333         NaN  \n",
       "Mali          4.640526e-01    -4.000000      NaN   -0.100000         NaN  \n",
       "...                    ...          ...      ...         ...         ...  \n",
       "Zambia       -4.983215e-01    35.000000      NaN         NaN         NaN  \n",
       "Botswana      1.594933e-09     5.000000      NaN    0.366667         NaN  \n",
       "Mozambique    4.176797e-04   -22.500000      NaN   -1.316667         NaN  \n",
       "South Africa  0.000000e+00    54.333333     -5.0   -0.100000         NaN  \n",
       "Zambia        6.539200e-06    74.333333      NaN         NaN         NaN  \n",
       "\n",
       "[402 rows x 87 columns]"
      ]
     },
     "execution_count": 326,
     "metadata": {},
     "output_type": "execute_result"
    }
   ],
   "source": [
    "tmp"
   ]
  },
  {
   "cell_type": "code",
   "execution_count": 327,
   "metadata": {},
   "outputs": [
    {
     "data": {
      "text/plain": [
       "55.277803371016255"
      ]
     },
     "execution_count": 327,
     "metadata": {},
     "output_type": "execute_result"
    }
   ],
   "source": [
    "np.nanmean(df_pre['life'].drop_duplicates())"
   ]
  },
  {
   "cell_type": "code",
   "execution_count": 328,
   "metadata": {},
   "outputs": [
    {
     "data": {
      "text/plain": [
       "55.28282034234893"
      ]
     },
     "execution_count": 328,
     "metadata": {},
     "output_type": "execute_result"
    }
   ],
   "source": [
    "np.nanmean(df_pos['life'].drop_duplicates())"
   ]
  },
  {
   "cell_type": "code",
   "execution_count": 329,
   "metadata": {},
   "outputs": [
    {
     "data": {
      "text/plain": [
       "Index(['China', 'Iran', 'Pakistan', 'Libya', 'Mali', 'Mauritania', 'Morocco',\n",
       "       'Niger', 'Tunisia', 'Congo',\n",
       "       ...\n",
       "       'Ireland', 'Belarus', 'Estonia', 'Finland', 'Kazakhstan', 'Latvia',\n",
       "       'Lithuania', 'Norway', 'Poland', 'Oman'],\n",
       "      dtype='object', length=113)"
      ]
     },
     "execution_count": 329,
     "metadata": {},
     "output_type": "execute_result"
    }
   ],
   "source": [
    "df_tmp.index.drop_duplicates()"
   ]
  },
  {
   "cell_type": "code",
   "execution_count": 330,
   "metadata": {},
   "outputs": [
    {
     "data": {
      "text/plain": [
       "0                            Afghanistan\n",
       "56                               Albania\n",
       "112                              Algeria\n",
       "150                               Angola\n",
       "176                            Argentina\n",
       "                      ...               \n",
       "6983                          Yugoslavia\n",
       "7029    Yugoslavia/Serbia and Montenegro\n",
       "7039    Democratic Republic of the Congo\n",
       "7079                              Zambia\n",
       "7116                            Zimbabwe\n",
       "Name: country, Length: 176, dtype: object"
      ]
     },
     "execution_count": 330,
     "metadata": {},
     "output_type": "execute_result"
    }
   ],
   "source": [
    "sambanis.country.drop_duplicates()"
   ]
  },
  {
   "cell_type": "code",
   "execution_count": 392,
   "metadata": {},
   "outputs": [],
   "source": [
    "countries_CW = list(sambanis.loc[sambanis[\"warstds\"] == 1].country.drop_duplicates())"
   ]
  },
  {
   "cell_type": "code",
   "execution_count": 393,
   "metadata": {},
   "outputs": [],
   "source": [
    "countries_noCW = [c for c in sambanis.country.drop_duplicates() if c not in countries_CW]"
   ]
  },
  {
   "cell_type": "code",
   "execution_count": 406,
   "metadata": {},
   "outputs": [],
   "source": [
    "feat = 'life'\n",
    "\n",
    "no_CW = []\n",
    "CW = []\n",
    "year = [i for i in range(1965,2001)]\n",
    "\n",
    "for i in year:\n",
    "    CW.append(\n",
    "    np.nanmean(sambanis.loc[(sambanis.year==i) & (sambanis[\"country\"].isin(countries_CW))][feat]))\n",
    "    no_CW.append(\n",
    "    np.nanmean(sambanis.loc[(sambanis.year==i) & (sambanis[\"country\"].isin(countries_noCW))][feat])) "
   ]
  },
  {
   "cell_type": "code",
   "execution_count": 407,
   "metadata": {},
   "outputs": [
    {
     "data": {
      "image/png": "[encoded data removed]",
      "text/plain": [
       "<Figure size 432x288 with 1 Axes>"
      ]
     },
     "metadata": {
      "needs_background": "light"
     },
     "output_type": "display_data"
    }
   ],
   "source": [
    "plt.plot(year, CW, label=\"CW\")\n",
    "plt.plot(year, no_CW, label=\"no CW\")\n",
    "plt.title(feat)\n",
    "plt.legend()\n",
    "plt.show()"
   ]
  },
  {
   "cell_type": "code",
   "execution_count": 408,
   "metadata": {},
   "outputs": [
    {
     "name": "stdout",
     "output_type": "stream",
     "text": [
      "49.342746733818196\n",
      "58.1247655469697\n"
     ]
    }
   ],
   "source": [
    "print(np.nanmean(sambanis.loc[(sambanis.year==1965) & (sambanis[\"country\"].isin(countries_CW))][feat]))\n",
    "print(np.nanmean(sambanis.loc[(sambanis.year==1965) & (sambanis[\"country\"].isin(countries_noCW))][feat]))"
   ]
  },
  {
   "cell_type": "code",
   "execution_count": 335,
   "metadata": {},
   "outputs": [
    {
     "data": {
      "text/plain": [
       "[<matplotlib.lines.Line2D at 0x7f32a9cc1d60>]"
      ]
     },
     "execution_count": 335,
     "metadata": {},
     "output_type": "execute_result"
    },
    {
     "data": {
      "image/png": "[encoded data removed]",
      "text/plain": [
       "<Figure size 432x288 with 1 Axes>"
      ]
     },
     "metadata": {
      "needs_background": "light"
     },
     "output_type": "display_data"
    }
   ],
   "source": [
    "plt.plot(year, CW, label=\"CW\")\n",
    "plt.plot(year, no_CW, label=\"no CW\")"
   ]
  },
  {
   "cell_type": "code",
   "execution_count": 336,
   "metadata": {},
   "outputs": [],
   "source": [
    "sambanis['year'] = sambanis['year'].apply(lambda x : int(x.year))"
   ]
  },
  {
   "cell_type": "code",
   "execution_count": 374,
   "metadata": {},
   "outputs": [],
   "source": [
    "onsets = [(y[0],y[1]) for x, y in sambanis.loc[sambanis[\"warstds\"]==1][[\"year\",\"country\"]].iterrows()]\n",
    "\n",
    "#onsets oil countries\n",
    "onsets = [(y[0],y[1]) for x, y in sambanis.loc[(sambanis[\"warstds\"]==1) & (sambanis[\"oil\"]==1)][[\"year\",\"country\"]].iterrows()]"
   ]
  },
  {
   "cell_type": "code",
   "execution_count": 375,
   "metadata": {},
   "outputs": [
    {
     "name": "stdout",
     "output_type": "stream",
     "text": [
      "* Indonesia (1950) 24 0.16040712199999999\n",
      "* Indonesia (1953) 21 0.15991143\n",
      "Indonesia (1986)\n",
      "Iran (1978)\n",
      "Iraq (1959)\n",
      "Russia (1999)\n"
     ]
    }
   ],
   "source": [
    "feat = 'sxpnew'\n",
    "\n",
    "j = 0\n",
    "year_to_recov = []\n",
    "\n",
    "for i in range(len(onsets)):\n",
    "    val = max(sambanis.loc[\n",
    "                    (sambanis.country==onsets[i][1]) & \\\n",
    "                    (sambanis.year>=int(onsets[i][0]-1)) & \\\n",
    "                    (sambanis.year<=int(onsets[i][0]+1))\n",
    "                     ][feat]\n",
    "             )\n",
    "\n",
    "    next_date = list(sambanis.loc[(sambanis.country==onsets[i][1]) & \\\n",
    "                (sambanis.year>=onsets[i][0]) & \\\n",
    "                (sambanis[feat]>=val)\n",
    "                ]['year'])\n",
    "    if len(next_date)>0:\n",
    "        next_date=int(next_date[0])\n",
    "        year_to_recov.append(\n",
    "        next_date-onsets[i][0])\n",
    "        if next_date-onsets[i][0] > 20:\n",
    "            print(\"*\", onsets[i][1], \"(\"+str(onsets[i][0])+\")\", next_date-onsets[i][0], val)\n",
    "\n",
    "    else:\n",
    "        print(onsets[i][1], \"(\"+str(onsets[i][0])+\")\")\n",
    "        j+=1\n"
   ]
  },
  {
   "cell_type": "code",
   "execution_count": 383,
   "metadata": {
    "scrolled": true
   },
   "outputs": [
    {
     "data": {
      "text/plain": [
       "4.5"
      ]
     },
     "execution_count": 383,
     "metadata": {},
     "output_type": "execute_result"
    }
   ],
   "source": [
    "np.median(np.array(year_to_recov))"
   ]
  },
  {
   "cell_type": "code",
   "execution_count": 377,
   "metadata": {},
   "outputs": [
    {
     "data": {
      "text/html": [
       "<div>\n",
       "<style scoped>\n",
       "    .dataframe tbody tr th:only-of-type {\n",
       "        vertical-align: middle;\n",
       "    }\n",
       "\n",
       "    .dataframe tbody tr th {\n",
       "        vertical-align: top;\n",
       "    }\n",
       "\n",
       "    .dataframe thead th {\n",
       "        text-align: right;\n",
       "    }\n",
       "</style>\n",
       "<table border=\"1\" class=\"dataframe\">\n",
       "  <thead>\n",
       "    <tr style=\"text-align: right;\">\n",
       "      <th></th>\n",
       "      <th>year</th>\n",
       "      <th>warstds</th>\n",
       "      <th>gdpgrowth</th>\n",
       "    </tr>\n",
       "  </thead>\n",
       "  <tbody>\n",
       "    <tr>\n",
       "      <th>6822</th>\n",
       "      <td>1955</td>\n",
       "      <td>0</td>\n",
       "      <td>0.022561</td>\n",
       "    </tr>\n",
       "    <tr>\n",
       "      <th>6823</th>\n",
       "      <td>1956</td>\n",
       "      <td>0</td>\n",
       "      <td>0.022432</td>\n",
       "    </tr>\n",
       "    <tr>\n",
       "      <th>6824</th>\n",
       "      <td>1957</td>\n",
       "      <td>0</td>\n",
       "      <td>0.022385</td>\n",
       "    </tr>\n",
       "    <tr>\n",
       "      <th>6825</th>\n",
       "      <td>1958</td>\n",
       "      <td>0</td>\n",
       "      <td>0.022485</td>\n",
       "    </tr>\n",
       "    <tr>\n",
       "      <th>6826</th>\n",
       "      <td>1959</td>\n",
       "      <td>0</td>\n",
       "      <td>0.022290</td>\n",
       "    </tr>\n",
       "  </tbody>\n",
       "</table>\n",
       "</div>"
      ],
      "text/plain": [
       "      year  warstds  gdpgrowth\n",
       "6822  1955        0   0.022561\n",
       "6823  1956        0   0.022432\n",
       "6824  1957        0   0.022385\n",
       "6825  1958        0   0.022485\n",
       "6826  1959        0   0.022290"
      ]
     },
     "execution_count": 377,
     "metadata": {},
     "output_type": "execute_result"
    }
   ],
   "source": [
    "sambanis.loc[sambanis.country=='Republic of Vietnam'][['year','warstds','gdpgrowth']].head()"
   ]
  },
  {
   "cell_type": "code",
   "execution_count": 387,
   "metadata": {},
   "outputs": [
    {
     "data": {
      "image/png": "[encoded data removed]",
      "text/plain": [
       "<Figure size 432x288 with 1 Axes>"
      ]
     },
     "metadata": {
      "needs_background": "light"
     },
     "output_type": "display_data"
    }
   ],
   "source": [
    "plt.hist(year_to_recov)\n",
    "#plt.yscale('log')\n",
    "plt.axvline(x=30, ymax=np.log(j)/np.log(2), c='r', \n",
    "            ls='--',\n",
    "            label=f\"did not recovered before 2020: {j}\")\n",
    "plt.title(feat+ \" in oil countries\")\n",
    "plt.ylabel(\"number of country\")\n",
    "plt.xlabel(\"year before recovery\")\n",
    "plt.legend()\n",
    "plt.show()"
   ]
  },
  {
   "cell_type": "code",
   "execution_count": null,
   "metadata": {},
   "outputs": [],
   "source": []
  }
 ],
 "metadata": {
  "kernelspec": {
   "display_name": "pyt3.8",
   "language": "python",
   "name": "pyt3.8"
  },
  "language_info": {
   "codemirror_mode": {
    "name": "ipython",
    "version": 3
   },
   "file_extension": ".py",
   "mimetype": "text/x-python",
   "name": "python",
   "nbconvert_exporter": "python",
   "pygments_lexer": "ipython3",
   "version": "3.8.6"
  }
 },
 "nbformat": 4,
 "nbformat_minor": 2
}
