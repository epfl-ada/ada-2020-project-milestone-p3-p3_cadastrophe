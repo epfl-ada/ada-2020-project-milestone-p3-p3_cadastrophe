{
 "cells": [
  {
   "cell_type": "markdown",
   "metadata": {},
   "source": [
    "## Some data exploration"
   ]
  },
  {
   "cell_type": "code",
   "execution_count": 1,
   "metadata": {},
   "outputs": [],
   "source": [
    "# import statements \n",
    "import pandas as pd\n",
    "import numpy as np\n",
    "import matplotlib.pyplot as plt\n",
    "from sklearn.linear_model  import LogisticRegression\n",
    "from sklearn.metrics import roc_curve, auc\n",
    "from sklearn.model_selection import cross_val_predict\n",
    "import datetime as dt"
   ]
  },
  {
   "cell_type": "markdown",
   "metadata": {},
   "source": [
    "quick look at the Sambanis dataset"
   ]
  },
  {
   "cell_type": "code",
   "execution_count": 2,
   "metadata": {},
   "outputs": [
    {
     "name": "stdout",
     "output_type": "stream",
     "text": [
      "Sambanis dataset has 7140 rows with 285 features.\n",
      "There are 116 civil war in the dataset.\n",
      "There are 72 different country which had a CW (some countries had multiple CW)\n",
      "The data ranges from 1945 to 2000. The first CW dates form 1946 and the last 1999\n"
     ]
    }
   ],
   "source": [
    "sambanis = pd.read_csv(\"SambnisImp.csv\",index_col=0)\n",
    "print(f'Sambanis dataset has {sambanis.shape[0]} rows with {sambanis.shape[1]} features.')\n",
    "#civil_war contains only the observations with a civil war\n",
    "civil_war = sambanis[sambanis[\"warstds\"]==1]\n",
    "print(f'There are {civil_war.shape[0]} civil war in the dataset.')\n",
    "nb_country_cw = len(civil_war['cowcode'].value_counts())\n",
    "print(f'There are {nb_country_cw} different country which had a CW (some countries had multiple CW)')\n",
    "print(f'The data ranges from 1945 to 2000. The first CW dates form {min(civil_war.year)} and the last {max(civil_war.year)}')"
   ]
  },
  {
   "cell_type": "markdown",
   "metadata": {},
   "source": [
    "quick look at trade_reg.csv. created from Trade-Register-1950-2000.txt"
   ]
  },
  {
   "cell_type": "code",
   "execution_count": 3,
   "metadata": {},
   "outputs": [],
   "source": [
    "trade = pd.read_csv(\"trade_reg.csv\",sep='\\t')"
   ]
  },
  {
   "cell_type": "code",
   "execution_count": 4,
   "metadata": {},
   "outputs": [
    {
     "name": "stdout",
     "output_type": "stream",
     "text": [
      "The data ranges from (1940) to 2000.\n"
     ]
    },
    {
     "data": {
      "text/plain": [
       "United States          6226\n",
       "Soviet Union           3358\n",
       "France                 1854\n",
       "United Kingdom         1689\n",
       "Germany                 706\n",
       "                       ... \n",
       "Bangladesh                1\n",
       "FMLN (El Salvador)*       1\n",
       "Guatemala                 1\n",
       "Sri Lanka                 1\n",
       "Cyprus                    1\n",
       "Name: supplier, Length: 115, dtype: int64"
      ]
     },
     "execution_count": 4,
     "metadata": {},
     "output_type": "execute_result"
    }
   ],
   "source": [
    "print(f'The data ranges from {min(trade.year_order)} to {max(trade.year_order)}.')\n",
    "trade.supplier.value_counts()  "
   ]
  },
  {
   "cell_type": "code",
   "execution_count": 5,
   "metadata": {},
   "outputs": [
    {
     "data": {
      "text/plain": [
       "Egypt                  433\n",
       "India                  427\n",
       "Turkey                 409\n",
       "Greece                 407\n",
       "Thailand               382\n",
       "                      ... \n",
       "MPLA (Portugal)*         1\n",
       " Congo                   1\n",
       "Russia                   1\n",
       " Zimbabwe                1\n",
       " East Germany (GDR)      1\n",
       "Name: recipient, Length: 298, dtype: int64"
      ]
     },
     "execution_count": 5,
     "metadata": {},
     "output_type": "execute_result"
    }
   ],
   "source": [
    "trade.recipient.value_counts()"
   ]
  },
  {
   "cell_type": "markdown",
   "metadata": {},
   "source": [
    "Adding the \"country\" column in sambanis dataset based on the cowcodes"
   ]
  },
  {
   "cell_type": "code",
   "execution_count": 6,
   "metadata": {},
   "outputs": [],
   "source": [
    "#loading the cowcode dataset\n",
    "cowcodes = pd.read_csv(\"COW_country_codes.csv\")\n",
    "cowcodes = cowcodes.rename(columns={'CCode': 'cowcode', 'StateNme':'country'})\n",
    "#create the dictionaries\n",
    "dict_cowcode = dict(zip(cowcodes.cowcode,cowcodes.country))\n",
    "dict_cowcode_abb = dict(zip(cowcodes.cowcode,cowcodes.StateAbb))\n",
    "\n",
    "sambanis['country'] = sambanis.cowcode.map(dict_cowcode)\n",
    "sambanis['country_abb'] =sambanis.cowcode.map(dict_cowcode_abb) \n",
    "#don't know if it is necessary to add the abbreviation but I figured it could be useful"
   ]
  },
  {
   "cell_type": "markdown",
   "metadata": {},
   "source": [
    "Counting how many countries who had a civil war were also the recipient of weapons within a time range"
   ]
  },
  {
   "cell_type": "code",
   "execution_count": 7,
   "metadata": {},
   "outputs": [],
   "source": [
    "trade.year_order = trade.year_order.str.strip('( )') \n",
    "#j'ai juste enlevé les parenthèse mais je sais pas si on devrait garder ces lignes ou pas\n",
    "#trade.recipient = trade.recipient.str.strip(' ')\n",
    "\n",
    "#transform to datetime\n",
    "sambanis['year'] = pd.to_datetime(sambanis['year'],format='%Y')\n",
    "trade['year_order'] = pd.to_datetime(trade['year_order'],format='%Y')"
   ]
  },
  {
   "cell_type": "code",
   "execution_count": 8,
   "metadata": {},
   "outputs": [
    {
     "name": "stderr",
     "output_type": "stream",
     "text": [
      "C:\\Users\\Cindy\\Anaconda3\\lib\\site-packages\\ipykernel_launcher.py:2: SettingWithCopyWarning: \n",
      "A value is trying to be set on a copy of a slice from a DataFrame.\n",
      "Try using .loc[row_indexer,col_indexer] = value instead\n",
      "\n",
      "See the caveats in the documentation: https://pandas.pydata.org/pandas-docs/stable/user_guide/indexing.html#returning-a-view-versus-a-copy\n",
      "  \n"
     ]
    }
   ],
   "source": [
    "civil_war = sambanis[sambanis[\"warstds\"]==1]\n",
    "civil_war['import_weapons'] = 0"
   ]
  },
  {
   "cell_type": "code",
   "execution_count": 9,
   "metadata": {},
   "outputs": [
    {
     "name": "stderr",
     "output_type": "stream",
     "text": [
      "C:\\Users\\Cindy\\Anaconda3\\lib\\site-packages\\pandas\\core\\indexing.py:1765: SettingWithCopyWarning: \n",
      "A value is trying to be set on a copy of a slice from a DataFrame.\n",
      "Try using .loc[row_indexer,col_indexer] = value instead\n",
      "\n",
      "See the caveats in the documentation: https://pandas.pydata.org/pandas-docs/stable/user_guide/indexing.html#returning-a-view-versus-a-copy\n",
      "  isetter(loc, value)\n"
     ]
    }
   ],
   "source": [
    " for id in civil_war.index:\n",
    "    country = civil_war.country.loc[id]\n",
    "    date = civil_war.year.loc[id]\n",
    "    start = date + dt.timedelta(days=-365) # 3 years, to be changed?\n",
    "    end = date + dt.timedelta(days=365)\n",
    "    mask = (trade['year_order'] >= start) & (trade['year_order'] <= end)\n",
    "    trade_tmp = trade.loc[mask]\n",
    "    if (trade_tmp.recipient.str.contains(country).sum()>0):\n",
    "        civil_war.loc[id,'import_weapons'] = 1"
   ]
  },
  {
   "cell_type": "code",
   "execution_count": 10,
   "metadata": {},
   "outputs": [
    {
     "data": {
      "text/plain": [
       "82"
      ]
     },
     "execution_count": 10,
     "metadata": {},
     "output_type": "execute_result"
    }
   ],
   "source": [
    "civil_war['import_weapons'].sum() "
   ]
  },
  {
   "cell_type": "code",
   "execution_count": null,
   "metadata": {},
   "outputs": [],
   "source": []
  },
  {
   "cell_type": "code",
   "execution_count": null,
   "metadata": {},
   "outputs": [],
   "source": []
  },
  {
   "cell_type": "code",
   "execution_count": null,
   "metadata": {},
   "outputs": [],
   "source": []
  },
  {
   "cell_type": "code",
   "execution_count": null,
   "metadata": {},
   "outputs": [],
   "source": []
  },
  {
   "cell_type": "code",
   "execution_count": null,
   "metadata": {},
   "outputs": [],
   "source": []
  }
 ],
 "metadata": {
  "kernelspec": {
   "display_name": "Python 3",
   "language": "python",
   "name": "python3"
  },
  "language_info": {
   "codemirror_mode": {
    "name": "ipython",
    "version": 3
   },
   "file_extension": ".py",
   "mimetype": "text/x-python",
   "name": "python",
   "nbconvert_exporter": "python",
   "pygments_lexer": "ipython3",
   "version": "3.7.4"
  }
 },
 "nbformat": 4,
 "nbformat_minor": 2
}
