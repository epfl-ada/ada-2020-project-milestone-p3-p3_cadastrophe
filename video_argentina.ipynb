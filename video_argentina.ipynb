{
 "cells": [
  {
   "cell_type": "markdown",
   "metadata": {},
   "source": [
    "## Python Imports"
   ]
  },
  {
   "cell_type": "code",
   "execution_count": 1,
   "metadata": {},
   "outputs": [],
   "source": [
    "# import statements \n",
    "import pandas as pd\n",
    "import numpy as np\n",
    "import matplotlib.pyplot as plt\n",
    "import datetime as dt\n",
    "import seaborn as sns"
   ]
  },
  {
   "cell_type": "markdown",
   "metadata": {},
   "source": [
    "## Import the Sambanis dataset"
   ]
  },
  {
   "cell_type": "code",
   "execution_count": 2,
   "metadata": {},
   "outputs": [
    {
     "name": "stdout",
     "output_type": "stream",
     "text": [
      "Sambanis dataset has 7140 rows with 93 features.\n",
      "There are 116 civil war in the dataset.\n",
      "There are 72 different country which had a CW (some countries had multiple CW)\n",
      "The data ranges from 1945 to 2000. The first CW dates form 1946 and the last 1999\n"
     ]
    }
   ],
   "source": [
    "# 88 variables specified in Sambanis 2006, found in R code\n",
    "cols_sambanis = [\"warstds\", \"ager\", \"agexp\", \"anoc\", \"army85\", \"autch98\", \"auto4\",\n",
    "        \"autonomy\", \"avgnabo\", \"centpol3\", \"cowcode\", \"coldwar\", \"decade1\", \"decade2\",\n",
    "        \"decade3\", \"decade4\", \"dem\", \"dem4\", \"demch98\", \"dlang\", \"drel\",\n",
    "        \"durable\", \"ef\", \"ef2\", \"ehet\", \"elfo\", \"elfo2\", \"etdo4590\",\n",
    "        \"expgdp\", \"exrec\", \"fedpol3\", \"fuelexp\", \"gdpgrowth\", \"geo1\", \"geo2\",\n",
    "        \"geo34\", \"geo57\", \"geo69\", \"geo8\", \"illiteracy\", \"incumb\", \"infant\",\n",
    "        \"inst\", \"inst3\", \"life\", \"lmtnest\", \"ln_gdpen\", \"lpopns\", \"major\", \"manuexp\", \"milper\",\n",
    "        \"mirps0\", \"mirps1\", \"mirps2\", \"mirps3\", \"nat_war\", \"ncontig\",\n",
    "        \"nmgdp\", \"nmdp4_alt\", \"numlang\", \"nwstate\", \"oil\", \"p4mchg\",\n",
    "        \"parcomp\", \"parreg\", \"part\", \"partfree\", \"plural\", \"plurrel\",\n",
    "        \"pol4\", \"pol4m\", \"pol4sq\", \"polch98\", \"polcomp\", \"popdense\",\n",
    "        \"presi\", \"pri\", \"proxregc\", \"ptime\", \"reg\", \"regd4_alt\", \"relfrac\", \"seceduc\",\n",
    "        \"second\", \"semipol3\", \"sip2\", \"sxpnew\", \"sxpsq\", \"tnatwar\", \"trade\",\n",
    "        \"warhist\", \"xconst\", \"year\"]\n",
    "\n",
    "sambanis = pd.read_csv(\"SambnisImp.csv\", usecols=cols_sambanis)\n",
    "\n",
    "### Print informations\n",
    "print(f'Sambanis dataset has {sambanis.shape[0]} rows with {sambanis.shape[1]} features.')\n",
    "#civil_war contains only the observations with a civil war\n",
    "civil_war = sambanis[sambanis[\"warstds\"]==1]\n",
    "print(f'There are {civil_war.shape[0]} civil war in the dataset.')\n",
    "nb_country_cw = len(civil_war['cowcode'].value_counts())\n",
    "print(f'There are {nb_country_cw} different country which had a CW (some countries had multiple CW)')\n",
    "print(f'The data ranges from 1945 to 2000. The first CW dates form {min(civil_war.year)} and the last {max(civil_war.year)}')"
   ]
  },
  {
   "cell_type": "markdown",
   "metadata": {},
   "source": [
    "## Import the Geographic Neighbours dataset"
   ]
  },
  {
   "cell_type": "code",
   "execution_count": 3,
   "metadata": {},
   "outputs": [],
   "source": [
    "#load the border dataset\n",
    "geodata = pd.read_csv(\"geodata.csv\")"
   ]
  },
  {
   "cell_type": "markdown",
   "metadata": {},
   "source": [
    "## Import the TIV Tables (weapons import and export)"
   ]
  },
  {
   "cell_type": "code",
   "execution_count": 4,
   "metadata": {},
   "outputs": [],
   "source": [
    "df_tiv_import = pd.read_csv(\"TIV-Import-All-1950-2019.csv\")\n",
    "df_tiv_export = pd.read_csv(\"TIV-Export-All-1950-2019.csv\")\n",
    "df_tiv_import.drop(columns=[\"Total\"], inplace=True)\n",
    "df_tiv_export.drop(columns=[\"Total\"], inplace=True)"
   ]
  },
  {
   "cell_type": "markdown",
   "metadata": {},
   "source": [
    "## Import the Military expenses dataset"
   ]
  },
  {
   "cell_type": "code",
   "execution_count": 5,
   "metadata": {},
   "outputs": [],
   "source": [
    "# Expenses as share of the GDP\n",
    "df_milexp_gdp = pd.read_csv(\"SIPRI_Milex_shareGDP_1949_2019.csv\",\n",
    "                            skiprows=5,\n",
    "                            sep=\"\\t\")\n",
    "#remove the footer\n",
    "df_milexp_gdp.drop(index=df_milexp_gdp.index[-8:], inplace=True)\n",
    "\n",
    "#replace the xxx (country did not exist at this time) and .. (data unavailable)\n",
    "df_milexp_gdp.replace([\"xxx\",\". .\"], np.NaN, inplace=True)\n",
    "\n",
    "#remove the % sign and convert to float\n",
    "year_cols = df_milexp_gdp.columns[2:]\n",
    "for i in year_cols:\n",
    "    df_milexp_gdp[i] = df_milexp_gdp[i].str.rstrip('%').astype('float')\n",
    "\n",
    "#lowercase the \"Country\" column\n",
    "df_milexp_gdp.rename(columns={\"Country\":\"country\"}, inplace=True)\n",
    "\n",
    "# Expenses as share of Governement spendings\n",
    "df_milexp_spe = pd.read_csv(\"SIPRI_Milex_shareGovtspend_1949_2019.csv\",\n",
    "                            skiprows=7,\n",
    "                            sep=\"\\t\")\n",
    "\n",
    "#remove the footer\n",
    "df_milexp_spe.drop(index=df_milexp_spe.index[-7:], inplace=True)\n",
    "\n",
    "#replace the xxx (country did not exist at this time) and .. (data unavailable)\n",
    "df_milexp_spe.replace([\"xxx\",\". .\", '#VALUE!'], np.NaN, inplace=True)\n",
    "\n",
    "#remove the % sign and convert to float\n",
    "year_cols = df_milexp_spe.columns[3:]\n",
    "for i in year_cols:\n",
    "    df_milexp_spe[i] = df_milexp_spe[i].str.rstrip('%').astype('float')\n",
    "\n",
    "#lowercase the \"Country\" column\n",
    "df_milexp_spe.rename(columns={\"Country\":\"country\"}, inplace=True)"
   ]
  },
  {
   "cell_type": "markdown",
   "metadata": {},
   "source": [
    "## Import the Systemic Peace dataset"
   ]
  },
  {
   "cell_type": "code",
   "execution_count": 6,
   "metadata": {},
   "outputs": [],
   "source": [
    "df_sys_peace = pd.read_csv(\"sys_peace.csv\", sep=';')\n",
    "df_sys_peace[\"Begin\"] = pd.to_numeric(df_sys_peace[\"Begin\"])\n",
    "mask = df_sys_peace[\"End\"] == \"*\"\n",
    "df_sys_peace.loc[mask,'End'] = df_sys_peace.loc[mask,'Begin']\n",
    "df_sys_peace['End'] = df_sys_peace['End'].str[:4]\n",
    "df_sys_peace[\"End\"] = pd.to_numeric(df_sys_peace[\"End\"], downcast='integer')\n",
    "df_sys_peace = df_sys_peace.loc[df_sys_peace.Begin<2001]\n",
    "df_sys_peace = df_sys_peace.loc[df_sys_peace.End<2001]\n",
    "df_sys_peace[\"End\"] = pd.to_numeric(df_sys_peace[\"End\"], downcast='integer')\n",
    "\n",
    "#some cleaning\n",
    "for artef in [\"2\",\"3\",\"4\",\"5\",\"'\",\" \"]:\n",
    "    df_sys_peace[\"States Directly Involved\"] = df_sys_peace[\"States Directly Involved\"].str.replace(artef, '')"
   ]
  },
  {
   "cell_type": "markdown",
   "metadata": {},
   "source": [
    "## Conversion dictionnaries"
   ]
  },
  {
   "cell_type": "code",
   "execution_count": 7,
   "metadata": {},
   "outputs": [],
   "source": [
    "#convert the variable to their simplied labels\n",
    "var2label_s = dict({\n",
    "    \"sxpsq\":\"Primary Commodity Exports (Squared)\",\n",
    "    \"sxpnew\":\"Primary Commodity Exports\",\n",
    "    \"agexp\":\"Agricultural Raw Materials Exports\",\n",
    "    \"illiteracy\":\"Illiteracy Rate\",\n",
    "    \"manuexp\":\"Manufactures Exports\",\n",
    "    \"milper\":\"Military Power\",\n",
    "    \"fuelexp\":\"Fuel and Oil Exports\",\n",
    "    \"gdpgrowth\":\"GDP Growth\",\n",
    "    \"lpopns\": \"Population (logged)\",\n",
    "    \"trade\":\"Trade as Percent of GDP\",\n",
    "    \"expgdp\":\"Goods & Services Exports\",\n",
    "    \"nmgdp\":\"Neighbors' average GDP per capita)\",\n",
    "    \"popdense\":\"Population Density\",\n",
    "    \"ln_gdpen\":\"GDP per Capita (logged)\",\n",
    "    \"ptime\":\"ptime = ???\",\n",
    "    \"avgnabo\":\"Average SUP score of neighbors\",\n",
    "    \"pri\":\"Primary Education\",\n",
    "    \"ager\":\"Goverment age\",\n",
    "    \"infant\":\"Infant mortality\",\n",
    "    \"durable\":\"Year since last regime transition\",\n",
    "    \"life\":\"Life Expectancy\",\n",
    "    \"seceduc\":\"Secondary Education\",\n",
    "    \"dlang\":\"Linguistic Hetrogeneity\",\n",
    "    \"partfree\":\"Anocracy\",\n",
    "    \"part\":\"ln(Share of population voting x opposition's share \\\n",
    "of votes cast)\",\n",
    "    \"p4mchg\":\"Annual change in modified polity, Polity IV\",\n",
    "    \"demch98\":\"Democracy annual change; Polity 98\",\n",
    "    \"dem\":\"Democracy\",\n",
    "    \"incumb\":\"Consolidation of incumbent advantages (Przeworksi \\\n",
    "et al., 2000)\",\n",
    "    \"army85\":\"Military Power\",\n",
    "    \"major\":\"Majoritatian system\",\n",
    "    \"semipol3\": \"Semi-federal state, Polity III\",\n",
    "    \"oil\":\"Oil Exports per GDP\",\n",
    "    \"lmtnest\":\"Rough Terrain\",\n",
    "    \"autonomy\":\"Country has de facto autonomous regions\",\n",
    "    \"sip2\":\"Continuous measure of democracy\",\n",
    "    \"ehet\":\"Ethnic Heterogeneity\",\n",
    "    \"ef\":\"Ethnic Fractionalization\",\n",
    "    \"regd4_alt\":\"Median Regional Polity Score\",\n",
    "    \"pol4sq\":\"Polity Index squarred\",\n",
    "    \"presi\":\"Presidential system\",\n",
    "    \"proxregc\":\"Regime Transition Score\",\n",
    "    \"inst3\":\"Political Instability\",\n",
    "    \"xconst\":\"Executive constraints - operational independence of CE\",  \n",
    "})\n",
    "\n",
    "# update the conversion dictionnary to facilitate the merge between sambanis and geodata\n",
    "dic_country_conv = dict({\n",
    "    \"Bolivia (Plurinational State Of)\":\"Bolivia\",\n",
    "    'Cabo Verde':'Cape Verde',\n",
    "    'Czechia':'Czech Republic',\n",
    "    'Congo (the Democratic Republic of the)':'Democratic Republic of the Congo',\n",
    "    'Gambia (the)':'Gambia',\n",
    "    'Iran (Islamic Republic of)':'Iran',\n",
    "    'Cote d’Ivoire':'Ivory Coast',\n",
    "    \"Lao People's Democratic Republic\":'Laos',\n",
    "    \"Moldova (the Republic of)\":'Moldova',\n",
    "    'Viet Nam':'Republic of Vietnam',\n",
    "    'Russian Federation':'Russia',\n",
    "    'Korea (the Republic of)':'South Korea',\n",
    "    'Eswatini':'Swaziland',\n",
    "    'Syrian Arab Republic':'Syria',\n",
    "    'Taiwan (Province of China)':'Taiwan',\n",
    "    'Tanzania (the United Republic of)':'Tanzania',\n",
    "    'United Kingdom of Great Britain and Northern Ireland':'United Kingdom',\n",
    "    'Venezuela (Bolivarian Republic of)':'Venezuela',\n",
    "    \"Yemen People's Republic\":'Yemen',\n",
    "    'Yemen Arab Republic':'Yemen'\n",
    "})\n",
    "\n",
    "# update the conversion dictionnary to facilitate the merge between sambanis and import tiv tables\n",
    "dic_country_conv.update({\n",
    "    'Bosnia-Herzegovina':'Bosnia and Herzegovina',\n",
    "    'Cabo Verde':'Cape Verde',\n",
    "    'Viet Nam':'Republic of Vietnam',\n",
    "    'UAE':'United Arab Emirates',\n",
    "    'United States':'United States of America',\n",
    "    'South Yemen':\"Yemen People's Republic\",\n",
    "    'North Yemen':'Yemen Arab Republic',\n",
    "    'DR Congo':'Democratic Republic of the Congo',\n",
    "    \"Cote d'Ivoire\":'Ivory Coast'\n",
    "})\n",
    "\n",
    "# update the conversion dictionnary to facilitate the merge between sambanis and export tiv tables\n",
    "dic_country_conv.update({\n",
    "    'USA':'United States of America',\n",
    "    'Congo, Dem. Rep.':'Democratic Republic of the Congo',\n",
    "    'UK':'United Kingdom',\n",
    "    'Côte d’Ivoire':'Ivory Coast',\n",
    "    'Yemen, North':'Yemen Arab Republic',\n",
    "    'Central African Rep.':'Central African Republic',\n",
    "    'Congo, Repubic of':'Congo',\n",
    "    'Congo, Republic of':'Congo',\n",
    "    'Dominican Rep.':'Dominican Republic',\n",
    "    'Korea, South':'South Korea',\n",
    "    'Trinidad & Tobago':'Trinidad and Tobago'\n",
    "})\n",
    "\n",
    "# update the conversion dictionnary to facilitate the merge between sambanis and systemic peace dataset\n",
    "dic_country_conv.update({\n",
    " 'Bosnia':'Bosnia and Herzegovina',\n",
    " 'Congo-Brazzaville':'Congo',\n",
    " 'ElSalvador':'El Salvador',\n",
    " 'Equatorial Guinea':'Guinea',\n",
    " 'Mauritania(1979)':'Mauritania',\n",
    " 'Myanmar(Burma)':'Myanmar',\n",
    " 'NorthKorea':'North Korea',\n",
    " 'NorthVietnam':'North Vietnam',\n",
    " 'PapuaNewGuinea':'Papua New Guinea',\n",
    " 'SouthAfrica':'South Africa',\n",
    " 'SouthKorea':'South Korea',\n",
    " 'SouthVietnam':'South Vietnam',\n",
    " 'SriLanka':'Sri Lanka',\n",
    " 'UK':'United Kingdom',\n",
    " 'USA':'United States of America',\n",
    " 'Vietnam':'Republic of Vietnam',\n",
    " 'YemenAR':'Yemen Arab Republic',\n",
    " 'YemenPDR':\"Yemen People's Republic\"\n",
    "})"
   ]
  },
  {
   "cell_type": "markdown",
   "metadata": {},
   "source": [
    "## Convert the Sambanis dataset COWCODE to countries' name and abbreviation"
   ]
  },
  {
   "cell_type": "code",
   "execution_count": 8,
   "metadata": {},
   "outputs": [],
   "source": [
    "#loading the cowcode dataset\n",
    "cowcodes = pd.read_csv(\"COW_country_codes.csv\")\n",
    "cowcodes = cowcodes.rename(columns={'CCode': 'cowcode', 'StateNme':'country'})\n",
    "\n",
    "#create the dictionaries\n",
    "dict_cowcode = dict(zip(cowcodes.cowcode,cowcodes.country))\n",
    "dict_cowcode_abb = dict(zip(cowcodes.cowcode,cowcodes.StateAbb))\n",
    "\n",
    "### MANUAL UPDATE BASED ON INCONSISTENCIES\n",
    "dict_cowcode.update({\n",
    "89: \"United Province CA\",\n",
    "99: \"Gran Colombia\",\n",
    "324: \"Sardinia\",\n",
    "342: \"Serbia\",\n",
    "347: \"Yugoslavia/Serbia and Montenegro\",\n",
    "348: \"Montenegro\",\n",
    "364: \"USSR\",\n",
    "525: \"South Sudan\",\n",
    "529: \"Ethiopia\",\n",
    "626: \"Sudan-North\",\n",
    "769: \"Pakistan\",\n",
    "818: \"Republic of Vietnam\"\n",
    "})\n",
    "\n",
    "dict_cowcode_abb.update({\n",
    "89: \"United Province CA\",\n",
    "99: \"Gran Colombia\",\n",
    "324: \"Sardinia\",\n",
    "342: \"Serbia\",\n",
    "347: \"Yugoslavia/Serbia and Montenegro\",\n",
    "348: \"Montenegro\",\n",
    "364: \"USSR\",\n",
    "525: \"South Sudan\",\n",
    "529: \"Ethiopia\",\n",
    "626: \"Sudan-North\",\n",
    "769: \"Pakistan\",\n",
    "818: \"VNM\"\n",
    "})\n",
    "\n",
    "#manual update to facilitate the plotting\n",
    "dict_cowcode_abb[817] = \"VNM\"\n",
    "\n",
    "sambanis['country'] = sambanis.cowcode.map(dict_cowcode)\n",
    "sambanis['country_abb'] =sambanis.cowcode.map(dict_cowcode_abb) "
   ]
  },
  {
   "cell_type": "markdown",
   "metadata": {},
   "source": [
    "## Convert the Geodata dataset countrie's name (uniformisation based on Sambanis)"
   ]
  },
  {
   "cell_type": "code",
   "execution_count": 9,
   "metadata": {},
   "outputs": [],
   "source": [
    "#update the name of the countries in the geodata to allow a merge\n",
    "geodata[\"country_name\"].replace(to_replace=dic_country_conv, inplace=True)\n",
    "geodata[\"country_border_name\"].replace(to_replace=dic_country_conv, inplace=True)"
   ]
  },
  {
   "cell_type": "markdown",
   "metadata": {},
   "source": [
    "## Convert the TIV tables dataset countrie's name (uniformisation based on Sambanis)"
   ]
  },
  {
   "cell_type": "code",
   "execution_count": 10,
   "metadata": {},
   "outputs": [],
   "source": [
    "#update the TIV import\n",
    "df_tiv_import[\"country\"].replace(to_replace=dic_country_conv, inplace=True)\n",
    "#update the TIV export\n",
    "df_tiv_export[\"country\"].replace(to_replace=dic_country_conv, inplace=True)"
   ]
  },
  {
   "cell_type": "markdown",
   "metadata": {},
   "source": [
    "## Convert the Military expenditure dataset countries' name (uniformisation based on Sambanis)"
   ]
  },
  {
   "cell_type": "code",
   "execution_count": 11,
   "metadata": {},
   "outputs": [],
   "source": [
    "#convert the countries' name (to sambanis convention)\n",
    "df_milexp_gdp[\"country\"].replace(to_replace=dic_country_conv, inplace=True)\n",
    "\n",
    "#convert the countries' name (to sambanis convention)\n",
    "df_milexp_spe[\"country\"].replace(to_replace=dic_country_conv, inplace=True)"
   ]
  },
  {
   "cell_type": "markdown",
   "metadata": {},
   "source": [
    "## Convert the Systemic Peace dataset countries' name and expand the dataset to have a row for each country participating in the same war"
   ]
  },
  {
   "cell_type": "code",
   "execution_count": 12,
   "metadata": {},
   "outputs": [],
   "source": [
    "sys_p_clean = pd.DataFrame()\n",
    "for idx, war in df_sys_peace.iterrows():\n",
    "    parties = war[\"States Directly Involved\"].split(',')\n",
    "    if len(parties) > 1:\n",
    "        for par in parties:\n",
    "            tmp = war.copy()\n",
    "            if par in dic_country_conv:\n",
    "                tmp[\"States Directly Involved\"] = dic_country_conv[par]\n",
    "            else:\n",
    "                tmp[\"States Directly Involved\"] = par\n",
    "                \n",
    "            sys_p_clean = pd.concat([sys_p_clean, tmp], axis=1)\n",
    "    else:\n",
    "        if parties[0] in dic_country_conv:\n",
    "                war[\"States Directly Involved\"] = dic_country_conv[parties[0]]\n",
    "        sys_p_clean = pd.concat([sys_p_clean, war], axis=1)\n",
    "\n",
    "sys_p_clean = sys_p_clean.T"
   ]
  },
  {
   "cell_type": "markdown",
   "metadata": {},
   "source": [
    "## Merge the TIV tables with the Sambanis dataset"
   ]
  },
  {
   "cell_type": "code",
   "execution_count": 13,
   "metadata": {},
   "outputs": [],
   "source": [
    "# melt the TIV df to enable merging on country and year columns\n",
    "tiv_imp_m = pd.melt(df_tiv_import,\n",
    "                    id_vars=\"country\",\n",
    "                    var_name=\"year\",\n",
    "                    value_name=\"tiv_imp\")\n",
    "tiv_exp_m = pd.melt(df_tiv_export,\n",
    "                    id_vars=\"country\",\n",
    "                    var_name=\"year\",\n",
    "                    value_name=\"tiv_exp\")\n",
    "\n",
    "#convert year column to datetime\n",
    "tiv_exp_m[\"year\"] = tiv_exp_m[\"year\"].apply(int)\n",
    "tiv_imp_m[\"year\"] = tiv_imp_m[\"year\"].apply(int)\n",
    "\n",
    "#merge on country and yeat, for TIV import and export\n",
    "sambanis = sambanis.merge(tiv_imp_m,\n",
    "                          on=[\"country\", \"year\"],\n",
    "                          how=\"left\")\n",
    "sambanis = sambanis.merge(tiv_exp_m,\n",
    "                          on=[\"country\", \"year\"],\n",
    "                          how=\"left\")"
   ]
  },
  {
   "cell_type": "markdown",
   "metadata": {},
   "source": [
    "## Merge the military expenses with the Sambanis dataset"
   ]
  },
  {
   "cell_type": "code",
   "execution_count": 14,
   "metadata": {},
   "outputs": [],
   "source": [
    "# melt the TIV df to enable merging on country and year columns\n",
    "milexp_gdp_m = pd.melt(df_milexp_gdp.drop(columns=[\"Notes\"]),\n",
    "                    id_vars=\"country\",\n",
    "                    var_name=\"year\",\n",
    "                    value_name=\"milexp_gdp\")\n",
    "milexp_spe_m = pd.melt(df_milexp_spe.drop(columns=[\"Notes\", \"Reporting year\"]),\n",
    "                    id_vars=\"country\",\n",
    "                    var_name=\"year\",\n",
    "                    value_name=\"milexp_spe\")\n",
    "\n",
    "#convert year column to datetime\n",
    "milexp_gdp_m[\"year\"] = milexp_gdp_m[\"year\"].apply(int)\n",
    "milexp_spe_m[\"year\"] = milexp_spe_m[\"year\"].apply(int)\n",
    "\n",
    "#merge on country and yeat, for TIV import and export\n",
    "sambanis = sambanis.merge(milexp_gdp_m,\n",
    "                          on=[\"country\", \"year\"],\n",
    "                          how=\"left\")\n",
    "sambanis = sambanis.merge(milexp_spe_m,\n",
    "                          on=[\"country\", \"year\"],\n",
    "                          how=\"left\")"
   ]
  },
  {
   "cell_type": "markdown",
   "metadata": {},
   "source": [
    "## Define a subset of the important features based on the replication work (random forest, importance of the features)"
   ]
  },
  {
   "cell_type": "code",
   "execution_count": 15,
   "metadata": {},
   "outputs": [],
   "source": [
    "#\"high importance features\" ~ (cf Random Forest)\n",
    "feat_subset = [ \"sxpnew\",\n",
    "                \"illiteracy\",\n",
    "                \"milper\",\n",
    "                \"gdpgrowth\",\n",
    "                \"lpopns\",\n",
    "                \"pri\",\n",
    "                \"infant\",\n",
    "                \"life\",\n",
    "                \"seceduc\"\n",
    "              ]\n",
    "\n",
    "#list of countries affected by at least 1 CW\n",
    "CW_countries = list(sambanis.loc[sambanis[\"warstds\"]==1][\"country\"].drop_duplicates())"
   ]
  },
  {
   "cell_type": "code",
   "execution_count": 16,
   "metadata": {},
   "outputs": [
    {
     "name": "stdout",
     "output_type": "stream",
     "text": [
      "used during the data exploration\n"
     ]
    }
   ],
   "source": [
    "#small multiples + export to plot the features accross all the countries\n",
    "\"\"\"\n",
    "#iterate on the \"high priority features\"\n",
    "for key in feat_subset:\n",
    "    #create enough column and row for \n",
    "    fig, ax = plt.subplots(nrows=9, ncols=9, figsize=(50,50))\n",
    "    j=0\n",
    "    #iterate on the countries affected by civil war\n",
    "    for i, country in enumerate(CW_countries):\n",
    "        if i%9 == 0 and i != 0:\n",
    "            j+=1\n",
    "        plot_feat(sambanis, country, key, ax=ax[j,i%9], title=country)\n",
    "    \n",
    "    #save plot as pdf to enable lossless zooming using pdf viewer\n",
    "    fig.savefig(fname=\"fig_\"+var2label_s[key]+\".pdf\", format=\"pdf\")\n",
    "\"\"\"\n",
    "print(\"used during the data exploration\")"
   ]
  },
  {
   "cell_type": "markdown",
   "metadata": {},
   "source": [
    "### Small multiple analysis\n",
    "- GDP Growth : for several countries, the onset of CW is followed by a brutal drop (expected based on the replication work with Random Forest), it sometimes even becomes negative.\n",
    "- Illiteracy (adult): hard to tell, it seems to decrease with time overall, did not notice brutal spike (somehow logic; people don't forget how to read because of civil war. maybe try to detect delayed effect?)\n",
    "- Infant Mortality : definitely something, the onset are often associated with a big jump (ponctual)\n",
    "- Life Expectancy : super obvious, on CW onset year, the value is usually much lower\n",
    "- Military power : interesting as well, some \"jump to a new plateau\" can be observed (Vietnam for exemple) or just ponctual spike.\n",
    "- Population (logged) : Nothing visible except for Laos\n",
    "- Primary Commodity Export : sudden drop visible for african countries (Sierra Leone, Somalia, South Africa, Uganda, ..). Not visible for every single onset.\n",
    "- Primary Education : ponctual drop on onset year\n",
    "- Secondary Education : same as Primary. (Cuba seems interesting)"
   ]
  },
  {
   "cell_type": "markdown",
   "metadata": {},
   "source": [
    "## Helper functions"
   ]
  },
  {
   "cell_type": "code",
   "execution_count": 17,
   "metadata": {},
   "outputs": [],
   "source": [
    "#return a view on neighbouring countries sambanis dataframe corresponding rows\n",
    "\"\"\"def return_neighbour_feat(df, country, geodata=geodata):\n",
    "    tmp = list(geodata.loc[geodata[\"country_name\"] == country][\"country_border_name\"])\n",
    "    neigh_df = df.loc[df[\"country\"].isin(tmp)]\n",
    "    return neigh_df\"\"\"\n",
    "\n",
    "def comp_neighbour(df, country, geodata=geodata):\n",
    "    tmp = list(geodata.loc[geodata[\"country_name\"] == country][\"country_border_name\"])\n",
    "    neigh_df = df.loc[df[\"country\"].isin(tmp)]\n",
    "    return neigh_df\n",
    "\n",
    "#quick plot of a feature with a vertical red line for the onset\n",
    "def plot_feat(df, country, feat, var2label=var2label_s,\n",
    "              ax=None, title=None):\n",
    "    tmp=df.loc[df[\"country\"]==country]\n",
    "    if ax != None:\n",
    "        ax.scatter(tmp.year, tmp[feat])\n",
    "        for onset in tmp.loc[tmp[\"warstds\"] == 1][\"year\"]:\n",
    "            ax.axvline(x=onset, c='r')\n",
    "        ax.set_title(title)\n",
    "    else:\n",
    "        plt.scatter(tmp.year, tmp[feat])\n",
    "        for onset in tmp.loc[tmp[\"warstds\"] == 1][\"year\"]:\n",
    "            plt.axvline(x=onset, c='r')\n",
    "        plt.title(var2label[feat])\n",
    "        plt.show()\n",
    "\n",
    "#plot the evolution of the feature in a time window around the onset\n",
    "def display_onset_effect(df, country, onset_date, feat, t_win=3, ylim=[]):\n",
    "    start = onset_date - t_win\n",
    "    end = onset_date + t_win\n",
    "    tmp = df.loc[(df[\"country\"] == country) & (df[\"year\"] <= end) & (df[\"year\"] >= start)]\n",
    "    sns.scatterplot(data=tmp,x=\"year\",y=feat)\n",
    "    plt.title(country)\n",
    "    plt.axvline(x=onset_date, c='r', ls=\"--\")\n",
    "    \n",
    "    if len(ylim) != 0:\n",
    "        plt.ylim(ylim)\n",
    "\n",
    "#return a binary value depending on the variation of the feature before/after the onset\n",
    "def bin_onset_effect(df, country, onset_date, feat, t_win=3, threshold=0.1, inc=True, verbose=False):\n",
    "    \"\"\" compute the average over a year window for the given feature\n",
    "        return (1,1) if data was available and increase/decrease greater than the threshold\n",
    "        return (0,1) if data was available but variation smaller than threshold\n",
    "        return (0,0) if data is missing (year not present in the dataset)\n",
    "    \"\"\"\n",
    "    start = onset_date - t_win\n",
    "    end = onset_date + t_win\n",
    "    tmp = df.loc[(df[\"country\"] == country) & (df[\"year\"] <= end) & (df[\"year\"] >= start)]\n",
    "    \n",
    "    if(len(tmp.loc[tmp[\"year\"]<onset_date]) < t_win) or \\\n",
    "        (len(tmp.loc[tmp[\"year\"]>=onset_date]) < t_win) or \\\n",
    "        (tmp.loc[tmp[\"year\"]<onset_date][feat].isnull().sum() > 1) or \\\n",
    "        (tmp.loc[tmp[\"year\"]>=onset_date][feat].isnull().sum() > 1):\n",
    "        return 0, 0\n",
    "    \n",
    "    before_mean = np.nanmean(tmp.loc[tmp[\"year\"]<onset_date][feat])\n",
    "    after_mean = np.nanmean(tmp.loc[tmp[\"year\"]>=onset_date][feat])\n",
    "    variation = (after_mean-before_mean)/before_mean\n",
    "    \n",
    "    if(verbose):\n",
    "        print(\"before\", before_mean)\n",
    "        print(\"after\", after_mean)\n",
    "        print(variation)\n",
    "    \n",
    "    #increase greater than threshold\n",
    "    if inc and variation >= threshold:\n",
    "        return 1, 1\n",
    "    #decrease greater than threshold\n",
    "    elif not inc and variation < 0 and np.abs(variation) > threshold :\n",
    "        return 1, 1\n",
    "    else:\n",
    "        return 0, 1\n",
    "\n",
    "#compute the average over a window for all the countries neighbours to a onset\n",
    "def comp_neighbour_feat(df, country, onset_date, t_win=3, geodata=geodata):\n",
    "    #get the neighbours\n",
    "    tmp = list(geodata.loc[geodata[\"country_name\"] == country][\"country_border_name\"])\n",
    "    neigh_df = df.loc[df[\"country\"].isin(tmp)]\n",
    "    \n",
    "    #restrict the years\n",
    "    start = onset_date - t_win\n",
    "    end = onset_date + t_win\n",
    "    neigh_df = neigh_df.loc[(df[\"year\"] <= end) & (df[\"year\"] >= start)]\n",
    "    \n",
    "    neigh_df.drop(columns=['cowcode', 'ptime',\n",
    "                           'autch98', 'demch98','polch98', 'country_abb',\n",
    "                           'decade1', 'decade2', 'decade3', 'decade4'],\n",
    "                  inplace=True)\n",
    "    \n",
    "    cols = list(neigh_df.columns[1:])\n",
    "    cols = cols[0:-5]+cols[-4:]\n",
    "    \n",
    "    #convert to numeric\n",
    "    neigh_df[cols[1:]] = neigh_df[cols[1:]].apply(pd.to_numeric, errors='coerce', axis=1)\n",
    "    \n",
    "    df_pre = pd.DataFrame()\n",
    "    df_pos = pd.DataFrame()\n",
    "    \n",
    "    #compute the mean of each feature before/after for each feature\n",
    "    for idx, group in neigh_df.groupby(\"country\"):\n",
    "        df_pre = pd.concat([df_pre,\n",
    "                            group.loc[group['year'] < onset_date][cols].apply(np.nanmean, axis=0).rename(idx)],\n",
    "                            axis=1)\n",
    "        df_pos = pd.concat([df_pos,\n",
    "                            group.loc[group['year'] >= onset_date][cols].apply(np.nanmean, axis=0).rename(idx)],\n",
    "                            axis=1)\n",
    "    df_pre = df_pre.T\n",
    "    df_pos = df_pos.T\n",
    "\n",
    "    if len(df_pre) == 0 or len(df_pos) == 0:\n",
    "        return pd.DataFrame(), pd.DataFrame()\n",
    "    else:\n",
    "        #remove countries experiencing an onset themself within the timeframe\n",
    "        df_pre = df_pre.loc[df_pre['warstds']!=1]\n",
    "        df_pos = df_pos.loc[df_pos['warstds']!=1]\n",
    "        return df_pre, df_pos\n",
    "    \n",
    "def get_n_plicate(dataframe, column,n=1):\n",
    "    \"\"\" return a dataframe containing the n-plicate according to a column\n",
    "        if n is greater than 1,  x-plicates are present in the dataframe with x<n,\n",
    "        raise a ValueError\n",
    "    \"\"\"\n",
    "    if (len(dataframe)-len(dataframe.drop_duplicates(subset=column)))!=0:\n",
    "        #\"_\" is a placeholder\n",
    "        return pd.concat(g for _, g in dataframe.groupby(column) if len(g) > n)\n",
    "    else:\n",
    "        return pd.DataFrame()"
   ]
  },
  {
   "cell_type": "code",
   "execution_count": 19,
   "metadata": {
    "scrolled": true
   },
   "outputs": [],
   "source": [
    "#extraction of the onsets\n",
    "onsets = [(y[0],y[1]) for x, y in sambanis.loc[sambanis[\"warstds\"]==1][[\"year\",\"country\"]].iterrows()]"
   ]
  },
  {
   "cell_type": "code",
   "execution_count": 21,
   "metadata": {},
   "outputs": [
    {
     "data": {
      "text/plain": [
       "(1955, 'Argentina')"
      ]
     },
     "execution_count": 21,
     "metadata": {},
     "output_type": "execute_result"
    }
   ],
   "source": [
    "onsets[4]"
   ]
  },
  {
   "cell_type": "code",
   "execution_count": 25,
   "metadata": {},
   "outputs": [
    {
     "name": "stderr",
     "output_type": "stream",
     "text": [
      "/home/toinou/Documents/venvs/pyt3.8/lib/python3.8/site-packages/pandas/core/apply.py:284: RuntimeWarning: Mean of empty slice\n",
      "  results[i] = self.f(v)\n",
      "/home/toinou/Documents/venvs/pyt3.8/lib/python3.8/site-packages/pandas/core/apply.py:284: RuntimeWarning: Mean of empty slice\n",
      "  results[i] = self.f(v)\n",
      "/home/toinou/Documents/venvs/pyt3.8/lib/python3.8/site-packages/pandas/core/apply.py:284: RuntimeWarning: Mean of empty slice\n",
      "  results[i] = self.f(v)\n",
      "/home/toinou/Documents/venvs/pyt3.8/lib/python3.8/site-packages/pandas/core/apply.py:284: RuntimeWarning: Mean of empty slice\n",
      "  results[i] = self.f(v)\n",
      "/home/toinou/Documents/venvs/pyt3.8/lib/python3.8/site-packages/pandas/core/apply.py:284: RuntimeWarning: Mean of empty slice\n",
      "  results[i] = self.f(v)\n",
      "/home/toinou/Documents/venvs/pyt3.8/lib/python3.8/site-packages/pandas/core/apply.py:284: RuntimeWarning: Mean of empty slice\n",
      "  results[i] = self.f(v)\n",
      "/home/toinou/Documents/venvs/pyt3.8/lib/python3.8/site-packages/pandas/core/apply.py:284: RuntimeWarning: Mean of empty slice\n",
      "  results[i] = self.f(v)\n",
      "/home/toinou/Documents/venvs/pyt3.8/lib/python3.8/site-packages/pandas/core/apply.py:284: RuntimeWarning: Mean of empty slice\n",
      "  results[i] = self.f(v)\n",
      "/home/toinou/Documents/venvs/pyt3.8/lib/python3.8/site-packages/pandas/core/apply.py:284: RuntimeWarning: Mean of empty slice\n",
      "  results[i] = self.f(v)\n",
      "/home/toinou/Documents/venvs/pyt3.8/lib/python3.8/site-packages/pandas/core/apply.py:284: RuntimeWarning: Mean of empty slice\n",
      "  results[i] = self.f(v)\n"
     ]
    }
   ],
   "source": [
    "arg_pre, arg_pos = comp_neighbour_feat(sambanis, onsets[4][1], onsets[4][0], t_win=3, geodata=geodata)"
   ]
  },
  {
   "cell_type": "code",
   "execution_count": 32,
   "metadata": {},
   "outputs": [],
   "source": [
    "tmp = (arg_pos-arg_pre)/arg_pre\n",
    "tmp.reset_index(inplace=True)\n",
    "tmp.rename(columns={'index':'country'}, inplace=True)"
   ]
  },
  {
   "cell_type": "code",
   "execution_count": 46,
   "metadata": {},
   "outputs": [
    {
     "data": {
      "text/plain": [
       "0    0.148226\n",
       "1   -0.002444\n",
       "2   -0.001654\n",
       "3   -0.001809\n",
       "4   -0.002629\n",
       "Name: sxpnew, dtype: float64"
      ]
     },
     "execution_count": 46,
     "metadata": {},
     "output_type": "execute_result"
    }
   ],
   "source": [
    "tmp['sxpnew']"
   ]
  },
  {
   "cell_type": "code",
   "execution_count": 49,
   "metadata": {},
   "outputs": [
    {
     "data": {
      "image/png": "[encoded data removed]",
      "text/plain": [
       "<Figure size 432x288 with 1 Axes>"
      ]
     },
     "metadata": {
      "needs_background": "light"
     },
     "output_type": "display_data"
    }
   ],
   "source": [
    "feat='milexp_gdp'\n",
    "sns.barplot(data=tmp, x='country', y=feat)\n",
    "plt.title(feat)\n",
    "plt.show()"
   ]
  },
  {
   "cell_type": "code",
   "execution_count": null,
   "metadata": {},
   "outputs": [],
   "source": []
  }
 ],
 "metadata": {
  "kernelspec": {
   "display_name": "pyt3.8",
   "language": "python",
   "name": "pyt3.8"
  },
  "language_info": {
   "codemirror_mode": {
    "name": "ipython",
    "version": 3
   },
   "file_extension": ".py",
   "mimetype": "text/x-python",
   "name": "python",
   "nbconvert_exporter": "python",
   "pygments_lexer": "ipython3",
   "version": "3.8.6"
  }
 },
 "nbformat": 4,
 "nbformat_minor": 2
}
