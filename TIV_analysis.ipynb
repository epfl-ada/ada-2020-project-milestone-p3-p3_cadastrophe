{
 "cells": [
  {
   "cell_type": "code",
   "execution_count": 1,
   "metadata": {},
   "outputs": [],
   "source": [
    "import numpy as np\n",
    "import pandas as pd\n",
    "import warnings\n",
    "warnings.filterwarnings(\"ignore\")\n",
    "import matplotlib.pyplot as plt"
   ]
  },
  {
   "cell_type": "code",
   "execution_count": 2,
   "metadata": {},
   "outputs": [],
   "source": [
    "def remove_par(df, feat):\n",
    "    df[feat] = df[feat].str.replace('(','')\n",
    "    df[feat] = df[feat].str.replace(')','')\n",
    "    \n",
    "def string2int(df, feat):\n",
    "    df[feat] = df[feat].astype(int)\n",
    "    \n",
    "def polish_trade_feature(df, feat):\n",
    "    remove_par(df, feat)\n",
    "    string2int(df, feat)"
   ]
  },
  {
   "cell_type": "code",
   "execution_count": 15,
   "metadata": {},
   "outputs": [],
   "source": [
    "# correct the name of the country to facilitate the merge betwen sambanis and geodata\n",
    "dic_country_conv = dict({\n",
    "    \"Northern Alliance (Afghanistan)*\":\"Afghanistan\",\n",
    "    \"South Vietnam\":\"Republic of Vietnam\",\n",
    "    'UAE':'United Arab Emirates',\n",
    "    'UNITA (Angola)*':'Angola',\n",
    "    'DR Congo':'Democratic Republic of the Congo',\n",
    "    'United States':'United States of America',\n",
    "    'Iran (Islamic Republic of)':'Iran',\n",
    "    'Cote d’Ivoire':'Ivory Coast',\n",
    "    \"Lao People's Democratic Republic\":'Laos',\n",
    "    \"Moldova (the Republic of)\":'Moldova',\n",
    "    'Viet Nam':'Republic of Vietnam',\n",
    "    'Russian Federation':'Russia',\n",
    "    'Korea (the Republic of)':'South Korea',\n",
    "    'Eswatini':'Swaziland',\n",
    "    'Syrian Arab Republic':'Syria',\n",
    "    'Taiwan (Province of China)':'Taiwan',\n",
    "    'Tanzania (the United Republic of)':'Tanzania',\n",
    "    'United Kingdom of Great Britain and Northern Ireland':'United Kingdom',\n",
    "    'Venezuela (Bolivarian Republic of)':'Venezuela',\n",
    "    \n",
    "    \"Yemen People's Republic\":'Yemen',\n",
    "    'Yemen Arab Republic':'Yemen',\n",
    "    '???':'Czechoslovakia',\n",
    "    \"???\":'Yugoslavia',\n",
    "    \"???\":'Zanzibar',\n",
    "    \"???\":'Kosovo',\n",
    "    \"???\":'Macedonia'\n",
    "})\n",
    "#left a space between the countries that required manual handling\n",
    "\n",
    "#update the name of the countries in the geodata to allow a merge\n",
    "#geodata[\"country_name\"].replace(to_replace=dic_country_conv, inplace=True)\n",
    "#geodata[\"country_border_name\"].replace(to_replace=dic_country_conv, inplace=True)"
   ]
  },
  {
   "cell_type": "code",
   "execution_count": 3,
   "metadata": {},
   "outputs": [],
   "source": [
    "trade = pd.read_csv(\"trade_reg.csv\",sep='\\t')\n",
    "\n",
    "cols_sambanis = [\"warstds\", \"ager\", \"agexp\", \"anoc\", \"army85\", \"autch98\", \"auto4\",\n",
    "        \"autonomy\", \"avgnabo\", \"centpol3\", \"cowcode\", \"coldwar\", \"decade1\", \"decade2\",\n",
    "        \"decade3\", \"decade4\", \"dem\", \"dem4\", \"demch98\", \"dlang\", \"drel\",\n",
    "        \"durable\", \"ef\", \"ef2\", \"ehet\", \"elfo\", \"elfo2\", \"etdo4590\",\n",
    "        \"expgdp\", \"exrec\", \"fedpol3\", \"fuelexp\", \"gdpgrowth\", \"geo1\", \"geo2\",\n",
    "        \"geo34\", \"geo57\", \"geo69\", \"geo8\", \"illiteracy\", \"incumb\", \"infant\",\n",
    "        \"inst\", \"inst3\", \"life\", \"lmtnest\", \"ln_gdpen\", \"lpopns\", \"major\", \"manuexp\", \"milper\",\n",
    "        \"mirps0\", \"mirps1\", \"mirps2\", \"mirps3\", \"nat_war\", \"ncontig\",\n",
    "        \"nmgdp\", \"nmdp4_alt\", \"numlang\", \"nwstate\", \"oil\", \"p4mchg\",\n",
    "        \"parcomp\", \"parreg\", \"part\", \"partfree\", \"plural\", \"plurrel\",\n",
    "        \"pol4\", \"pol4m\", \"pol4sq\", \"polch98\", \"polcomp\", \"popdense\",\n",
    "        \"presi\", \"pri\", \"proxregc\", \"ptime\", \"reg\", \"regd4_alt\", \"relfrac\", \"seceduc\",\n",
    "        \"second\", \"semipol3\", \"sip2\", \"sxpnew\", \"sxpsq\", \"tnatwar\", \"trade\",\n",
    "        \"warhist\", \"xconst\", \"year\", \"country\"]\n",
    "\n",
    "sambanis = pd.read_csv(\"sambanis_extented.csv\", usecols=cols_sambanis)\n",
    "\n",
    "#keep only the year value for date (drop 1-january, dummy)\n",
    "#sambanis[\"year\"] = pd.DatetimeIndex(sambanis[\"year\"]).year\n",
    "\n",
    "#civil_war contains only the observations with a civil war\n",
    "civil_war = sambanis[sambanis[\"warstds\"]==1]"
   ]
  },
  {
   "cell_type": "code",
   "execution_count": 19,
   "metadata": {},
   "outputs": [
    {
     "data": {
      "text/html": [
       "<div>\n",
       "<style scoped>\n",
       "    .dataframe tbody tr th:only-of-type {\n",
       "        vertical-align: middle;\n",
       "    }\n",
       "\n",
       "    .dataframe tbody tr th {\n",
       "        vertical-align: top;\n",
       "    }\n",
       "\n",
       "    .dataframe thead th {\n",
       "        text-align: right;\n",
       "    }\n",
       "</style>\n",
       "<table border=\"1\" class=\"dataframe\">\n",
       "  <thead>\n",
       "    <tr style=\"text-align: right;\">\n",
       "      <th></th>\n",
       "      <th>cowcode</th>\n",
       "      <th>year</th>\n",
       "      <th>warstds</th>\n",
       "      <th>ptime</th>\n",
       "      <th>autonomy</th>\n",
       "      <th>popdense</th>\n",
       "      <th>army85</th>\n",
       "      <th>milper</th>\n",
       "      <th>trade</th>\n",
       "      <th>nmgdp</th>\n",
       "      <th>...</th>\n",
       "      <th>mirps2</th>\n",
       "      <th>mirps3</th>\n",
       "      <th>sxpsq</th>\n",
       "      <th>pol4sq</th>\n",
       "      <th>decade1</th>\n",
       "      <th>decade2</th>\n",
       "      <th>decade3</th>\n",
       "      <th>decade4</th>\n",
       "      <th>proxregc</th>\n",
       "      <th>country</th>\n",
       "    </tr>\n",
       "  </thead>\n",
       "  <tbody>\n",
       "    <tr>\n",
       "      <th>33</th>\n",
       "      <td>700</td>\n",
       "      <td>1978</td>\n",
       "      <td>1</td>\n",
       "      <td>399</td>\n",
       "      <td>0.000000</td>\n",
       "      <td>23.236290</td>\n",
       "      <td>47000.0000</td>\n",
       "      <td>143.000000</td>\n",
       "      <td>26.486080</td>\n",
       "      <td>2338.333252</td>\n",
       "      <td>...</td>\n",
       "      <td>0.000000</td>\n",
       "      <td>0.000000</td>\n",
       "      <td>0.006017</td>\n",
       "      <td>49.000000</td>\n",
       "      <td>0</td>\n",
       "      <td>1</td>\n",
       "      <td>0</td>\n",
       "      <td>0</td>\n",
       "      <td>1.490000e-08</td>\n",
       "      <td>Afghanistan</td>\n",
       "    </tr>\n",
       "    <tr>\n",
       "      <th>112</th>\n",
       "      <td>615</td>\n",
       "      <td>1962</td>\n",
       "      <td>1</td>\n",
       "      <td>6</td>\n",
       "      <td>0.008029</td>\n",
       "      <td>4.677925</td>\n",
       "      <td>170000.0000</td>\n",
       "      <td>129.411305</td>\n",
       "      <td>112.902702</td>\n",
       "      <td>2103.660889</td>\n",
       "      <td>...</td>\n",
       "      <td>0.267620</td>\n",
       "      <td>0.268501</td>\n",
       "      <td>0.022765</td>\n",
       "      <td>46.976143</td>\n",
       "      <td>1</td>\n",
       "      <td>0</td>\n",
       "      <td>0</td>\n",
       "      <td>0</td>\n",
       "      <td>2.883818e-01</td>\n",
       "      <td>Algeria</td>\n",
       "    </tr>\n",
       "    <tr>\n",
       "      <th>141</th>\n",
       "      <td>615</td>\n",
       "      <td>1991</td>\n",
       "      <td>1</td>\n",
       "      <td>346</td>\n",
       "      <td>0.000000</td>\n",
       "      <td>10.760200</td>\n",
       "      <td>170000.0000</td>\n",
       "      <td>182.246032</td>\n",
       "      <td>48.389771</td>\n",
       "      <td>2831.161865</td>\n",
       "      <td>...</td>\n",
       "      <td>1.000000</td>\n",
       "      <td>0.000000</td>\n",
       "      <td>0.029990</td>\n",
       "      <td>4.000000</td>\n",
       "      <td>0</td>\n",
       "      <td>0</td>\n",
       "      <td>0</td>\n",
       "      <td>1</td>\n",
       "      <td>2.500000e-01</td>\n",
       "      <td>Algeria</td>\n",
       "    </tr>\n",
       "    <tr>\n",
       "      <th>150</th>\n",
       "      <td>540</td>\n",
       "      <td>1975</td>\n",
       "      <td>1</td>\n",
       "      <td>10</td>\n",
       "      <td>0.007705</td>\n",
       "      <td>4.911366</td>\n",
       "      <td>66000.0000</td>\n",
       "      <td>131.448998</td>\n",
       "      <td>47.915944</td>\n",
       "      <td>3246.035889</td>\n",
       "      <td>...</td>\n",
       "      <td>0.265389</td>\n",
       "      <td>0.273925</td>\n",
       "      <td>0.022260</td>\n",
       "      <td>47.285530</td>\n",
       "      <td>0</td>\n",
       "      <td>1</td>\n",
       "      <td>0</td>\n",
       "      <td>0</td>\n",
       "      <td>2.890471e-01</td>\n",
       "      <td>Angola</td>\n",
       "    </tr>\n",
       "    <tr>\n",
       "      <th>186</th>\n",
       "      <td>160</td>\n",
       "      <td>1955</td>\n",
       "      <td>1</td>\n",
       "      <td>128</td>\n",
       "      <td>0.000000</td>\n",
       "      <td>101.690590</td>\n",
       "      <td>178756.4451</td>\n",
       "      <td>131.129549</td>\n",
       "      <td>47.739449</td>\n",
       "      <td>3238.484820</td>\n",
       "      <td>...</td>\n",
       "      <td>0.000000</td>\n",
       "      <td>0.000000</td>\n",
       "      <td>0.022590</td>\n",
       "      <td>81.000000</td>\n",
       "      <td>0</td>\n",
       "      <td>0</td>\n",
       "      <td>0</td>\n",
       "      <td>0</td>\n",
       "      <td>2.441410e-04</td>\n",
       "      <td>Argentina</td>\n",
       "    </tr>\n",
       "  </tbody>\n",
       "</table>\n",
       "<p>5 rows × 94 columns</p>\n",
       "</div>"
      ],
      "text/plain": [
       "     cowcode  year  warstds  ptime  autonomy    popdense       army85  \\\n",
       "33       700  1978        1    399  0.000000   23.236290   47000.0000   \n",
       "112      615  1962        1      6  0.008029    4.677925  170000.0000   \n",
       "141      615  1991        1    346  0.000000   10.760200  170000.0000   \n",
       "150      540  1975        1     10  0.007705    4.911366   66000.0000   \n",
       "186      160  1955        1    128  0.000000  101.690590  178756.4451   \n",
       "\n",
       "         milper       trade        nmgdp  ...    mirps2    mirps3     sxpsq  \\\n",
       "33   143.000000   26.486080  2338.333252  ...  0.000000  0.000000  0.006017   \n",
       "112  129.411305  112.902702  2103.660889  ...  0.267620  0.268501  0.022765   \n",
       "141  182.246032   48.389771  2831.161865  ...  1.000000  0.000000  0.029990   \n",
       "150  131.448998   47.915944  3246.035889  ...  0.265389  0.273925  0.022260   \n",
       "186  131.129549   47.739449  3238.484820  ...  0.000000  0.000000  0.022590   \n",
       "\n",
       "        pol4sq  decade1  decade2  decade3  decade4      proxregc      country  \n",
       "33   49.000000        0        1        0        0  1.490000e-08  Afghanistan  \n",
       "112  46.976143        1        0        0        0  2.883818e-01      Algeria  \n",
       "141   4.000000        0        0        0        1  2.500000e-01      Algeria  \n",
       "150  47.285530        0        1        0        0  2.890471e-01       Angola  \n",
       "186  81.000000        0        0        0        0  2.441410e-04    Argentina  \n",
       "\n",
       "[5 rows x 94 columns]"
      ]
     },
     "execution_count": 19,
     "metadata": {},
     "output_type": "execute_result"
    }
   ],
   "source": [
    "civil_war.head()"
   ]
  },
  {
   "cell_type": "code",
   "execution_count": 18,
   "metadata": {},
   "outputs": [],
   "source": [
    "trade[\"recipient\"].replace(to_replace=dic_country_conv, inplace=True)\n",
    "trade[\"supplier\"].replace(to_replace=dic_country_conv, inplace=True)"
   ]
  },
  {
   "cell_type": "code",
   "execution_count": 4,
   "metadata": {},
   "outputs": [],
   "source": [
    "civil_war['year'] = pd.DatetimeIndex(civil_war['year']).year"
   ]
  },
  {
   "cell_type": "code",
   "execution_count": 5,
   "metadata": {},
   "outputs": [
    {
     "data": {
      "text/plain": [
       "33    1978\n",
       "Name: year, dtype: int64"
      ]
     },
     "execution_count": 5,
     "metadata": {},
     "output_type": "execute_result"
    }
   ],
   "source": [
    "civil_war.loc[civil_war[\"country\"]=='Afghanistan'].year.astype(int)\n",
    "\n"
   ]
  },
  {
   "cell_type": "code",
   "execution_count": 6,
   "metadata": {},
   "outputs": [],
   "source": [
    "def imp_number(df, country, onset=None, buffer=5):\n",
    "    if onset == None:\n",
    "        pass\n",
    "    country_imp = df.loc[trade.recipient == country]\n",
    "    polish_trade_feature(country_imp, 'no_ordered')\n",
    "    polish_trade_feature(country_imp, 'year_order')\n",
    "    \n",
    "    \n",
    "    country_imp_pre = country_imp.loc[(country_imp.year_order < onset) & \n",
    "                                (country_imp.year_order > onset - buffer)]\n",
    "    country_imp_post = country_imp.loc[(country_imp.year_order >= onset) & \n",
    "                                (country_imp.year_order < onset + buffer)]\n",
    "    \n",
    "    pre_onset_order = country_imp_pre['no_ordered'].sum()\n",
    "    post_onset_order = country_imp_post['no_ordered'].sum()\n",
    "    \n",
    "    return pre_onset_order, post_onset_order"
   ]
  },
  {
   "cell_type": "code",
   "execution_count": 7,
   "metadata": {},
   "outputs": [
    {
     "data": {
      "text/plain": [
       "0               Angola\n",
       "1              Nigeria\n",
       "2                Congo\n",
       "3        Guinea-Bissau\n",
       "4        United States\n",
       "             ...      \n",
       "18309           Zambia\n",
       "18310           Zambia\n",
       "18311          Liberia\n",
       "18312           Zambia\n",
       "18313           Zambia\n",
       "Name: recipient, Length: 18314, dtype: object"
      ]
     },
     "execution_count": 7,
     "metadata": {},
     "output_type": "execute_result"
    }
   ],
   "source": [
    "trade.recipient"
   ]
  },
  {
   "cell_type": "code",
   "execution_count": 8,
   "metadata": {},
   "outputs": [],
   "source": [
    "types = ['aircraft', 'helicopter', 'gun', 'missile', 'tank', 'engine', 'car', 'ac', 'APC']"
   ]
  },
  {
   "cell_type": "code",
   "execution_count": 9,
   "metadata": {},
   "outputs": [
    {
     "data": {
      "image/png": "[encoded data removed]",
      "text/plain": [
       "<Figure size 432x288 with 1 Axes>"
      ]
     },
     "metadata": {
      "needs_background": "light"
     },
     "output_type": "display_data"
    }
   ],
   "source": [
    "country = ['Viet Nam', 'Afghanistan', 'Laos', 'Cambodia']\n",
    "onset = [1960, 1978, 1960, 1970]\n",
    "pre_onset = []\n",
    "post_onset = []\n",
    "\n",
    "for c, o in zip(country, onset):\n",
    "    pre, post = imp_number(trade, c, onset = o, buffer = 5)\n",
    "    pre_onset.append(pre)\n",
    "    post_onset.append(post)\n",
    "\n",
    "labels = country\n",
    "\n",
    "\n",
    "x = np.arange(len(labels))  # the label locations\n",
    "width = 0.35  # the width of the bars\n",
    "\n",
    "fig, ax = plt.subplots()\n",
    "rects1 = ax.bar(x - width/2, pre_onset, width, label='Pre')\n",
    "rects2 = ax.bar(x + width/2, post_onset, width, label='Post')\n",
    "\n",
    "# Add some text for labels, title and custom x-axis tick labels, etc.\n",
    "ax.set_yscale('log')\n",
    "ax.set_ylabel('Number of weapons ordered')\n",
    "ax.set_title('Number of ordered weapons before and after onset')\n",
    "ax.set_xticks(x)\n",
    "ax.set_xticklabels(labels)\n",
    "ax.legend()\n",
    "\n",
    "\n",
    "def autolabel(rects):\n",
    "    \"\"\"Attach a text label above each bar in *rects*, displaying its height.\"\"\"\n",
    "    for rect in rects:\n",
    "        height = rect.get_height()\n",
    "        ax.annotate('{}'.format(height),\n",
    "                    xy=(rect.get_x() + rect.get_width() / 2, height),\n",
    "                    xytext=(0, 3),  # 3 points vertical offset\n",
    "                    textcoords=\"offset points\",\n",
    "                    ha='center', va='bottom')\n",
    "\n",
    "\n",
    "autolabel(rects1)\n",
    "autolabel(rects2)\n",
    "\n",
    "fig.tight_layout()\n",
    "\n",
    "plt.show()"
   ]
  },
  {
   "cell_type": "code",
   "execution_count": 10,
   "metadata": {},
   "outputs": [],
   "source": [
    "import plotly.express as px\n",
    "import plotly.graph_objects as go"
   ]
  },
  {
   "cell_type": "code",
   "execution_count": 25,
   "metadata": {},
   "outputs": [
    {
     "data": {
      "text/plain": [
       "(117,)"
      ]
     },
     "execution_count": 25,
     "metadata": {},
     "output_type": "execute_result"
    }
   ],
   "source": [
    "civil_war.year.shape"
   ]
  },
  {
   "cell_type": "code",
   "execution_count": 32,
   "metadata": {},
   "outputs": [
    {
     "ename": "ValueError",
     "evalue": "\n    Invalid value of type 'builtins.str' received for the 'x' property of bar\n        Received value: 'Viet Nam'\n\n    The 'x' property is an array that may be specified as a tuple,\n    list, numpy array, or pandas Series",
     "output_type": "error",
     "traceback": [
      "\u001b[0;31m---------------------------------------------------------------------------\u001b[0m",
      "\u001b[0;31mValueError\u001b[0m                                Traceback (most recent call last)",
      "\u001b[0;32m<ipython-input-32-5873a89bebdd>\u001b[0m in \u001b[0;36m<module>\u001b[0;34m\u001b[0m\n\u001b[1;32m     12\u001b[0m \u001b[0;34m\u001b[0m\u001b[0m\n\u001b[1;32m     13\u001b[0m fig = go.Figure(data=[\n\u001b[0;32m---> 14\u001b[0;31m     \u001b[0mgo\u001b[0m\u001b[0;34m.\u001b[0m\u001b[0mBar\u001b[0m\u001b[0;34m(\u001b[0m\u001b[0mname\u001b[0m\u001b[0;34m=\u001b[0m\u001b[0;34m'Pre onset'\u001b[0m\u001b[0;34m,\u001b[0m \u001b[0mx\u001b[0m \u001b[0;34m=\u001b[0m \u001b[0mlist_countries\u001b[0m\u001b[0;34m[\u001b[0m\u001b[0;36m0\u001b[0m\u001b[0;34m]\u001b[0m\u001b[0;34m,\u001b[0m \u001b[0my\u001b[0m\u001b[0;34m=\u001b[0m\u001b[0mpre_data\u001b[0m\u001b[0;34m)\u001b[0m\u001b[0;34m,\u001b[0m\u001b[0;34m\u001b[0m\u001b[0;34m\u001b[0m\u001b[0m\n\u001b[0m\u001b[1;32m     15\u001b[0m     \u001b[0mgo\u001b[0m\u001b[0;34m.\u001b[0m\u001b[0mBar\u001b[0m\u001b[0;34m(\u001b[0m\u001b[0mname\u001b[0m\u001b[0;34m=\u001b[0m\u001b[0;34m'Post onset'\u001b[0m\u001b[0;34m,\u001b[0m \u001b[0mx\u001b[0m \u001b[0;34m=\u001b[0m \u001b[0mlist_countries\u001b[0m\u001b[0;34m[\u001b[0m\u001b[0;36m0\u001b[0m\u001b[0;34m]\u001b[0m\u001b[0;34m,\u001b[0m \u001b[0my\u001b[0m\u001b[0;34m=\u001b[0m\u001b[0mpost_data\u001b[0m\u001b[0;34m)\u001b[0m\u001b[0;34m\u001b[0m\u001b[0;34m\u001b[0m\u001b[0m\n\u001b[1;32m     16\u001b[0m ])\n",
      "\u001b[0;32m~/Anaconda3/envs/ada/lib/python3.8/site-packages/plotly/graph_objs/_bar.py\u001b[0m in \u001b[0;36m__init__\u001b[0;34m(self, arg, alignmentgroup, base, basesrc, cliponaxis, constraintext, customdata, customdatasrc, dx, dy, error_x, error_y, hoverinfo, hoverinfosrc, hoverlabel, hovertemplate, hovertemplatesrc, hovertext, hovertextsrc, ids, idssrc, insidetextanchor, insidetextfont, legendgroup, marker, meta, metasrc, name, offset, offsetgroup, offsetsrc, opacity, orientation, outsidetextfont, r, rsrc, selected, selectedpoints, showlegend, stream, t, text, textangle, textfont, textposition, textpositionsrc, textsrc, texttemplate, texttemplatesrc, tsrc, uid, uirevision, unselected, visible, width, widthsrc, x, x0, xaxis, xcalendar, xperiod, xperiod0, xperiodalignment, xsrc, y, y0, yaxis, ycalendar, yperiod, yperiod0, yperiodalignment, ysrc, **kwargs)\u001b[0m\n\u001b[1;32m   3083\u001b[0m         \u001b[0m_v\u001b[0m \u001b[0;34m=\u001b[0m \u001b[0mx\u001b[0m \u001b[0;32mif\u001b[0m \u001b[0mx\u001b[0m \u001b[0;32mis\u001b[0m \u001b[0;32mnot\u001b[0m \u001b[0;32mNone\u001b[0m \u001b[0;32melse\u001b[0m \u001b[0m_v\u001b[0m\u001b[0;34m\u001b[0m\u001b[0;34m\u001b[0m\u001b[0m\n\u001b[1;32m   3084\u001b[0m         \u001b[0;32mif\u001b[0m \u001b[0m_v\u001b[0m \u001b[0;32mis\u001b[0m \u001b[0;32mnot\u001b[0m \u001b[0;32mNone\u001b[0m\u001b[0;34m:\u001b[0m\u001b[0;34m\u001b[0m\u001b[0;34m\u001b[0m\u001b[0m\n\u001b[0;32m-> 3085\u001b[0;31m             \u001b[0mself\u001b[0m\u001b[0;34m[\u001b[0m\u001b[0;34m\"x\"\u001b[0m\u001b[0;34m]\u001b[0m \u001b[0;34m=\u001b[0m \u001b[0m_v\u001b[0m\u001b[0;34m\u001b[0m\u001b[0;34m\u001b[0m\u001b[0m\n\u001b[0m\u001b[1;32m   3086\u001b[0m         \u001b[0m_v\u001b[0m \u001b[0;34m=\u001b[0m \u001b[0marg\u001b[0m\u001b[0;34m.\u001b[0m\u001b[0mpop\u001b[0m\u001b[0;34m(\u001b[0m\u001b[0;34m\"x0\"\u001b[0m\u001b[0;34m,\u001b[0m \u001b[0;32mNone\u001b[0m\u001b[0;34m)\u001b[0m\u001b[0;34m\u001b[0m\u001b[0;34m\u001b[0m\u001b[0m\n\u001b[1;32m   3087\u001b[0m         \u001b[0m_v\u001b[0m \u001b[0;34m=\u001b[0m \u001b[0mx0\u001b[0m \u001b[0;32mif\u001b[0m \u001b[0mx0\u001b[0m \u001b[0;32mis\u001b[0m \u001b[0;32mnot\u001b[0m \u001b[0;32mNone\u001b[0m \u001b[0;32melse\u001b[0m \u001b[0m_v\u001b[0m\u001b[0;34m\u001b[0m\u001b[0;34m\u001b[0m\u001b[0m\n",
      "\u001b[0;32m~/Anaconda3/envs/ada/lib/python3.8/site-packages/plotly/basedatatypes.py\u001b[0m in \u001b[0;36m__setitem__\u001b[0;34m(self, prop, value)\u001b[0m\n\u001b[1;32m   4802\u001b[0m                 \u001b[0;31m# ### Handle simple property ###\u001b[0m\u001b[0;34m\u001b[0m\u001b[0;34m\u001b[0m\u001b[0;34m\u001b[0m\u001b[0m\n\u001b[1;32m   4803\u001b[0m                 \u001b[0;32melse\u001b[0m\u001b[0;34m:\u001b[0m\u001b[0;34m\u001b[0m\u001b[0;34m\u001b[0m\u001b[0m\n\u001b[0;32m-> 4804\u001b[0;31m                     \u001b[0mself\u001b[0m\u001b[0;34m.\u001b[0m\u001b[0m_set_prop\u001b[0m\u001b[0;34m(\u001b[0m\u001b[0mprop\u001b[0m\u001b[0;34m,\u001b[0m \u001b[0mvalue\u001b[0m\u001b[0;34m)\u001b[0m\u001b[0;34m\u001b[0m\u001b[0;34m\u001b[0m\u001b[0m\n\u001b[0m\u001b[1;32m   4805\u001b[0m             \u001b[0;32melse\u001b[0m\u001b[0;34m:\u001b[0m\u001b[0;34m\u001b[0m\u001b[0;34m\u001b[0m\u001b[0m\n\u001b[1;32m   4806\u001b[0m                 \u001b[0;31m# Make sure properties dict is initialized\u001b[0m\u001b[0;34m\u001b[0m\u001b[0;34m\u001b[0m\u001b[0;34m\u001b[0m\u001b[0m\n",
      "\u001b[0;32m~/Anaconda3/envs/ada/lib/python3.8/site-packages/plotly/basedatatypes.py\u001b[0m in \u001b[0;36m_set_prop\u001b[0;34m(self, prop, val)\u001b[0m\n\u001b[1;32m   5146\u001b[0m                 \u001b[0;32mreturn\u001b[0m\u001b[0;34m\u001b[0m\u001b[0;34m\u001b[0m\u001b[0m\n\u001b[1;32m   5147\u001b[0m             \u001b[0;32melse\u001b[0m\u001b[0;34m:\u001b[0m\u001b[0;34m\u001b[0m\u001b[0;34m\u001b[0m\u001b[0m\n\u001b[0;32m-> 5148\u001b[0;31m                 \u001b[0;32mraise\u001b[0m \u001b[0merr\u001b[0m\u001b[0;34m\u001b[0m\u001b[0;34m\u001b[0m\u001b[0m\n\u001b[0m\u001b[1;32m   5149\u001b[0m \u001b[0;34m\u001b[0m\u001b[0m\n\u001b[1;32m   5150\u001b[0m         \u001b[0;31m# val is None\u001b[0m\u001b[0;34m\u001b[0m\u001b[0;34m\u001b[0m\u001b[0;34m\u001b[0m\u001b[0m\n",
      "\u001b[0;32m~/Anaconda3/envs/ada/lib/python3.8/site-packages/plotly/basedatatypes.py\u001b[0m in \u001b[0;36m_set_prop\u001b[0;34m(self, prop, val)\u001b[0m\n\u001b[1;32m   5141\u001b[0m \u001b[0;34m\u001b[0m\u001b[0m\n\u001b[1;32m   5142\u001b[0m         \u001b[0;32mtry\u001b[0m\u001b[0;34m:\u001b[0m\u001b[0;34m\u001b[0m\u001b[0;34m\u001b[0m\u001b[0m\n\u001b[0;32m-> 5143\u001b[0;31m             \u001b[0mval\u001b[0m \u001b[0;34m=\u001b[0m \u001b[0mvalidator\u001b[0m\u001b[0;34m.\u001b[0m\u001b[0mvalidate_coerce\u001b[0m\u001b[0;34m(\u001b[0m\u001b[0mval\u001b[0m\u001b[0;34m)\u001b[0m\u001b[0;34m\u001b[0m\u001b[0;34m\u001b[0m\u001b[0m\n\u001b[0m\u001b[1;32m   5144\u001b[0m         \u001b[0;32mexcept\u001b[0m \u001b[0mValueError\u001b[0m \u001b[0;32mas\u001b[0m \u001b[0merr\u001b[0m\u001b[0;34m:\u001b[0m\u001b[0;34m\u001b[0m\u001b[0;34m\u001b[0m\u001b[0m\n\u001b[1;32m   5145\u001b[0m             \u001b[0;32mif\u001b[0m \u001b[0mself\u001b[0m\u001b[0;34m.\u001b[0m\u001b[0m_skip_invalid\u001b[0m\u001b[0;34m:\u001b[0m\u001b[0;34m\u001b[0m\u001b[0;34m\u001b[0m\u001b[0m\n",
      "\u001b[0;32m~/Anaconda3/envs/ada/lib/python3.8/site-packages/_plotly_utils/basevalidators.py\u001b[0m in \u001b[0;36mvalidate_coerce\u001b[0;34m(self, v)\u001b[0m\n\u001b[1;32m    391\u001b[0m             \u001b[0mv\u001b[0m \u001b[0;34m=\u001b[0m \u001b[0mto_scalar_or_list\u001b[0m\u001b[0;34m(\u001b[0m\u001b[0mv\u001b[0m\u001b[0;34m)\u001b[0m\u001b[0;34m\u001b[0m\u001b[0;34m\u001b[0m\u001b[0m\n\u001b[1;32m    392\u001b[0m         \u001b[0;32melse\u001b[0m\u001b[0;34m:\u001b[0m\u001b[0;34m\u001b[0m\u001b[0;34m\u001b[0m\u001b[0m\n\u001b[0;32m--> 393\u001b[0;31m             \u001b[0mself\u001b[0m\u001b[0;34m.\u001b[0m\u001b[0mraise_invalid_val\u001b[0m\u001b[0;34m(\u001b[0m\u001b[0mv\u001b[0m\u001b[0;34m)\u001b[0m\u001b[0;34m\u001b[0m\u001b[0;34m\u001b[0m\u001b[0m\n\u001b[0m\u001b[1;32m    394\u001b[0m         \u001b[0;32mreturn\u001b[0m \u001b[0mv\u001b[0m\u001b[0;34m\u001b[0m\u001b[0;34m\u001b[0m\u001b[0m\n\u001b[1;32m    395\u001b[0m \u001b[0;34m\u001b[0m\u001b[0m\n",
      "\u001b[0;32m~/Anaconda3/envs/ada/lib/python3.8/site-packages/_plotly_utils/basevalidators.py\u001b[0m in \u001b[0;36mraise_invalid_val\u001b[0;34m(self, v, inds)\u001b[0m\n\u001b[1;32m    275\u001b[0m                 \u001b[0mname\u001b[0m \u001b[0;34m+=\u001b[0m \u001b[0;34m\"[\"\u001b[0m \u001b[0;34m+\u001b[0m \u001b[0mstr\u001b[0m\u001b[0;34m(\u001b[0m\u001b[0mi\u001b[0m\u001b[0;34m)\u001b[0m \u001b[0;34m+\u001b[0m \u001b[0;34m\"]\"\u001b[0m\u001b[0;34m\u001b[0m\u001b[0;34m\u001b[0m\u001b[0m\n\u001b[1;32m    276\u001b[0m \u001b[0;34m\u001b[0m\u001b[0m\n\u001b[0;32m--> 277\u001b[0;31m         raise ValueError(\n\u001b[0m\u001b[1;32m    278\u001b[0m             \"\"\"\n\u001b[1;32m    279\u001b[0m     \u001b[0mInvalid\u001b[0m \u001b[0mvalue\u001b[0m \u001b[0mof\u001b[0m \u001b[0mtype\u001b[0m \u001b[0;34m{\u001b[0m\u001b[0mtyp\u001b[0m\u001b[0;34m}\u001b[0m \u001b[0mreceived\u001b[0m \u001b[0;32mfor\u001b[0m \u001b[0mthe\u001b[0m \u001b[0;34m'{name}'\u001b[0m \u001b[0mproperty\u001b[0m \u001b[0mof\u001b[0m \u001b[0;34m{\u001b[0m\u001b[0mpname\u001b[0m\u001b[0;34m}\u001b[0m\u001b[0;34m\u001b[0m\u001b[0;34m\u001b[0m\u001b[0m\n",
      "\u001b[0;31mValueError\u001b[0m: \n    Invalid value of type 'builtins.str' received for the 'x' property of bar\n        Received value: 'Viet Nam'\n\n    The 'x' property is an array that may be specified as a tuple,\n    list, numpy array, or pandas Series"
     ]
    }
   ],
   "source": [
    "list_countries = ['Viet Nam', 'Afghanistan', 'Laos', 'Cambodia',\n",
    "                 'Azerbaijan', 'Rwanda']\n",
    "onset = [1960, 1978, 1960, 1970, 1991, 1990]\n",
    "pre_data = []\n",
    "post_data = []\n",
    "\n",
    "for c, o in zip(list_countries, onset):\n",
    "    pre, post = imp_number(trade, c, onset=o, buffer=5)\n",
    "    pre_data.append(pre)\n",
    "    post_data.append(post)\n",
    "    \n",
    "\n",
    "fig = go.Figure(data=[\n",
    "    go.Bar(name='Pre onset', x = list_countries[0], y=pre_data),\n",
    "    go.Bar(name='Post onset', x = list_countries[0], y=post_data)\n",
    "])\n",
    "#pre, post = imp_number(trade, c, onset = o, buffer = 5)\n",
    "#fig.add_trace(go.Bar(x=[list_countries[0]], y=[pre]))\n",
    "fig.update_layout(barmode='group')\n",
    "fig.update_yaxes(type=\"log\")\n",
    "\n",
    "fig.update_layout(title='Weapons import in',\n",
    "               xaxis_title='Country',\n",
    "               yaxis_title='Weapon import')\n",
    "\n",
    "\n",
    "button_country = list([dict(\n",
    "                 args = [{\"y\": pre_data[k]},[0]],\n",
    "                 label = list_countries[k],\n",
    "                 method = \"restyle\"\n",
    "                ) for k in range(len(list_countries))])\n",
    "\n",
    "fig.update_layout(\n",
    "    updatemenus=[\n",
    "        go.layout.Updatemenu(\n",
    "            buttons=button_country,\n",
    "            direction=\"down\",\n",
    "            pad={\"r\": 10, \"t\": 10},\n",
    "            showactive=True,\n",
    "            x=0.3,\n",
    "            xanchor=\"left\",\n",
    "            y=1.235,\n",
    "            yanchor=\"top\"\n",
    "        ),\n",
    "    ]\n",
    ")\n",
    "fig.show()"
   ]
  },
  {
   "cell_type": "code",
   "execution_count": null,
   "metadata": {},
   "outputs": [],
   "source": []
  },
  {
   "cell_type": "code",
   "execution_count": null,
   "metadata": {},
   "outputs": [],
   "source": []
  }
 ],
 "metadata": {
  "kernelspec": {
   "display_name": "Python 3",
   "language": "python",
   "name": "python3"
  },
  "language_info": {
   "codemirror_mode": {
    "name": "ipython",
    "version": 3
   },
   "file_extension": ".py",
   "mimetype": "text/x-python",
   "name": "python",
   "nbconvert_exporter": "python",
   "pygments_lexer": "ipython3",
   "version": "3.8.5"
  }
 },
 "nbformat": 4,
 "nbformat_minor": 4
}
