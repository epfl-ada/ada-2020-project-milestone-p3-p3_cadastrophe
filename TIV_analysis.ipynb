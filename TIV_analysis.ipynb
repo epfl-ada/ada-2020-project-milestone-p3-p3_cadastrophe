{
 "cells": [
  {
   "cell_type": "code",
   "execution_count": 58,
   "metadata": {},
   "outputs": [],
   "source": [
    "import numpy as np\n",
    "import pandas as pd\n",
    "import warnings\n",
    "warnings.filterwarnings(\"ignore\")\n",
    "import matplotlib.pyplot as plt"
   ]
  },
  {
   "cell_type": "code",
   "execution_count": 59,
   "metadata": {},
   "outputs": [],
   "source": [
    "def remove_par(df, feat):\n",
    "    df[feat] = df[feat].str.replace('(','')\n",
    "    df[feat] = df[feat].str.replace(')','')\n",
    "    \n",
    "def string2int(df, feat):\n",
    "    df[feat] = df[feat].astype(int)\n",
    "    \n",
    "def polish_trade_feature(df, feat):\n",
    "    remove_par(df, feat)\n",
    "    string2int(df, feat)"
   ]
  },
  {
   "cell_type": "code",
   "execution_count": 60,
   "metadata": {},
   "outputs": [],
   "source": [
    "trade = pd.read_csv(\"trade_reg.csv\",sep='\\t')\n",
    "\n",
    "cols_sambanis = [\"warstds\", \"ager\", \"agexp\", \"anoc\", \"army85\", \"autch98\", \"auto4\",\n",
    "        \"autonomy\", \"avgnabo\", \"centpol3\", \"cowcode\", \"coldwar\", \"decade1\", \"decade2\",\n",
    "        \"decade3\", \"decade4\", \"dem\", \"dem4\", \"demch98\", \"dlang\", \"drel\",\n",
    "        \"durable\", \"ef\", \"ef2\", \"ehet\", \"elfo\", \"elfo2\", \"etdo4590\",\n",
    "        \"expgdp\", \"exrec\", \"fedpol3\", \"fuelexp\", \"gdpgrowth\", \"geo1\", \"geo2\",\n",
    "        \"geo34\", \"geo57\", \"geo69\", \"geo8\", \"illiteracy\", \"incumb\", \"infant\",\n",
    "        \"inst\", \"inst3\", \"life\", \"lmtnest\", \"ln_gdpen\", \"lpopns\", \"major\", \"manuexp\", \"milper\",\n",
    "        \"mirps0\", \"mirps1\", \"mirps2\", \"mirps3\", \"nat_war\", \"ncontig\",\n",
    "        \"nmgdp\", \"nmdp4_alt\", \"numlang\", \"nwstate\", \"oil\", \"p4mchg\",\n",
    "        \"parcomp\", \"parreg\", \"part\", \"partfree\", \"plural\", \"plurrel\",\n",
    "        \"pol4\", \"pol4m\", \"pol4sq\", \"polch98\", \"polcomp\", \"popdense\",\n",
    "        \"presi\", \"pri\", \"proxregc\", \"ptime\", \"reg\", \"regd4_alt\", \"relfrac\", \"seceduc\",\n",
    "        \"second\", \"semipol3\", \"sip2\", \"sxpnew\", \"sxpsq\", \"tnatwar\", \"trade\",\n",
    "        \"warhist\", \"xconst\", \"year\", \"country\"]\n",
    "\n",
    "sambanis = pd.read_csv(\"sambanis_extented.csv\", usecols=cols_sambanis)\n",
    "\n",
    "#keep only the year value for date (drop 1-january, dummy)\n",
    "#sambanis[\"year\"] = pd.DatetimeIndex(sambanis[\"year\"]).year\n",
    "\n",
    "#civil_war contains only the observations with a civil war\n",
    "civil_war = sambanis[sambanis[\"warstds\"]==1]"
   ]
  },
  {
   "cell_type": "code",
   "execution_count": 61,
   "metadata": {},
   "outputs": [],
   "source": [
    "civil_war['year'] = pd.DatetimeIndex(civil_war['year']).year"
   ]
  },
  {
   "cell_type": "code",
   "execution_count": 62,
   "metadata": {},
   "outputs": [
    {
     "data": {
      "text/plain": [
       "33    1978\n",
       "Name: year, dtype: int64"
      ]
     },
     "execution_count": 62,
     "metadata": {},
     "output_type": "execute_result"
    }
   ],
   "source": [
    "civil_war.loc[civil_war[\"country\"]=='Afghanistan'].year.astype(int)\n",
    "\n"
   ]
  },
  {
   "cell_type": "code",
   "execution_count": 63,
   "metadata": {},
   "outputs": [],
   "source": [
    "def imp_number(df, country, onset=None, buffer=5):\n",
    "    if onset == None:\n",
    "        pass\n",
    "    country_imp = df.loc[trade.recipient == country]\n",
    "    polish_trade_feature(country_imp, 'no_ordered')\n",
    "    polish_trade_feature(country_imp, 'year_order')\n",
    "    \n",
    "    \n",
    "    country_imp_pre = country_imp.loc[(country_imp.year_order < onset) & \n",
    "                                (country_imp.year_order > onset - buffer)]\n",
    "    country_imp_post = country_imp.loc[(country_imp.year_order >= onset) & \n",
    "                                (country_imp.year_order < onset + buffer)]\n",
    "    \n",
    "    pre_onset_order = country_imp_pre['no_ordered'].sum()\n",
    "    post_onset_order = country_imp_post['no_ordered'].sum()\n",
    "    \n",
    "    return pre_onset_order, post_onset_order"
   ]
  },
  {
   "cell_type": "code",
   "execution_count": 70,
   "metadata": {},
   "outputs": [
    {
     "data": {
      "text/plain": [
       "0               Angola\n",
       "1              Nigeria\n",
       "2                Congo\n",
       "3        Guinea-Bissau\n",
       "4        United States\n",
       "             ...      \n",
       "18309           Zambia\n",
       "18310           Zambia\n",
       "18311          Liberia\n",
       "18312           Zambia\n",
       "18313           Zambia\n",
       "Name: recipient, Length: 18314, dtype: object"
      ]
     },
     "execution_count": 70,
     "metadata": {},
     "output_type": "execute_result"
    }
   ],
   "source": [
    "trade.recipient"
   ]
  },
  {
   "cell_type": "code",
   "execution_count": 101,
   "metadata": {},
   "outputs": [
    {
     "data": {
      "image/png": "[encoded data removed]",
      "text/plain": [
       "<Figure size 432x288 with 1 Axes>"
      ]
     },
     "metadata": {
      "needs_background": "light"
     },
     "output_type": "display_data"
    }
   ],
   "source": [
    "country = ['Viet Nam', 'Afghanistan', 'Laos', 'Cambodia']\n",
    "onset = [1960, 1978, 1960, 1970]\n",
    "pre_onset = []\n",
    "post_onset = []\n",
    "\n",
    "for c, o in zip(country, onset):\n",
    "    pre, post = imp_number(trade, c, onset = o, buffer = 5)\n",
    "    pre_onset.append(pre)\n",
    "    post_onset.append(post)\n",
    "\n",
    "labels = country\n",
    "\n",
    "\n",
    "x = np.arange(len(labels))  # the label locations\n",
    "width = 0.35  # the width of the bars\n",
    "\n",
    "fig, ax = plt.subplots()\n",
    "rects1 = ax.bar(x - width/2, pre_onset, width, label='Pre')\n",
    "rects2 = ax.bar(x + width/2, post_onset, width, label='Post')\n",
    "\n",
    "# Add some text for labels, title and custom x-axis tick labels, etc.\n",
    "ax.set_yscale('log')\n",
    "ax.set_ylabel('Number of weapons ordered')\n",
    "ax.set_title('Number of ordered weapons before and after onset')\n",
    "ax.set_xticks(x)\n",
    "ax.set_xticklabels(labels)\n",
    "ax.legend()\n",
    "\n",
    "\n",
    "def autolabel(rects):\n",
    "    \"\"\"Attach a text label above each bar in *rects*, displaying its height.\"\"\"\n",
    "    for rect in rects:\n",
    "        height = rect.get_height()\n",
    "        ax.annotate('{}'.format(height),\n",
    "                    xy=(rect.get_x() + rect.get_width() / 2, height),\n",
    "                    xytext=(0, 3),  # 3 points vertical offset\n",
    "                    textcoords=\"offset points\",\n",
    "                    ha='center', va='bottom')\n",
    "\n",
    "\n",
    "autolabel(rects1)\n",
    "autolabel(rects2)\n",
    "\n",
    "fig.tight_layout()\n",
    "\n",
    "plt.show()"
   ]
  },
  {
   "cell_type": "code",
   "execution_count": null,
   "metadata": {},
   "outputs": [],
   "source": []
  }
 ],
 "metadata": {
  "kernelspec": {
   "display_name": "Python 3",
   "language": "python",
   "name": "python3"
  },
  "language_info": {
   "codemirror_mode": {
    "name": "ipython",
    "version": 3
   },
   "file_extension": ".py",
   "mimetype": "text/x-python",
   "name": "python",
   "nbconvert_exporter": "python",
   "pygments_lexer": "ipython3",
   "version": "3.8.3"
  }
 },
 "nbformat": 4,
 "nbformat_minor": 4
}
